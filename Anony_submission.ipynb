{
  "cells": [
    {
      "cell_type": "code",
      "execution_count": 1,
      "metadata": {
        "id": "bJuuhOLnEL-c"
      },
      "outputs": [],
      "source": [
        "%%capture\n",
        "!pip install openai==0.28.1"
      ]
    },
    {
      "cell_type": "code",
      "execution_count": 3,
      "metadata": {
        "id": "qjBrB-ykEP2v"
      },
      "outputs": [],
      "source": [
        "import re,ast, os\n",
        "import openai\n",
        "import numpy as np\n",
        "import time\n",
        "!cp -r '/content/drive/MyDrive/OntologyDevelopment' '/content'\n",
        "from OntologyDevelopment.CQbyCQ import cqbycq_prompt\n",
        "from OntologyDevelopment.stories import Datasets\n",
        "from OntologyDevelopment.Zeroshot import zero_shot\n",
        "from OntologyDevelopment.waterfall import DecomposedPromtingWaterfall\n",
        "\n",
        "def chat_with_gpt(prompt_text,temp = 0,penalty = 0):\n",
        "    # print(prompt_text)\n",
        "    # print('\\n\\n\\n')\n",
        "    # input()\n",
        "    # return open('input.txt').read()\n",
        "    openai.api_type = \"\"\n",
        "    openai.api_base = \"\"\n",
        "    openai.api_version = \"\"\n",
        "    openai.api_key = \"\"\n",
        "    response = openai.ChatCompletion.create(\n",
        "      engine=  \"\",\n",
        "      messages = [{\"role\":\"system\",\"content\":prompt_text}],\n",
        "      temperature=temp,\n",
        "      # max_tokens=20000, #*********\n",
        "      top_p=0,\n",
        "      frequency_penalty=penalty,\n",
        "      presence_penalty=penalty,\n",
        "      stop=None)\n",
        "    return response['choices'][0]['message']['content']\n",
        "\n",
        "def write_to_log(message, logfile='logfile.log', separator='**********************************\\n\\n*************************\\n'):\n",
        "    with open(logfile, 'a') as f:\n",
        "        f.write(message + '\\n')\n",
        "        f.write(separator)\n",
        "def delete_logfile():\n",
        "  try:\n",
        "    file_path = \"logfile.log\"\n",
        "    if os.path.exists(file_path):\n",
        "        os.remove(file_path)\n",
        "  except:\n",
        "    pass\n",
        "def find_last_step(text):\n",
        "    steps = re.findall(r'Step (\\d+):', text)\n",
        "    return int(steps[-1]) if steps else 10"
      ]
    },
    {
      "cell_type": "markdown",
      "metadata": {
        "id": "yg7geja7LLH_"
      },
      "source": [
        "# cq by cq"
      ]
    },
    {
      "cell_type": "code",
      "execution_count": null,
      "metadata": {
        "id": "RFpPA6KpPB3j"
      },
      "outputs": [],
      "source": [
        "def cqbycq(story,cqs,sleep = 3):\n",
        "  rdf = ''\n",
        "  for i in range(len(cqs)):\n",
        "    print('doing cq #',i+1)\n",
        "    rdf = chat_with_gpt(cqbycq_prompt.format(story = story,CQ = cqs[i],rdf = rdf))\n",
        "    write_to_log(rdf)\n",
        "    if i < len(cqs) - 1:\n",
        "      time.sleep(sleep)\n",
        "  write_to_log('final output of cqbycq')\n",
        "  write_to_log(rdf)\n",
        "  return rdf"
      ]
    },
    {
      "cell_type": "code",
      "execution_count": null,
      "metadata": {
        "id": "V7KrAaFMEP55"
      },
      "outputs": [],
      "source": [
        "stories = Datasets()\n",
        "\n",
        "write_to_log('toy story 1')\n",
        "S1,CQs1 = stories.toystory1, stories.toystory1_cqs\n",
        "cqbycq(S1,CQs1,sleep = 0)\n",
        "\n",
        "write_to_log('toy story 2')\n",
        "S1,CQs1 = stories.toystory2, stories.toystory2_cqs\n",
        "cqbycq(S1,CQs1,sleep = 0)\n",
        "\n",
        "\n",
        "write_to_log('toy story 3')\n",
        "S1,CQs1 = stories.toystory3, stories.toystory3_cqs\n",
        "cqbycq(S1,CQs1,sleep = 10)"
      ]
    },
    {
      "cell_type": "markdown",
      "metadata": {
        "id": "WLoU5scHLPFD"
      },
      "source": [
        "# Decomposed Prompting:\n",
        "## ZeroShot"
      ]
    },
    {
      "cell_type": "code",
      "execution_count": null,
      "metadata": {
        "id": "2KN0divxGN7w"
      },
      "outputs": [],
      "source": [
        "stories = Datasets()\n",
        "\n",
        "write_to_log('toy story 1')\n",
        "S1,CQs1 = stories.toystory1, stories.toystory1_cqs\n",
        "res = chat_with_gpt(zero_shot.format(story = S1+'competency questions are:\\n'+'\\n'.join(CQs1)))\n",
        "write_to_log(res)\n",
        "\n",
        "\n",
        "write_to_log('toy story 2')\n",
        "S1,CQs1 = stories.toystory2, stories.toystory2_cqs\n",
        "res = chat_with_gpt(zero_shot.format(story = S1+'competency questions are:\\n'+'\\n'.join(CQs1)))\n",
        "write_to_log(res)\n",
        "\n",
        "\n",
        "write_to_log('toy story 3')\n",
        "S1,CQs1 = stories.toystory3, stories.toystory3_cqs\n",
        "res = chat_with_gpt(zero_shot.format(story = S1+'competency questions are:\\n'+'\\n'.join(CQs1)))\n",
        "write_to_log(res)\n"
      ]
    },
    {
      "cell_type": "markdown",
      "metadata": {
        "id": "DlmvA2bLWwV8"
      },
      "source": [
        "## waterfall"
      ]
    },
    {
      "cell_type": "code",
      "execution_count": null,
      "metadata": {
        "id": "9FTKHwrT-mku"
      },
      "outputs": [],
      "source": [
        "stories = Datasets()\n",
        "\n",
        "write_to_log('toy story 1')\n",
        "S1,CQs1 = stories.toystory3, stories.toystory3_cqs\n",
        "\n",
        "waterfall = DecomposedPromtingWaterfall()\n",
        "answer = chat_with_gpt(waterfall.prompt(1,story=S1,cqs=CQs1))\n",
        "write_to_log(answer);time.sleep(5)\n",
        "rdf    = chat_with_gpt(waterfall.prompt(2,story=S1,cqs=CQs1,previous_answer=answer))\n",
        "write_to_log(rdf);time.sleep(5)\n",
        "rdf    = chat_with_gpt(waterfall.prompt(3,rdf=rdf,story=S1,cqs=CQs1,previous_answer=answer))\n",
        "write_to_log(rdf);time.sleep(5)\n",
        "rdf    = rdf + chat_with_gpt(waterfall.prompt(4,rdf=rdf,story=S1,cqs=CQs1,previous_answer=answer))\n",
        "write_to_log(rdf);time.sleep(5)\n",
        "rdf    = rdf + chat_with_gpt(waterfall.prompt(5,rdf=rdf,story=S1,cqs=CQs1,previous_answer=answer))\n",
        "write_to_log(rdf)\n"
      ]
    },
    {
      "cell_type": "markdown",
      "metadata": {
        "id": "fgXuNo_M0B80"
      },
      "source": [
        "# Chain of Thoughts\n"
      ]
    },
    {
      "cell_type": "code",
      "execution_count": null,
      "metadata": {
        "id": "SKDYZH3576Iy"
      },
      "outputs": [],
      "source": [
        "stories = Datasets()\n",
        "S1,CQs1 = stories.toystory1, stories.toystory1_cqs\n",
        "S2,CQs2 = stories.toystory2, stories.toystory2_cqs\n",
        "S3,CQs3 = stories.toystory3, stories.toystory3_cqs\n",
        "\n",
        "prompt_text = '''\n",
        "Your task is to contribute in creation of a well-structured ontology informations that appeared in the given story, requirements, and restrictions (if there are any). You should only provide steps to solve this task not actually solving it. Imagin yourself as a prompter of chatGPT and we want to use chain of thoughts. So in this step only create a plan or steps to solve the task. the way you approach this is that you create only a code block in the output that contains a list of strings. Each string in the list is a plan or thought. the first string is the first thought and so on. do not output any other comment or explanation. here are some definisions of ontology components to help you understand the problem in a better way:\n",
        "Classes are the keywords/classes that are going to be node types in the knowledge graph ontology. try to extract all classes, in addition, classes are also can be defined for reification. We use Turtle Syntax for representation. Hierarchies are rdfs:subClassOf in the turtle syntax. They can be used to classify similar classes in one superclass. To do this you can find similar nodes and create/use a class as their parent class, for example, adding the node \"Cl_employee\" is a good middleware and superclass for \"Cl_Professors\" and \"Cl_Administrator\" if the story is about modeling ontology of a university. Mostly the lengthier the hierarchy the better. One way can be categorizing classes into several classes and creating superclasses for them. Important: Class names have Cl_ as the prefix for example Cl_Professors. Also keep in mind you can add Equivalent To, General class axioms, Disjoint with, and Disjoint Union of, for each class.\n",
        "In your ontology modeling, for each competency question, when faced with complex scenarios that involve more than two entities or a combination of entities and datatypes, apply reification. Specifically, create a pivot class to act as an intermediary for these entities, ensuring the nuanced relationships are accurately captured. For instance, when representing \"a user accessed a resource at a given time\", establish a pivot class like Cl_UserResourceUsage, linked from the user, resource, and the specific time of access to Cl_UserResourceInteraction, rather than directly connecting the user to both the resource and time.\n",
        "Then you need to create properties (owl:Property). In this step, you use classes from the previous stage and create object and data properties to connect them and establish the ontology. Always output a turtle syntax, if you need more classes to model a competency question between more than 2 concepts, feel free to add more pivot (reification) classes here. try to find as much relation as possible by reading competency questions, restrictions, and stories. At this stage, you can create both data and object properties. Data properties are between classes or hierarchy classes and data types such as xsd:string, xsd:integer, xsd:decimal, xsd:dateTime, xsd:date, xsd:time, xsd:boolean, xsd:byte, xsd:double, xsd:float and etc. For example, in the university domain, we have: employee_id a owl:Property ; rdfs:domain :cl_teacher ; rdfs:range xsd:integer. Object properties are between classes. try to find as much relation as possible by reading competency questions and the story. Feel free to use rdfs:subPropertyOf for creating hierarchies for relations. For modeling properties (object or data properties) if it is necessary, use these relations characteristics: Functional, Inverse functional, Transitive, Symmetric, Asymmetric, Reflexive, and Irreflexive. Also, you are flexible in domain and range so you can use Cl_class1 or Cl_class2 in domain and range or disjoint with, the inverse of between relations.\n",
        "Your output at this stage is a plan. like step 1, step 2, ... step n (max 10 steps). dont create the ontology at this stage. after this stage i will give you 'next' in the chat and you create a code plus a small plan for the next step. when the last step executed, the final output be the final owl ontology that models the story with its restirictions and be able to answer the competency questions. Plan steps must be in a python list of string like: ['step1','step2',...]\n",
        "these are the prifixes:\n",
        "@prefix : <http://www.example.org/test#> .\n",
        "@prefix rdf: <http://www.w3.org/1999/02/22-rdf-syntax-ns#> .\n",
        "@prefix rdfs: <http://www.w3.org/2000/01/rdf-schema#> .\n",
        "@prefix xsd: <http://www.w3.org/2001/XMLSchema#> .\n",
        "Important: your output should be only owl turtle. Don't write any explanation before the code block or after. Also the code must have 0 comments.\n",
        "end of footer\n",
        "here is one story to know how they look like:\n",
        "{story}\n",
        "'''"
      ]
    },
    {
      "cell_type": "code",
      "execution_count": null,
      "metadata": {
        "id": "vKvZPEO_0Eue"
      },
      "outputs": [],
      "source": [
        "delete_logfile()\n",
        "\n",
        "\n",
        "def CoT(prompt_text,S,CQs,short_it=False):\n",
        "  prompt_text= prompt_text.format(story=S+'\\n'.join(CQs))\n",
        "  write_to_log('chain of thoughts')\n",
        "  plan = chat_with_gpt(prompt_text)\n",
        "  write_to_log(str(plan))\n",
        "  History = prompt_text + '\\n GPT:' + str(plan) + 'Prompt:\\n'\n",
        "  plan_len = find_last_step(plan)\n",
        "  for i in range(plan_len):\n",
        "    print('step in process: ',i+1)\n",
        "    next_promt = f'now perform only step {i+1} of this plan by providing its code (turtule syntax)'\n",
        "    History = History + next_promt\n",
        "    time.sleep(5)\n",
        "    #### short it for gpt3? ###\n",
        "      #if the context is long for the model, we short it here, to be implemented ...\n",
        "    #######################\n",
        "    respond = chat_with_gpt(History)\n",
        "    write_to_log(respond)\n",
        "    History = History + '\\n GPT:'+ respond + 'Prompt:\\n'\n",
        "  respond = chat_with_gpt(History+'\\n Now give the final output of this plan:')\n",
        "  write_to_log(str(respond))\n",
        "  return respond\n",
        "\n",
        "# rdf1 = CoT(prompt_text,S1,CQs1)\n",
        "# rdf2 = CoT(prompt_text,S2,CQs2)\n",
        "# rdf3 = CoT(prompt_text,S3,CQs3)\n"
      ]
    },
    {
      "cell_type": "markdown",
      "metadata": {
        "id": "GXYu5BqvoIhg"
      },
      "source": [
        "## Main Experiment"
      ]
    },
    {
      "cell_type": "code",
      "execution_count": null,
      "metadata": {
        "colab": {
          "base_uri": "https://localhost:8080/"
        },
        "id": "QoL-_inBoLPn",
        "outputId": "d2b811f5-daf7-4d25-97a4-804356130258"
      },
      "outputs": [
        {
          "output_type": "stream",
          "name": "stdout",
          "text": [
            "step in process:  1\n",
            "step in process:  2\n",
            "step in process:  3\n",
            "step in process:  4\n",
            "step in process:  5\n",
            "step in process:  6\n",
            "step in process:  7\n",
            "step in process:  8\n",
            "step in process:  9\n",
            "step in process:  10\n",
            "step in process:  1\n",
            "step in process:  2\n",
            "step in process:  3\n",
            "step in process:  4\n",
            "step in process:  5\n",
            "step in process:  6\n",
            "step in process:  7\n",
            "step in process:  8\n",
            "step in process:  9\n",
            "step in process:  10\n",
            "step in process:  1\n",
            "step in process:  2\n",
            "step in process:  3\n",
            "step in process:  4\n",
            "step in process:  5\n",
            "step in process:  6\n",
            "step in process:  7\n",
            "step in process:  8\n",
            "step in process:  9\n",
            "step in process:  10\n"
          ]
        }
      ],
      "source": [
        "stories = Datasets()\n",
        "S,CQs = stories.story_theatre,stories.story_theatre_cqs\n",
        "delete_logfile()\n",
        "\n",
        "write_to_log('hospital_story')\n",
        "\n",
        "\n",
        "rdf1 = CoT(prompt_text,S,CQs)\n",
        "rdf2 = CoT(prompt_text,S,CQs)\n",
        "rdf3 = CoT(prompt_text,S,CQs)\n"
      ]
    },
    {
      "cell_type": "code",
      "execution_count": null,
      "metadata": {
        "colab": {
          "base_uri": "https://localhost:8080/",
          "height": 143
        },
        "id": "bsHJ0RSGoLSb",
        "outputId": "de76c809-5381-4d85-f0b6-7fe648455ef4"
      },
      "outputs": [
        {
          "output_type": "execute_result",
          "data": {
            "text/plain": [
              "'```turtle\\n@prefix : <http://www.example.org/test#> .\\n@prefix rdf: <http://www.w3.org/1999/02/22-rdf-syntax-ns#> .\\n@prefix rdfs: <http://www.w3.org/2000/01/rdf-schema#> .\\n@prefix xsd: <http://www.w3.org/2001/XMLSchema#> .\\n@prefix owl: <http://www.w3.org/2002/07/owl#> .\\n\\n:Cl_Theatre a rdfs:Class .\\n:Cl_Festival a rdfs:Class .\\n:Cl_Play a rdfs:Class .\\n:Cl_Actor a rdfs:Class .\\n:Cl_Role a rdfs:Class .\\n:Cl_Production a rdfs:Class ;\\n    rdfs:subClassOf [\\n        a owl:Restriction ;\\n        owl:onProperty :hasPremier ;\\n        owl:cardinality \"1\"^^xsd:nonNegativeInteger\\n    ] .\\n:Cl_City a rdfs:Class .\\n:Cl_Country a rdfs:Class .\\n:Cl_Author a rdfs:Class .\\n:Cl_Newspaper a rdfs:Class .\\n:Cl_Review a rdfs:Class .\\n\\n:Cl_TheatreInstitute a rdfs:Class ;\\n    rdfs:subClassOf :Cl_Theatre .\\n:Cl_GrandTheatre a rdfs:Class ;\\n    rdfs:subClassOf :Cl_Theatre .\\n:Cl_ItalianActor a rdfs:Class ;\\n    rdfs:subClassOf :Cl_Actor .\\n:Cl_GuestActor a rdfs:Class ;\\n    rdfs:subClassOf :Cl_Actor .\\n\\n:hasLocation a rdf:Property ;\\n    rdfs:domain :Cl_Theatre ;\\n    rdfs:range :Cl_City .\\n:hasPlay a rdf:Property ;\\n    rdfs:domain :Cl_Theatre ;\\n    rdfs:range :Cl_Play .\\n:hasActor a rdf:Property ;\\n    rdfs:domain :Cl_Play ;\\n    rdfs:range :Cl_Actor .\\n:hasRole a rdf:Property ;\\n    rdfs:domain :Cl_PersonRoleProductionTime ;\\n    rdfs:range :Cl_Role .\\n:hasPremier a rdf:Property ;\\n    rdfs:range xsd:date .\\n:hasReview a rdf:Property .\\n:hasRating a rdf:Property ;\\n    rdfs:range xsd:integer .\\n:hasEmploymentDate a rdf:Property ;\\n    rdfs:range xsd:date .\\n:hasAuthor a rdf:Property ;\\n    rdfs:domain :Cl_Play ;\\n    rdfs:range :Cl_Author .\\n\\n:Cl_PersonRoleProductionTime a rdfs:Class .\\n\\n:hasPerson a rdf:Property ;\\n    rdfs:domain :Cl_PersonRoleProductionTime ;\\n    rdfs:range :Cl_Actor .\\n\\n:hasProduction a rdf:Property ;\\n    rdfs:domain :Cl_PersonRoleProductionTime ;\\n    rdfs:range :Cl_Production .\\n\\n:hasTime a rdf:Property ;\\n    rdfs:domain :Cl_PersonRoleProductionTime ;\\n    rdfs:range xsd:date .\\n\\n:Cl_TheatreInstitute owl:equivalentClass :Cl_Theatre .\\n:Cl_GrandTheatre owl:equivalentClass :Cl_Theatre .\\n\\n:Cl_ItalianActor owl:disjointWith :Cl_GuestActor .\\n\\n:Cl_Play rdfs:subClassOf [\\n    a owl:Class ;\\n    owl:unionOf (:Cl_Production :Cl_Role)\\n] .\\n```'"
            ],
            "application/vnd.google.colaboratory.intrinsic+json": {
              "type": "string"
            }
          },
          "metadata": {},
          "execution_count": 22
        }
      ],
      "source": [
        "rdf1"
      ]
    },
    {
      "cell_type": "code",
      "execution_count": null,
      "metadata": {
        "colab": {
          "base_uri": "https://localhost:8080/",
          "height": 143
        },
        "id": "ZFyvwFCIoLVK",
        "outputId": "8057e56d-af37-49fb-f92c-be6478e34fb1"
      },
      "outputs": [
        {
          "output_type": "execute_result",
          "data": {
            "text/plain": [
              "'```turtle\\n@prefix : <http://www.example.org/test#> .\\n@prefix rdf: <http://www.w3.org/1999/02/22-rdf-syntax-ns#> .\\n@prefix rdfs: <http://www.w3.org/2000/01/rdf-schema#> .\\n@prefix xsd: <http://www.w3.org/2001/XMLSchema#> .\\n@prefix owl: <http://www.w3.org/2002/07/owl#> .\\n\\n:Cl_Theatre a rdfs:Class .\\n:Cl_Festival a rdfs:Class .\\n:Cl_Play a rdfs:Class .\\n:Cl_Actor a rdfs:Class .\\n:Cl_Role a rdfs:Class .\\n:Cl_Production a rdfs:Class ;\\n    rdfs:subClassOf [\\n        a owl:Restriction ;\\n        owl:onProperty :hasPremier ;\\n        owl:cardinality \"1\"^^xsd:nonNegativeInteger\\n    ] .\\n:Cl_Review a rdfs:Class .\\n:Cl_City a rdfs:Class .\\n:Cl_Country a rdfs:Class .\\n:Cl_GrandTheatre a rdfs:Class ;\\n    rdfs:subClassOf :Cl_Theatre .\\n:Cl_PisaTheatre a rdfs:Class ;\\n    rdfs:subClassOf :Cl_Theatre .\\n:Cl_VeniceTheatre a rdfs:Class ;\\n    rdfs:subClassOf :Cl_Theatre .\\n:Cl_ActorRole a rdfs:Class .\\n\\n:hasLocation a rdf:Property ;\\n    rdfs:domain :Cl_Theatre ;\\n    rdfs:range :Cl_City .\\n:hasPlay a rdf:Property ;\\n    rdfs:domain :Cl_Festival ;\\n    rdfs:range :Cl_Play .\\n:hasActor a rdf:Property ;\\n    rdfs:domain :Cl_ActorRole ;\\n    rdfs:range :Cl_Actor .\\n:hasRole a rdf:Property ;\\n    rdfs:domain :Cl_ActorRole ;\\n    rdfs:range :Cl_Role .\\n:hasReview a rdf:Property ;\\n    rdfs:domain :Cl_Production ;\\n    rdfs:range :Cl_Review .\\n:hasPremier a rdf:Property ;\\n    rdfs:domain :Cl_Production ;\\n    rdfs:range xsd:dateTime .\\n:hasRating a rdf:Property ;\\n    rdfs:domain :Cl_Review ;\\n    rdfs:range xsd:integer .\\n:hasProduction a rdf:Property ;\\n    rdfs:domain :Cl_ActorRole ;\\n    rdfs:range :Cl_Production .\\n```'"
            ],
            "application/vnd.google.colaboratory.intrinsic+json": {
              "type": "string"
            }
          },
          "metadata": {},
          "execution_count": 23
        }
      ],
      "source": [
        "rdf2"
      ]
    },
    {
      "cell_type": "code",
      "execution_count": null,
      "metadata": {
        "colab": {
          "base_uri": "https://localhost:8080/",
          "height": 143
        },
        "id": "4pLzA7h3oLX5",
        "outputId": "d359bb99-7f5d-4435-f479-e6cc383cd4a9"
      },
      "outputs": [
        {
          "output_type": "execute_result",
          "data": {
            "text/plain": [
              "'```turtle\\n@prefix : <http://www.example.org/test#> .\\n@prefix rdf: <http://www.w3.org/1999/02/22-rdf-syntax-ns#> .\\n@prefix rdfs: <http://www.w3.org/2000/01/rdf-schema#> .\\n@prefix xsd: <http://www.w3.org/2001/XMLSchema#> .\\n@prefix owl: <http://www.w3.org/2002/07/owl#> .\\n\\n:Cl_Theatre a rdfs:Class .\\n:Cl_Festival a rdfs:Class .\\n:Cl_Play a rdfs:Class .\\n:Cl_Actor a rdfs:Class .\\n:Cl_Role a rdfs:Class .\\n:Cl_Production a rdfs:Class .\\n:Cl_Review a rdfs:Class .\\n:Cl_City a rdfs:Class .\\n:Cl_Country a rdfs:Class .\\n\\n:Cl_Theatre rdfs:subClassOf :Cl_City .\\n:Cl_Festival rdfs:subClassOf :Cl_City .\\n:Cl_Play rdfs:subClassOf :Cl_Production .\\n:Cl_Actor rdfs:subClassOf :Cl_Role .\\n\\n:hasLocation a rdf:Property ;\\n    rdfs:domain :Cl_Theatre ;\\n    rdfs:range xsd:string .\\n:hasPlay a rdf:Property ;\\n    rdfs:domain :Cl_Production ;\\n    rdfs:range :Cl_Play .\\n:hasActor a rdf:Property ;\\n    rdfs:domain :Cl_Production ;\\n    rdfs:range :Cl_Actor .\\n:hasRole a rdf:Property ;\\n    rdfs:domain :Cl_Actor ;\\n    rdfs:range :Cl_Role .\\n:hasReview a rdf:Property ;\\n    rdfs:domain :Cl_Production ;\\n    rdfs:range :Cl_Review .\\n:hasPremier a rdf:Property ;\\n    rdfs:domain :Cl_Production ;\\n    rdfs:range xsd:date .\\n:hasRating a rdf:Property ;\\n    rdfs:domain :Cl_Review ;\\n    rdfs:range xsd:integer .\\n\\n:Cl_Production rdfs:subClassOf [\\n    a owl:Restriction ;\\n    owl:onProperty :hasPremier ;\\n    owl:cardinality 1\\n] .\\n\\n:Cl_ActorRole a rdfs:Class .\\n```'"
            ],
            "application/vnd.google.colaboratory.intrinsic+json": {
              "type": "string"
            }
          },
          "metadata": {},
          "execution_count": 24
        }
      ],
      "source": [
        "rdf3"
      ]
    },
    {
      "cell_type": "code",
      "execution_count": null,
      "metadata": {
        "id": "i4zAQFbkoLa2"
      },
      "outputs": [],
      "source": []
    },
    {
      "cell_type": "code",
      "execution_count": null,
      "metadata": {
        "id": "Ojv8Dt83oLdZ"
      },
      "outputs": [],
      "source": []
    },
    {
      "cell_type": "markdown",
      "metadata": {
        "id": "1l9BO8NvBQzm"
      },
      "source": [
        "# Tree of Thoughts"
      ]
    },
    {
      "cell_type": "code",
      "execution_count": null,
      "metadata": {
        "id": "Lv6r37wkBQWG"
      },
      "outputs": [],
      "source": [
        "stories = Datasets()\n",
        "S1,CQs1 = stories.toystory1, stories.toystory1_cqs\n",
        "S2,CQs2 = stories.toystory2, stories.toystory2_cqs\n",
        "S3,CQs3 = stories.toystory3, stories.toystory3_cqs\n",
        "S,CQs = stories.story_theatre,stories.story_theatre_cqs\n",
        "\n",
        "Story = S3+'\\n'.join(CQs3)\n",
        "\n",
        "treeOfT='''Your task is to contribute in creation of a well-structured ontology informations that appeared in the given story, requirements, and restrictions (if there are any). You should only provide few diffierent plans that each contains steps to solve this task not actually solving it. Imagin yourself as a prompter of chatGPT and we want to use tree of thoughts. So in this step only create few plans with steps to solve the task. the way you approach this is that you create only a code block in the output that contains a list of  list of strings. Each list is a different plan to solve the problem from step 1 to end, and each string in every list is a thought. the first string is the first thought/step and so on. do not output any other comment or explanation. here are some definisions of ontology components to help you understand the problem in a better way:\n",
        "CClasses are the keywords/classes that are going to be node types in the knowledge graph ontology. try to extract all classes, in addition, classes are also can be defined for reification. We use Turtle Syntax for representation. Hierarchies are rdfs:subClassOf in the turtle syntax. They can be used to classify similar classes in one superclass. To do this you can find similar nodes and create/use a class as their parent class, for example, adding the node \"Cl_employee\" is a good middleware and superclass for \"Cl_Professors\" and \"Cl_Administrator\" if the story is about modeling ontology of a university. Mostly the lengthier the hierarchy the better. One way can be categorizing classes into several classes and creating superclasses for them. Important: Class names have Cl_ as the prefix for example Cl_Professors. Also keep in mind you can add Equivalent To, General class axioms, Disjoint with, and Disjoint Union of, for each class.\n",
        "In your ontology modeling, for each competency question, when faced with complex scenarios that involve more than two entities or a combination of entities and datatypes, apply reification. Specifically, create a pivot class to act as an intermediary for these entities, ensuring the nuanced relationships are accurately captured. For instance, when representing \"a user accessed a resource at a given time\", establish a pivot class like Cl_UserResourceUsage, linked from the user, resource, and the specific time of access to Cl_UserResourceInteraction, rather than directly connecting the user to both the resource and time.\n",
        "Then you need to create properties (owl:Property). In this step, you use classes from the previous stage and create object and data properties to connect them and establish the ontology. Always output a turtle syntax, if you need more classes to model a competency question between more than 2 concepts, feel free to add more pivot (reification) classes here. try to find as much relation as possible by reading competency questions, restrictions, and stories. At this stage, you can create both data and object properties. Data properties are between classes or hierarchy classes and data types such as xsd:string, xsd:integer, xsd:decimal, xsd:dateTime, xsd:date, xsd:time, xsd:boolean, xsd:byte, xsd:double, xsd:float and etc. For example, in the university domain, we have: employee_id a owl:Property ; rdfs:domain :cl_teacher ; rdfs:range xsd:integer. Object properties are between classes. try to find as much relation as possible by reading competency questions and the story. Feel free to use rdfs:subPropertyOf for creating hierarchies for relations. For modeling properties (object or data properties) if it is necessary, use these relations characteristics: Functional, Inverse functional, Transitive, Symmetric, Asymmetric, Reflexive, and Irreflexive. Also, you are flexible in domain and range so you can use Cl_class1 or Cl_class2 in domain and range or disjoint with, the inverse of between relations.\n",
        "\n",
        "Your output at this stage is a list of three different plans (make sure they solve the problem with different prespectives). Each plan contain a list like step 1, step 2, ... step n. dont create the ontology at this stage. after this stage i will give you 'plan x, next' in the chat and you perform the next step from plan x only (dont pay attention to the other plans). create a code plus a small plan for the next step. when the last step executed, the final output be the final owl ontology that models the story with its restirictions and be able to answer the competency questions. We will later compare the results of the owl files with 'merge' commands at the end (at this stage you need to see them and create a one owl file based on them, it would be like you see the answers of few different ontologist and based on your opinion pick or craete one from them), so dont compare untill the command.\n",
        "these are the prifixes:\n",
        "@prefix : <http://www.example.org/test#> .\n",
        "@prefix rdf: <http://www.w3.org/1999/02/22-rdf-syntax-ns#> .\n",
        "@prefix rdfs: <http://www.w3.org/2000/01/rdf-schema#> .\n",
        "@prefix xsd: <http://www.w3.org/2001/XMLSchema#> .\n",
        "Important: your output should be only owl turtle. Don't write any explanation before the code block or after. Also the code must have 0 comments.\n",
        "end of footer\n",
        "Common mistake:\n",
        "1- plans are identical, try to think differently when generating plans. For producing different plans, you can take three of these approaches and create plans based on them:Bottom-Up Plan, Top-Down Plan,,Agile Plan, Waterfall Plan, Incremental Plan, Spiral Plan, Prototype Plan, Evolutionary Plan, RAD (Rapid Application Development) Plan, Scrum Plan\n",
        "2- important: when i ask to execute plan x, step y, your output at executing steps must be only codes not explanations.\n",
        "3- producing output not based on the story and its competency questions\n",
        "here is one story to know what they look like (The final ontology is about this story and its competency questions):\n",
        "{story}\n",
        "End of story\n",
        "\n",
        "'''"
      ]
    },
    {
      "cell_type": "code",
      "execution_count": null,
      "metadata": {
        "colab": {
          "base_uri": "https://localhost:8080/"
        },
        "id": "lGycv1lQYKOr",
        "outputId": "c143b9ef-ea86-4d18-dc3a-0b861feb87bb"
      },
      "outputs": [
        {
          "name": "stdout",
          "output_type": "stream",
          "text": [
            "[\n",
            "  [\n",
            "    \"Plan 1:\",\n",
            "    \"Step 1: Identify the main classes in the story\",\n",
            "    \"Step 2: Create a hierarchy of classes based on their relationships\",\n",
            "    \"Step 3: Define object properties to connect the classes\",\n",
            "    \"Step 4: Define data properties for additional information\",\n",
            "    \"Step 5: Add restrictions and characteristics to the properties\"\n",
            "  ],\n",
            "  [\n",
            "    \"Plan 2:\",\n",
            "    \"Step 1: Identify the main classes in the story\",\n",
            "    \"Step 2: Create a hierarchy of classes based on their relationships\",\n",
            "    \"Step 3: Define object properties to connect the classes\",\n",
            "    \"Step 4: Define data properties for additional information\",\n",
            "    \"Step 5: Add restrictions and characteristics to the properties\"\n",
            "    \n",
            "  \n",
            "],\n",
            "[\n",
            "  \t\"Plan3:\",\n",
            "  \t\"step1 : identify all possible classess from given story.\",\n",
            "  \t\"step2 : create hierarchies between similar classess.\",\n",
            "  \t\"step3 : define object property between related classess.\",\n",
            "  \t\"step4 : define data property for additional information.\",\n",
            "  \t\"step5 : add restrictions and characteristics to classess,object and data property.\"\n",
            "]\n",
            "]\n"
          ]
        }
      ],
      "source": [
        "delete_logfile()\n",
        "plans = chat_with_gpt(treeOfT.format(story=Story),temp = 0.5,penalty=0.5)\n",
        "# plans = chat_with_gpt(treeOfT.format(story=S+'\\n'.join(CQs)))\n",
        "print(plans)\n",
        "\n",
        "# plans"
      ]
    },
    {
      "cell_type": "code",
      "execution_count": null,
      "metadata": {
        "colab": {
          "base_uri": "https://localhost:8080/"
        },
        "id": "fm8XmxFfIVRJ",
        "outputId": "15e28971-aca2-45d0-f426-d4451713bac0"
      },
      "outputs": [
        {
          "name": "stdout",
          "output_type": "stream",
          "text": [
            "plan in process:  1\n",
            "plan in process: 1 step #1\n",
            "plan in process: 1 step #2\n",
            "plan in process: 1 step #3\n",
            "plan in process: 1 step #4\n",
            "plan in process: 1 step #5\n",
            "plan in process:  2\n",
            "plan in process: 2 step #1\n",
            "plan in process: 2 step #2\n",
            "plan in process: 2 step #3\n",
            "plan in process: 2 step #4\n",
            "plan in process: 2 step #5\n",
            "plan in process:  3\n",
            "plan in process: 3 step #1\n",
            "plan in process: 3 step #2\n",
            "plan in process: 3 step #3\n",
            "plan in process: 3 step #4\n",
            "plan in process: 3 step #5\n"
          ]
        }
      ],
      "source": [
        "results = []\n",
        "delete_logfile()\n",
        "count_error = 0\n",
        "len_plan = [5,5,5] 1/0\n",
        "for i in [0,1,2]:\n",
        "  print('plan in process: ',i+1)\n",
        "  plan = plans[i]\n",
        "  History = treeOfT.format(story=Story) + '\\nNow here are the plans you created, in the following, we ask you which step to perform' +\\\n",
        "   'GPT output (plans and steps):' +  '\\nplan 1: ' + '\\n'.join(plans[0]) + '\\nplan 2: ' + '\\n'.join(plans[1]) + '\\nplan 3: ' + '\\n'.join(plans[2])\n",
        "  for j in range(len_plan[i]):\n",
        "    try: #if any error happend\n",
        "\n",
        "\n",
        "\n",
        "      print(f'plan in process: {i+1} step #{j+1}')\n",
        "      time.sleep(5)\n",
        "      History += f'\\nUser command: Now perform/execute plan {i+1}, step {j+1} by providing the code (turtle syntax) of this step (you must output a code only)'\n",
        "      output = chat_with_gpt(History)\n",
        "      # print(output)\n",
        "      History = History + '\\nGPT:'+output+'\\n'\n",
        "      write_to_log(output)\n",
        "\n",
        "\n",
        "\n",
        "    except:\n",
        "      print('some error, we try again')\n",
        "      count_error += 1\n",
        "      if count_error > 2:\n",
        "        1/0\n",
        "      j = j - 1\n",
        "      continue\n",
        "\n",
        "  output = chat_with_gpt(History+f'\\nUser command: Now what is the final code output of plan {i+1}  (use turtle syntax and combine all steps into one output), dont miss anything')\n",
        "  results.append(output)\n",
        "  write_to_log(History)\n",
        "  write_to_log(output)\n"
      ]
    },
    {
      "cell_type": "code",
      "execution_count": null,
      "metadata": {
        "colab": {
          "base_uri": "https://localhost:8080/"
        },
        "id": "VRbKykKGGpMl",
        "outputId": "04207ad6-d310-4c43-c643-f480933250ac"
      },
      "outputs": [
        {
          "name": "stdout",
          "output_type": "stream",
          "text": [
            "*******************\n",
            "output of plan 1:\n",
            "@prefix : <http://www.example.org/test#> .\n",
            "@prefix rdf: <http://www.w3.org/1999/02/22-rdf-syntax-ns#> .\n",
            "@prefix rdfs: <http://www.w3.org/2000/01/rdf-schema#> .\n",
            "@prefix xsd: <http://www.w3.org/2001/XMLSchema#> .\n",
            "\n",
            "# Step 1: Define classes\n",
            ":Cl_TheatreFestival a rdfs:Class .\n",
            ":Cl_Play a rdfs:Class .\n",
            ":Cl_Location a rdfs:Class .\n",
            ":Cl_Performance a rdfs:Class .\n",
            "\n",
            "# Step 2: Define properties\n",
            ":hasPlay a owl:ObjectProperty ;\n",
            "    rdfs:domain :Cl_TheatreFestival ;\n",
            "    rdfs:range :Cl_Play .\n",
            "\n",
            ":hasLocation a owl:ObjectProperty ;\n",
            "    rdfs:domain :Cl_TheatreFestival ;\n",
            "    rdfs:range :Cl_Location .\n",
            "\n",
            ":hasPerformance a owl:ObjectProperty ;\n",
            "    rdfs:domain :Cl_TheatreFestival ;\n",
            "    rdfs:range :Cl_Performance .\n",
            "\n",
            "# Step 3: Define data properties\n",
            ":duration a owl:DatatypeProperty ;\n",
            "    rdfs:domain :Cl_TheatreFestival ;\n",
            "    rdfs:range xsd:integer .\n",
            "\n",
            "# Step 4: Define hierarchy\n",
            ":Cl_LargeFestival rdfs:subClassOf :Cl_TheatreFestival .\n",
            "\n",
            "# Step 5: Define restrictions\n",
            ":Cl_LargeFestival owl:equivalentClass [\n",
            "    owl:intersectionOf (\n",
            "        :Cl_TheatreFestival\n",
            "        [ owl:onProperty :hasPlay ; owl:minCardinality \"4\"^^xsd:integer ]\n",
            "    )\n",
            "] .\n",
            "*******************\n",
            "output of plan 2:\n",
            "@prefix : <http://www.example.org/test#> .\n",
            "@prefix rdf: <http://www.w3.org/1999/02/22-rdf-syntax-ns#> .\n",
            "@prefix rdfs: <http://www.w3.org/2000/01/rdf-schema#> .\n",
            "@prefix xsd: <http://www.w3.org/2001/XMLSchema#> .\n",
            "\n",
            "# Step 1: Define classes\n",
            ":Cl_TheatreFestival a rdfs:Class .\n",
            ":Cl_Play a rdfs:Class .\n",
            ":Cl_Location a rdfs:Class .\n",
            ":Cl_Performance a rdfs:Class .\n",
            "\n",
            "# Step 2: Define properties\n",
            ":hasPlay a owl:ObjectProperty ;\n",
            "    rdfs:domain :Cl_TheatreFestival ;\n",
            "    rdfs:range :Cl_Play .\n",
            "\n",
            ":hasLocation a owl:ObjectProperty ;\n",
            "    rdfs:domain :Cl_TheatreFestival ;\n",
            "    rdfs:range :Cl_Location .\n",
            "\n",
            ":hasPerformance a owl:ObjectProperty ;\n",
            "    rdfs:domain :Cl_TheatreFestival ;\n",
            "    rdfs:range :Cl_Performance .\n",
            "\n",
            "# Step 3: Define data properties\n",
            ":duration a owl:DatatypeProperty ;\n",
            "    rdfs:domain :Cl_TheatreFestival ;\n",
            "    rdfs:range xsd:integer .\n",
            "\n",
            "# Step 4: Define hierarchy\n",
            ":Cl_LargeFestival rdfs:subClassOf :Cl_TheatreFestival .\n",
            "\n",
            "# Step 5: Define restrictions\n",
            ":Cl_LargeFestival owl:equivalentClass [\n",
            "    owl:intersectionOf (\n",
            "        :Cl_TheatreFestival\n",
            "        [ owl:onProperty :hasPlay ; owl:minCardinality \"4\"^^xsd:integer ]\n",
            "    )\n",
            "] .\n",
            "\n",
            "# Step 6: Define inverse properties\n",
            ":isPartOf a owl:ObjectProperty ;\n",
            "    owl:inverseOf :hasPlay .\n",
            "\n",
            ":isPerformedAt a owl:ObjectProperty ;\n",
            "    owl:inverseOf :hasLocation .\n",
            "\n",
            ":isPerformedIn a owl:ObjectProperty ;\n",
            "    owl:inverseOf :hasPerformance .\n",
            "\n",
            "# Step 7: Define disjoint classes\n",
            ":Cl_Play rdfs:subClassOf [\n",
            "    owl:disjointWith :Cl_Location ;\n",
            "    owl:disjointWith :Cl_Performance\n",
            "] .\n",
            "\n",
            "# Step 8: Define symmetric properties\n",
            ":hasPlay a owl:ObjectProperty ;\n",
            "    owl:propertyChainAxiom (:isPartOf :hasPlay) .\n",
            "\n",
            ":hasLocation a owl:ObjectProperty ;\n",
            "    owl:propertyChainAxiom (:isPerformedAt :hasLocation) .\n",
            "\n",
            ":hasPerformance a owl:ObjectProperty ;\n",
            "    owl:propertyChainAxiom (:isPerformedIn :hasPerformance) .\n",
            "*******************\n",
            "output of plan 3:\n",
            "@prefix : <http://www.example.org/test#> .\n",
            "@prefix rdf: <http://www.w3.org/1999/02/22-rdf-syntax-ns#> .\n",
            "@prefix rdfs: <http://www.w3.org/2000/01/rdf-schema#> .\n",
            "@prefix xsd: <http://www.w3.org/2001/XMLSchema#> .\n",
            "\n",
            "# Step 1: Define classes\n",
            ":Cl_TheatreFestival a owl:Class ;\n",
            "    rdfs:label \"Theatre Festival\" .\n",
            "\n",
            ":Cl_Play a owl:Class ;\n",
            "    rdfs:label \"Play\" .\n",
            "\n",
            "# Step 2: Define properties\n",
            ":hasPlay a owl:ObjectProperty ;\n",
            "    rdfs:domain :Cl_TheatreFestival ;\n",
            "    rdfs:range :Cl_Play ;\n",
            "    rdfs:label \"has play\" .\n",
            "\n",
            ":hasLocation a owl:ObjectProperty ;\n",
            "    rdfs:domain :Cl_TheatreFestival ;\n",
            "    rdfs:range xsd:string ;\n",
            "    rdfs:label \"has location\" .\n",
            "\n",
            ":hasStartDate a owl:ObjectProperty ;\n",
            "    rdfs:domain :Cl_TheatreFestival ;\n",
            "    rdfs:range xsd:date ;\n",
            "    rdfs:label \"has start date\" .\n",
            "\n",
            ":hasEndDate a owl:ObjectProperty ;\n",
            "    rdfs:domain :Cl_TheatreFestival ;\n",
            "    rdfs:range xsd:date ;\n",
            "    rdfs:label \"has end date\" .\n",
            "\n",
            ":hasDuration a owl:DatatypeProperty ;\n",
            "    rdfs:domain :Cl_TheatreFestival ;\n",
            "    rdfs:range xsd:duration ;\n",
            "    rdfs:label \"has duration\" .\n",
            "\n",
            "# Step 3: Define restrictions\n",
            ":Cl_TheatreFestival rdfs:subClassOf [\n",
            "    a owl:Restriction ;\n",
            "    owl:onProperty :hasPlay ;\n",
            "    owl:minCardinality \"1\"^^xsd:nonNegativeInteger ;\n",
            "    rdfs:label \"has at least one play\"\n",
            "] .\n",
            "\n",
            ":Cl_TheatreFestival rdfs:subClassOf [\n",
            "    a owl:Restriction ;\n",
            "    owl:onProperty :hasLocation ;\n",
            "    owl:minCardinality \"1\"^^xsd:nonNegativeInteger ;\n",
            "    rdfs:label \"has at least one location\"\n",
            "] .\n",
            "\n",
            ":Cl_TheatreFestival rdfs:subClassOf [\n",
            "    a owl:Restriction ;\n",
            "    owl:onProperty :hasStartDate ;\n",
            "    owl:minCardinality \"1\"^^xsd:nonNegativeInteger ;\n",
            "    rdfs:label \"has at least one start date\"\n",
            "] .\n",
            "\n",
            ":Cl_TheatreFestival rdfs:subClassOf [\n",
            "    a owl:Restriction ;\n",
            "    owl:onProperty :hasEndDate ;\n",
            "    owl:minCardinality \"1\"^^xsd:nonNegativeInteger ;\n",
            "    rdfs:label \"has at least one end date\"\n",
            "] .\n",
            "\n",
            ":Cl_TheatreFestival rdfs:subClassOf [\n",
            "    a owl:Restriction ;\n",
            "    owl:onProperty :hasDuration ;\n",
            "    owl:minCardinality \"1\"^^xsd:nonNegativeInteger ;\n",
            "    rdfs:label \"has at least one duration\"\n",
            "] .\n",
            "\n",
            "# Step 4: Define competency questions\n",
            ":competencyQuestion1 a owl:AnnotationProperty ;\n",
            "    rdfs:label \"When and where does a festival happen?\" .\n",
            "\n",
            ":competencyQuestion2 a owl:AnnotationProperty ;\n",
            "    rdfs:label \"What is the duration of a festival?\" .\n",
            "\n",
            ":competencyQuestion3 a owl:AnnotationProperty ;\n",
            "    rdfs:label \"What defines a large festival?\" .\n",
            "\n",
            ":competencyQuestion4 a owl:AnnotationProperty ;\n",
            "    rdfs:label \"What are the plays in a festival?\" .\n",
            "\n",
            "# Step 5: Define competency question answers\n",
            ":Cl_TheatreFestival :competencyQuestion1 \"A festival happens over a specific period of time in a particular location.\" ;\n",
            "    :competencyQuestion2 \"The duration of a festival depends on the specific event.\" ;\n",
            "    :competencyQuestion3 \"A large festival is defined as a festival with more than three plays in it.\" ;\n",
            "    :competencyQuestion4 \"The plays in a festival are determined by the curator.\" .\n"
          ]
        }
      ],
      "source": [
        "print('*******************\\noutput of plan 1:')\n",
        "print(results[0])\n",
        "print('*******************\\noutput of plan 2:')\n",
        "print(results[1])\n",
        "print('*******************\\noutput of plan 3:')\n",
        "print(results[2])"
      ]
    },
    {
      "cell_type": "code",
      "execution_count": null,
      "metadata": {
        "colab": {
          "base_uri": "https://localhost:8080/",
          "height": 73
        },
        "id": "i_qa3zTbKIcn",
        "outputId": "3b00d3fe-8249-4828-fb78-122ee2619253"
      },
      "outputs": [
        {
          "data": {
            "application/vnd.google.colaboratory.intrinsic+json": {
              "type": "string"
            },
            "text/plain": [
              "'I would choose plan 3 as the best plan because it includes all the necessary steps to model the ontology based on the story and its requirements. It identifies the main classes, creates hierarchies, defines object and data properties, adds restrictions and characteristics, and even includes competency questions and their answers. It covers all the essential aspects of ontology modeling for this particular story.'"
            ]
          },
          "execution_count": 67,
          "metadata": {},
          "output_type": "execute_result"
        }
      ],
      "source": [
        "results_string = '\\noutput of plan 1:\\n' + results[0] + '\\noutput of plan 2:\\n' + results[1] + '\\noutput of plan 3:\\n' + results[2]\n",
        "choose = treeOfT.format(story=Story) + '\\nNow here are the plans you created, in the following, we show output of each plan you created in a list of output' + str(plans) +\\\n",
        "  'now you need to pick the one that suits the story and its requierment. just write why and then tell which one is the best.\\n output of plans:\\GPT: ' + results_string\n",
        "chat_with_gpt(choose)\n"
      ]
    },
    {
      "cell_type": "markdown",
      "metadata": {
        "id": "EaCaHPbvmzeM"
      },
      "source": [
        "## Mian experiment\n"
      ]
    },
    {
      "cell_type": "code",
      "execution_count": null,
      "metadata": {
        "colab": {
          "base_uri": "https://localhost:8080/"
        },
        "id": "4Tw7kAC-mzxW",
        "outputId": "8e12b0d9-4e03-4062-f4bd-f056c5228034"
      },
      "outputs": [
        {
          "output_type": "stream",
          "name": "stdout",
          "text": [
            "[\"Plan 1: Bottom-Up Plan\",\n",
            " \"Step 1: Identify the main classes from the story (e.g., Theatre, Festival, Play, Production, Actor)\",\n",
            " \"Step 2: Identify subclasses for each main class based on the story details (e.g., Theatre can have subclasses like GrandTheatre and TheatreInstitute)\",\n",
            " \"Step 3: Define properties for each class and subclass (e.g., Festival has properties like name, location, date)\",\n",
            " \"Step 4: Establish relationships between classes using object properties (e.g., Festival is related to Play through a 'features' property)\",\n",
            " \"Step 5: Create data properties for specific attributes of classes (e.g., Play has a 'writtenDuring' data property with range xsd:date)\",\n",
            " \"Step 6: Apply restrictions based on the story requirements (e.g., A production has exactly one premier)\"],\n",
            "\n",
            "[\"Plan 2: Top-Down Plan\",\n",
            " \"Step 1: Define a superclass for all entities in the story (e.g., TheatreEntity)\",\n",
            " \"Step 2: Create subclasses for this superclass based on the different types of entities mentioned in the story (Theatre, Festival, Play etc.)\",\n",
            " \"Step 3: Further divide these subclasses into more specific classes if necessary based on additional details provided in the story\",\n",
            " \"Step 4: Define object properties to establish relationships between these classes\",\n",
            " \"Step 5: Define data properties to capture specific attributes of these classes\",\n",
            " \"Step 6: Apply restrictions as per the requirements mentioned in the story\"],\n",
            "\n",
            "[\"Plan 3: Incremental Plan\",\n",
            " \"Step 1: Start by defining a few main classes from the story along with their properties and relationships\",\n",
            " \"Step 2: Test this initial model against some competency questions to see if it can answer them correctly\",\n",
            " \"Step 3: Based on this testing, identify gaps or issues in the model and add more classes or refine existing ones to address these issues\",\n",
            " \"Step 4: Repeat steps two and three iteratively until all competency questions can be answered correctly by the model\"]\n",
            "]\n"
          ]
        }
      ],
      "source": [
        "stories = Datasets()\n",
        "S,CQs = stories.story_theatre,stories.story_theatre_cqs\n",
        "delete_logfile()\n",
        "Story = S+ '\\n'.join(CQs)\n",
        "write_to_log('hospital_story')\n",
        "plans = chat_with_gpt(treeOfT.format(story=Story),temp = 0.5,penalty=0.5)\n",
        "print(plans)"
      ]
    },
    {
      "cell_type": "code",
      "execution_count": null,
      "metadata": {
        "colab": {
          "base_uri": "https://localhost:8080/"
        },
        "id": "2ej6Dy0pmz0W",
        "outputId": "9c725236-d288-48b7-f540-781abded418b"
      },
      "outputs": [
        {
          "output_type": "stream",
          "name": "stdout",
          "text": [
            "plan in process:  1\n",
            "plan in process: 1 step #1\n",
            "plan in process: 1 step #2\n",
            "plan in process: 1 step #3\n",
            "plan in process: 1 step #4\n",
            "plan in process: 1 step #5\n",
            "plan in process: 1 step #6\n",
            "plan in process:  2\n",
            "plan in process: 2 step #1\n",
            "plan in process: 2 step #2\n",
            "plan in process: 2 step #3\n",
            "plan in process: 2 step #4\n",
            "plan in process: 2 step #5\n",
            "plan in process: 2 step #6\n",
            "plan in process:  3\n",
            "plan in process: 3 step #1\n",
            "plan in process: 3 step #2\n",
            "plan in process: 3 step #3\n",
            "plan in process: 3 step #4\n"
          ]
        }
      ],
      "source": [
        "results = []\n",
        "delete_logfile()\n",
        "count_error = 0\n",
        "len_plan = [6,6,4] 1/0 #manually put size of each plan\n",
        "for i in [0,1,2]:\n",
        "  print('plan in process: ',i+1)\n",
        "  plan = plans[i]\n",
        "  History = treeOfT.format(story=Story) + '\\nNow here are the plans you created, in the following, we ask you which step to perform' +\\\n",
        "   'GPT output (plans and steps):' +  '\\nplan 1: ' + '\\n'.join(plans[0]) + '\\nplan 2: ' + '\\n'.join(plans[1]) + '\\nplan 3: ' + '\\n'.join(plans[2])\n",
        "  for j in range(len_plan[i]):\n",
        "    try: #if any error happend\n",
        "      print(f'plan in process: {i+1} step #{j+1}')\n",
        "      time.sleep(5)\n",
        "      History += f'\\nUser command: Now perform/execute plan {i+1}, step {j+1} by providing the code (turtle syntax) of this step (you must output a code only)'\n",
        "      output = chat_with_gpt(History)\n",
        "      # print(output)\n",
        "      History = History + '\\nGPT:'+output+'\\n'\n",
        "      write_to_log(output)\n",
        "    except:\n",
        "      print('some error, we try again')\n",
        "      count_error += 1\n",
        "      if count_error > 2:\n",
        "        1/0\n",
        "      j = j - 1\n",
        "      continue\n",
        "  output = chat_with_gpt(History+f'\\nUser command: Now what is the final code output of plan {i+1}  (use turtle syntax and combine all steps into one output), dont miss anything')\n",
        "  results.append(output)\n",
        "  write_to_log(History)\n",
        "  write_to_log(output)\n"
      ]
    },
    {
      "cell_type": "code",
      "execution_count": null,
      "metadata": {
        "colab": {
          "base_uri": "https://localhost:8080/",
          "height": 143
        },
        "id": "MU7nAg8XpMIZ",
        "outputId": "34d81574-cc7d-4cb1-f2c8-1f7d097c0a58"
      },
      "outputs": [
        {
          "output_type": "execute_result",
          "data": {
            "text/plain": [
              "'@prefix : <http://www.example.org/test#> .\\n@prefix rdf: <http://www.w3.org/1999/02/22-rdf-syntax-ns#> .\\n@prefix rdfs: <http://www.w3.org/2000/01/rdf-schema#> .\\n@prefix xsd: <http://www.w3.org/2001/XMLSchema#> .\\n\\n:Cl_Theatre a rdfs:Class .\\n:Cl_Festival a rdfs:Class .\\n:Cl_Play a rdfs:Class .\\n:Cl_Production a rdfs:Class .\\n:Cl_Actor a rdfs:Class .\\n:Cl_Role a rdfs:Class .\\n:Cl_City a rdfs:Class .\\n:Cl_Country a rdfs:Class .\\n:Cl_Review a rdfs:Class .\\n:Cl_Newspaper a rdfs:Class .\\n\\n:Cl_Theatre rdfs:subClassOf :Cl_City .\\n:Cl_Festival rdfs:subClassOf :Cl_City .\\n:Cl_Production rdfs:subClassOf :Cl_Theatre .\\n:Cl_Actor rdfs:subClassOf :Cl_Production .\\n:Cl_Role rdfs:subClassOf :Cl_Actor .\\n:Cl_City rdfs:subClassOf :Cl_Country .\\n:Cl_Review rdfs:subClassOf :Cl_Newspaper .\\n\\n:hasTheatre a rdf:Property ; rdfs:domain :Cl_City ; rdfs:range :Cl_Theatre .\\n:hasFestival a rdf:Property ; rdfs:domain :Cl_City ; rdfs:range :Cl_Festival .\\n:hasProduction a rdf:Property ; rdfs:domain :Cl_Theatre ; rdfs:range :Cl_Production .\\n:hasActor a rdf:Property ; rdfs:domain :Cl_Production ; rdfs:range :Cl_Actor .\\n:hasRole a rdf:Property ; rdfs:domain :Cl_Actor ; rdfs:range :Cl_Role .\\n:isLocatedIn a rdf:Property ; rdfs:domain :Cl_City ; rdfs:range :Cl_Country .\\n:hasReview a rdf:Property ; rdfs:domain :Cl_Production ; rdfs:range :Cl_Review .\\n:isReviewedBy a rdf:Property ; rdfs:domain :Cl_Review ; rdfs:range :Cl_Newspaper .\\n\\n:hasTheatre rdfs:subPropertyOf :isLocatedIn .\\n:hasFestival rdfs:subPropertyOf :isLocatedIn .\\n:hasProduction rdfs:subPropertyOf :hasTheatre .\\n:hasActor rdfs:subPropertyOf :hasProduction .\\n:hasRole rdfs:subPropertyOf :hasActor .\\n:hasReview rdfs:subPropertyOf :hasProduction .\\n:isReviewedBy rdfs:subPropertyOf :hasReview .\\n\\n:hasTheatre a rdf:Property ; rdfs:domain :Cl_City ; rdfs:range :Cl_Theatre ; rdf:type owl:FunctionalProperty .\\n:hasFestival a rdf:Property ; rdfs:domain :Cl_City ; rdfs:range :Cl_Festival ; rdf:type owl:FunctionalProperty .\\n:hasProduction a rdf:Property ; rdfs:domain :Cl_Theatre ; rdfs:range :Cl_Production ; rdf:type owl:FunctionalProperty .\\n:hasActor a rdf:Property ; rdfs:domain :Cl_Production ; rdfs:range :Cl_Actor ; rdf:type owl:FunctionalProperty .\\n:hasRole a rdf:Property ; rdfs:domain :Cl_Actor ; rdfs:range :Cl_Role ; rdf:type owl:FunctionalProperty .\\n:isLocatedIn a rdf:Property ; rdfs:domain :Cl_City ; rdfs:range :Cl_Country ; rdf:type owl:FunctionalProperty .\\n:hasReview a rdf:Property ; rdfs:domain :Cl_Production ; rdfs:range :Cl_Review ; rdf:type owl:FunctionalProperty .\\n:isReviewedBy a rdf:Property ; rdfs:domain :Cl_Review ; rdfs:range :Cl_Newspaper ; rdf:type owl:FunctionalProperty .\\n\\n:Cl_Production a rdfs:Class ;\\n  rdfs:subClassOf [\\n    a owl:Restriction ;\\n    owl:onProperty :hasReview ;\\n    owl:cardinality \"1\"^^xsd:nonNegativeInteger\\n  ] .\\n**********************\\n@prefix : <http://www.example.org/test#> .\\n@prefix rdf: <http://www.w3.org/1999/02/22-rdf-syntax-ns#> .\\n@prefix rdfs: <http://www.w3.org/2000/01/rdf-schema#> .\\n@prefix xsd: <http://www.w3.org/2001/XMLSchema#> .\\n\\n:Cl_Theatre a rdfs:Class .\\n:Cl_Festival a rdfs:Class .\\n:Cl_Play a rdfs:Class .\\n:Cl_Production a rdfs:Class .\\n:Cl_Actor a rdfs:Class .\\n:Cl_Role a rdfs:Class .\\n:Cl_City a rdfs:Class .\\n:Cl_Country a rdfs:Class .\\n:Cl_Review a rdfs:Class .\\n:Cl_Newspaper a rdfs:Class .\\n\\n:Cl_Theatre rdfs:subClassOf :Cl_City .\\n:Cl_Festival rdfs:subClassOf :Cl_City .\\n:Cl_Production rdfs:subClassOf :Cl_Theatre .\\n:Cl_Play rdfs:subClassOf :Cl_Production .\\n:Cl_Actor rdfs:subClassOf :Cl_Production .\\n:Cl_Role rdfs:subClassOf :Cl_Actor .\\n:Cl_Review rdfs:subClassOf :Cl_Newspaper .\\n:Cl_City rdfs:subClassOf :Cl_Country .\\n\\n:hasTheatre a rdf:Property ; rdfs:domain :Cl_City ; rdfs:range :Cl_Theatre .\\n:hasFestival a rdf:Property ; rdfs:domain :Cl_City ; rdfs:range :Cl_Festival .\\n:hasProduction a rdf:Property ; rdfs:domain :Cl_Theatre ; rdfs:range :Cl_Production .\\n:hasPlay a rdf:Property ; rdfs:domain :Cl_Production ; rdfs:range :Cl_Play .\\n:hasActor a rdf:Property ; rdfs:domain :Cl_Production ; rdfs:range :Cl_Actor .\\n:hasRole a rdf:Property ; rdfs:domain :Cl_Actor ; rdfs:range :Cl_Role .\\n:hasReview a rdf:Property ; rdfs:domain :Cl_Newspaper ; rdfs:range :Cl_Review .\\n:locatedIn a rdf:Property ; rdfs:domain :Cl_City ; rdfs:range :Cl_Country .\\n\\n:hasPremier a rdf:Property ; rdfs:domain :Cl_Production ; rdfs:range xsd:date .\\n:hasStarRating a rdf:Property ; rdfs:domain :Cl_Review ; rdfs:range xsd:integer .\\n:hasEmploymentStart a rdf:Property ; rdfs:domain :Cl_Actor ; rdfs:range xsd:date .\\n:hasRoleInProduction a rdf:Property ; rdfs:domain :Cl_Actor ; rdfs:range :Cl_Production .\\n:hasAuthor a rdf:Property ; rdfs:domain :Cl_Play ; rdfs:range xsd:string .\\n:hasActCount a rdf:Property ; rdfs:domain :Cl_Play ; rdfs:range xsd:integer .\\n:hasWritingPeriod a rdf:Property ; rdfs:domain :Cl_Play ; rdfs:range xsd:string .\\n\\n:Cl_Production rdfs:subClassOf [\\n  rdf:type owl:Restriction ;\\n  owl:onProperty :hasPremier ;\\n  owl:cardinality \"1\"^^xsd:nonNegativeInteger\\n] .\\n\\n:Cl_Ensemble a rdfs:Class .\\n:Cl_Ensemble rdfs:subClassOf :Cl_Production .\\n:hasEnsemble a rdf:Property ; rdfs:domain :Cl_Production ; rdfs:range :Cl_Ensemble .\\n:hasMember a rdf:Property ; rdfs:domain :Cl_Ensemble ; rdfs:range :Cl_Actor .\\n**********************\\n@prefix : <http://www.example.org/test#> .\\n@prefix rdf: <http://www.w3.org/1999/02/22-rdf-syntax-ns#> .\\n@prefix rdfs: <http://www.w3.org/2000/01/rdf-schema#> .\\n@prefix xsd: <http://www.w3.org/2001/XMLSchema#> .\\n\\n:Cl_Theatre a rdfs:Class .\\n:Cl_Festival a rdfs:Class .\\n:Cl_Play a rdfs:Class .\\n:Cl_Production a rdfs:Class .\\n:Cl_Actor a rdfs:Class .\\n:Cl_Role a rdfs:Class .\\n:Cl_City a rdfs:Class .\\n:Cl_Country a rdfs:Class .\\n:Cl_Review a rdfs:Class .\\n\\n:Cl_TheatreFestival a rdfs:Class ;\\n    rdfs:subClassOf :Cl_Festival .\\n:Cl_TheatreProduction a rdfs:Class ;\\n    rdfs:subClassOf :Cl_Production .\\n:Cl_TheatrePlay a rdfs:Class ;\\n    rdfs:subClassOf :Cl_Play .\\n:Cl_TheatreActor a rdfs:Class ;\\n    rdfs:subClassOf :Cl_Actor .\\n:Cl_TheatreRole a rdfs:Class ;\\n    rdfs:subClassOf :Cl_Role .\\n:Cl_TheatreReview a rdfs:Class ;\\n    rdfs:subClassOf :Cl_Review .\\n\\n:hasTheatre a rdf:Property ;\\n    rdfs:domain :Cl_City ;\\n    rdfs:range :Cl_Theatre .\\n:hasFestival a rdf:Property ;\\n    rdfs:domain :Cl_City ;\\n    rdfs:range :Cl_TheatreFestival .\\n:hasPlay a rdf:Property ;\\n    rdfs:domain :Cl_TheatreFestival ;\\n    rdfs:range :Cl_TheatrePlay .\\n:hasProduction a rdf:Property ;\\n    rdfs:domain :Cl_Theatre ;\\n    rdfs:range :Cl_TheatreProduction .\\n:hasActor a rdf:Property ;\\n    rdfs:domain :Cl_TheatreProduction ;\\n    rdfs:range :Cl_TheatreActor .\\n:hasRole a rdf:Property ;\\n    rdfs:domain :Cl_TheatreActor ;\\n    rdfs:range :Cl_TheatreRole .\\n:hasReview a rdf:Property ;\\n    rdfs:domain :Cl_TheatreProduction ;\\n    rdfs:range :Cl_TheatreReview .\\n\\n:isLocatedIn a rdf:Property ;\\n    rdfs:domain :Cl_Theatre ;\\n    rdfs:range :Cl_City .\\n:isInCountry a rdf:Property ;\\n    rdfs:domain :Cl_City ;\\n    rdfs:range :Cl_Country .\\n:isWrittenBy a rdf:Property ;\\n    rdfs:domain :Cl_TheatrePlay ;\\n    rdfs:range :Cl_Author .\\n:hasPremier a rdf:Property ;\\n    rdfs:domain :Cl_TheatreProduction ;\\n    rdfs:range xsd:date .\\n:hasStarRating a rdf:Property ;\\n    rdfs:domain :Cl_TheatreReview ;\\n    rdfs:range xsd:integer .\\n:hasEmploymentStart a rdf:Property ;\\n    rdfs:domain :Cl_TheatreActor ;\\n    rdfs:range xsd:date .'"
            ],
            "application/vnd.google.colaboratory.intrinsic+json": {
              "type": "string"
            }
          },
          "metadata": {},
          "execution_count": 43
        }
      ],
      "source": [
        "\n",
        "results[0]+'\\n**********************\\n'+results[1]+'\\n**********************\\n'+results[2]"
      ]
    },
    {
      "cell_type": "code",
      "execution_count": null,
      "metadata": {
        "colab": {
          "base_uri": "https://localhost:8080/",
          "height": 124
        },
        "id": "CjEyiVlupOaT",
        "outputId": "b369ece9-f208-4dd3-92b3-da7bcef3a149"
      },
      "outputs": [
        {
          "output_type": "execute_result",
          "data": {
            "text/plain": [
              "\"The best plan for this story and its requirements is Plan 2: Top-Down Plan. This plan starts by defining a superclass for all entities in the story, which is a good approach for this story as it involves a variety of entities such as Theatre, Festival, Play, Production, Actor, etc. The plan then proceeds to create subclasses for this superclass based on the different types of entities mentioned in the story. This approach allows for a clear and organized structure of the ontology. The plan also includes defining object and data properties to establish relationships and capture specific attributes of these classes, which is crucial for answering the competency questions. Finally, the plan applies restrictions as per the requirements mentioned in the story, ensuring that the ontology accurately represents the story's constraints.\""
            ],
            "application/vnd.google.colaboratory.intrinsic+json": {
              "type": "string"
            }
          },
          "metadata": {},
          "execution_count": 44
        }
      ],
      "source": [
        "results_string = '\\noutput of plan 1:\\n' + results[0] + '\\noutput of plan 2:\\n' + results[1] + '\\noutput of plan 3:\\n' + results[2]\n",
        "choose = treeOfT.format(story=Story) + '\\nNow here are the plans you created, in the following, we show output of each plan you created in a list of output' + str(plans) +\\\n",
        "  'now you need to pick the one that suits the story and its requierment. just write why and then tell which one is the best.\\n output of plans:\\GPT: ' + results_string\n",
        "chat_with_gpt(choose)\n"
      ]
    },
    {
      "cell_type": "markdown",
      "metadata": {
        "id": "ZrWo6pV7qkna"
      },
      "source": [
        "# Graph of thoughts"
      ]
    },
    {
      "cell_type": "code",
      "execution_count": null,
      "metadata": {
        "id": "IGftHy44dAib"
      },
      "outputs": [],
      "source": [
        "stories = Datasets()\n",
        "S1,CQs1 = stories.toystory1, stories.toystory1_cqs\n",
        "S2,CQs2 = stories.toystory2, stories.toystory2_cqs\n",
        "S3,CQs3 = stories.toystory3, stories.toystory3_cqs\n",
        "S,CQs = stories.story_theatre,stories.story_theatre_cqs\n",
        "Story = S3+'\\n'.join(CQs3)\n",
        "\n",
        "graph_ofT = '''Your task is to contribute in creation of a well-structured ontology informations that appeared in the given story, requirements, and restrictions (if there are any). You should only provide few diffierent plans that each contains steps to solve this task not actually solving it. Imagin yourself as a prompter of chatGPT and we want to use tree of thoughts. So in this step only create few plans with steps to solve the task. the way you approach this is that you create only a code block in the output that contains a list of  list of strings. Each list is a different plan to solve the problem from step 1 to end, and each string in every list is a thought. the first string is the first thought/step and so on. do not output any other comment or explanation. here are some definisions of ontology components to help you understand the problem in a better way:\n",
        "CClasses are the keywords/classes that are going to be node types in the knowledge graph ontology. try to extract all classes, in addition, classes are also can be defined for reification. We use Turtle Syntax for representation. Hierarchies are rdfs:subClassOf in the turtle syntax. They can be used to classify similar classes in one superclass. To do this you can find similar nodes and create/use a class as their parent class, for example, adding the node \"Cl_employee\" is a good middleware and superclass for \"Cl_Professors\" and \"Cl_Administrator\" if the story is about modeling ontology of a university. Mostly the lengthier the hierarchy the better. One way can be categorizing classes into several classes and creating superclasses for them. Important: Class names have Cl_ as the prefix for example Cl_Professors. Also keep in mind you can add Equivalent To, General class axioms, Disjoint with, and Disjoint Union of, for each class.\n",
        "In your ontology modeling, for each competency question, when faced with complex scenarios that involve more than two entities or a combination of entities and datatypes, apply reification. Specifically, create a pivot class to act as an intermediary for these entities, ensuring the nuanced relationships are accurately captured. For instance, when representing \"a user accessed a resource at a given time\", establish a pivot class like Cl_UserResourceUsage, linked from the user, resource, and the specific time of access to Cl_UserResourceInteraction, rather than directly connecting the user to both the resource and time.\n",
        "Then you need to create properties (owl:Property). In this step, you use classes from the previous stage and create object and data properties to connect them and establish the ontology. Always output a turtle syntax, if you need more classes to model a competency question between more than 2 concepts, feel free to add more pivot (reification) classes here. try to find as much relation as possible by reading competency questions, restrictions, and stories. At this stage, you can create both data and object properties. Data properties are between classes or hierarchy classes and data types such as xsd:string, xsd:integer, xsd:decimal, xsd:dateTime, xsd:date, xsd:time, xsd:boolean, xsd:byte, xsd:double, xsd:float and etc. For example, in the university domain, we have: employee_id a owl:Property ; rdfs:domain :cl_teacher ; rdfs:range xsd:integer. Object properties are between classes. try to find as much relation as possible by reading competency questions and the story. Feel free to use rdfs:subPropertyOf for creating hierarchies for relations. For modeling properties (object or data properties) if it is necessary, use these relations characteristics: Functional, Inverse functional, Transitive, Symmetric, Asymmetric, Reflexive, and Irreflexive. Also, you are flexible in domain and range so you can use Cl_class1 or Cl_class2 in domain and range or disjoint with, the inverse of between relations.\n",
        "\n",
        "Your output at this stage is a list of three different plans (a 2D list) (make sure they solve the problem with different prespectives). Each plan contain a list like [step 1:, step 2:, ... step n:]. dont create the ontology at this stage. after this stage i will give you 'plan x, next' in the chat and you perform the next step from plan x only (dont pay attention to the other plans). create a code plus a small plan for the next step. when the last step executed, the final output be the final owl ontology that models the story with its restirictions and be able to answer the competency questions. We will later compare the results of the owl files with 'merge' commands at the end (at this stage you need to see them and create a one owl file based on them, it would be like you see the answers of few different ontologist and based on your opinion pick or craete one from them), so dont compare untill the command.\n",
        "these are the prifixes:\n",
        "@prefix : <http://www.example.org/test#> .\n",
        "@prefix rdf: <http://www.w3.org/1999/02/22-rdf-syntax-ns#> .\n",
        "@prefix rdfs: <http://www.w3.org/2000/01/rdf-schema#> .\n",
        "@prefix xsd: <http://www.w3.org/2001/XMLSchema#> .\n",
        "Important: your output should be only owl turtle. Don't write any explanation before the code block or after. Also the code must have 0 comments.\n",
        "end of footer\n",
        "Common mistake:\n",
        "1- plans are identical, try to think differently when generating plans. For producing different plans, you can take three of these approaches and create plans based on them:Bottom-Up Plan, Top-Down Plan,,Agile Plan, Waterfall Plan, Incremental Plan, Spiral Plan, Prototype Plan, Evolutionary Plan, RAD (Rapid Application Development) Plan, Scrum Plan\n",
        "2- important: when i ask to execute plan x, step y, your output at executing steps must be only codes not explanations.\n",
        "3- producing output not based on the story and its competency questions\n",
        "here is one story to know what they look like (The final ontology is about this story and its competency questions):\n",
        "{story}\n",
        "End of story\n",
        "'''"
      ]
    },
    {
      "cell_type": "code",
      "execution_count": null,
      "metadata": {
        "colab": {
          "base_uri": "https://localhost:8080/"
        },
        "id": "4wIwGGXiqnWS",
        "outputId": "ab2c3a96-0562-4e9a-edba-8caa0b3863a1"
      },
      "outputs": [
        {
          "name": "stdout",
          "output_type": "stream",
          "text": [
            "[[step 1: Identify the main classes and hierarchies in the ontology],\n",
            "[step 2: Create object properties to connect the classes],\n",
            "[step 3: Create data properties to define attributes of the classes]]\n",
            "\n",
            "[[step 1: Identify the main classes and hierarchies in the ontology],\n",
            "[step 2: Create object properties to connect the classes],\n",
            "[step 3: Create reification classes for complex scenarios]]\n",
            "\n",
            "[[step 1: Identify the main classes and hierarchies in the ontology],\n",
            "[step 2: Create object properties to connect the classes],\n",
            "[step 3: Create pivot (reification) classes for complex scenarios]]\n"
          ]
        }
      ],
      "source": [
        "delete_logfile()\n",
        "plans = chat_with_gpt(graph_ofT.format(story=Story),temp = 0.5,penalty=0.5)\n",
        "print(plans)\n",
        "\n",
        "# plans"
      ]
    },
    {
      "cell_type": "code",
      "execution_count": null,
      "metadata": {
        "colab": {
          "base_uri": "https://localhost:8080/"
        },
        "id": "1NgXmaGLqnZZ",
        "outputId": "2ed581e7-5ca6-48ec-b368-8173ce7f6f82"
      },
      "outputs": [
        {
          "name": "stdout",
          "output_type": "stream",
          "text": [
            "plan in process:  1\n",
            "plan in process: 1 step #1\n",
            "plan in process: 1 step #2\n",
            "plan in process: 1 step #3\n",
            "plan in process:  2\n",
            "plan in process: 2 step #1\n",
            "plan in process: 2 step #2\n",
            "plan in process: 2 step #3\n",
            "plan in process:  3\n",
            "plan in process: 3 step #1\n",
            "plan in process: 3 step #2\n",
            "plan in process: 3 step #3\n"
          ]
        }
      ],
      "source": [
        "results = []\n",
        "delete_logfile()\n",
        "count_error = 0\n",
        "len_plan = [3,3,3] 1/0\n",
        "for i in [0,1,2]:\n",
        "  print('plan in process: ',i+1)\n",
        "  plan = plans[i]\n",
        "  History = graph_ofT.format(story=Story) + '\\nNow here are the plans you created, in the following, we ask you which step to perform' +\\\n",
        "   'GPT output (plans and steps):' +  '\\nplan 1: ' + '\\n'.join(plans[0]) + '\\nplan 2: ' + '\\n'.join(plans[1]) + '\\nplan 3: ' + '\\n'.join(plans[2])\n",
        "  for j in range(len_plan[i]):\n",
        "    try: #if any error happend\n",
        "\n",
        "\n",
        "\n",
        "      print(f'plan in process: {i+1} step #{j+1}')\n",
        "      time.sleep(5)\n",
        "      History += f'\\nUser command: Now perform/execute plan {i+1}, step {j+1} by providing the code (turtle syntax) of this step (you must output a code only)'\n",
        "      output = chat_with_gpt(History)\n",
        "      # print(output)\n",
        "      History = History + '\\nGPT:'+output+'\\n'\n",
        "      write_to_log(output)\n",
        "\n",
        "\n",
        "\n",
        "    except:\n",
        "\n",
        "      count_error += 1\n",
        "      if count_error > 2:\n",
        "        1/0\n",
        "      j = j - 1\n",
        "      continue\n",
        "\n",
        "  output = chat_with_gpt(History+f'\\nUser command: Now what is the final code output of plan {i+1}  (use turtle syntax and combine all steps into one output), dont miss anything')\n",
        "  results.append(output)\n",
        "  write_to_log(History)\n",
        "  write_to_log(output)\n"
      ]
    },
    {
      "cell_type": "code",
      "execution_count": null,
      "metadata": {
        "colab": {
          "base_uri": "https://localhost:8080/"
        },
        "id": "RHf1Oo6oqnfT",
        "outputId": "e6d965f3-b1f1-432c-e672-19e665d88431"
      },
      "outputs": [
        {
          "name": "stdout",
          "output_type": "stream",
          "text": [
            "*******************\n",
            "output of plan 1:\n",
            "@prefix : <http://www.example.org/test#> .\n",
            "@prefix rdf: <http://www.w3.org/1999/02/22-rdf-syntax-ns#> .\n",
            "@prefix rdfs: <http://www.w3.org/2000/01/rdf-schema#> .\n",
            "@prefix xsd: <http://www.w3.org/2001/XMLSchema#> .\n",
            "\n",
            "# Step 1: Define classes\n",
            ":Cl_TheatreFestival a rdfs:Class .\n",
            ":Cl_Play a rdfs:Class .\n",
            ":Cl_Location a rdfs:Class .\n",
            ":Cl_Performance a rdfs:Class .\n",
            "\n",
            "# Step 2: Define properties\n",
            ":hasPlay a owl:ObjectProperty ;\n",
            "    rdfs:domain :Cl_TheatreFestival ;\n",
            "    rdfs:range :Cl_Play .\n",
            "\n",
            ":hasLocation a owl:ObjectProperty ;\n",
            "    rdfs:domain :Cl_TheatreFestival ;\n",
            "    rdfs:range :Cl_Location .\n",
            "\n",
            ":hasPerformance a owl:ObjectProperty ;\n",
            "    rdfs:domain :Cl_TheatreFestival ;\n",
            "    rdfs:range :Cl_Performance .\n",
            "\n",
            "# Step 3: Define data properties\n",
            ":duration a owl:DatatypeProperty ;\n",
            "    rdfs:domain :Cl_TheatreFestival ;\n",
            "    rdfs:range xsd:integer .\n",
            "\n",
            "# Step 4: Define hierarchy\n",
            ":Cl_LargeFestival rdfs:subClassOf :Cl_TheatreFestival .\n",
            "\n",
            "# Step 5: Define restrictions\n",
            ":Cl_LargeFestival owl:equivalentClass [\n",
            "    owl:intersectionOf (\n",
            "        :Cl_TheatreFestival\n",
            "        [ owl:onProperty :hasPlay ; owl:minCardinality \"4\"^^xsd:integer ]\n",
            "    )\n",
            "] .\n",
            "\n",
            "# Step 6: Define inverse properties\n",
            ":isPartOf a owl:ObjectProperty ;\n",
            "    owl:inverseOf :hasPlay .\n",
            "\n",
            "# Step 7: Define disjoint classes\n",
            ":Cl_TheatreFestival owl:disjointWith :Cl_Play .\n",
            ":Cl_TheatreFestival owl:disjointWith :Cl_Location .\n",
            ":Cl_TheatreFestival owl:disjointWith :Cl_Performance .\n",
            "*******************\n",
            "output of plan 2:\n",
            "@prefix : <http://www.example.org/test#> .\n",
            "@prefix rdf: <http://www.w3.org/1999/02/22-rdf-syntax-ns#> .\n",
            "@prefix rdfs: <http://www.w3.org/2000/01/rdf-schema#> .\n",
            "@prefix xsd: <http://www.w3.org/2001/XMLSchema#> .\n",
            "\n",
            "### Step 1: Define classes ###\n",
            ":Cl_TheatreFestival a rdfs:Class .\n",
            ":Cl_Play a rdfs:Class .\n",
            ":Cl_Location a rdfs:Class .\n",
            ":Cl_Performance a rdfs:Class .\n",
            "\n",
            "### Step 2: Define class hierarchy ###\n",
            ":Cl_Play rdfs:subClassOf :Cl_Performance .\n",
            ":Cl_TheatreFestival rdfs:subClassOf :Cl_Performance .\n",
            "\n",
            "### Step 3: Define properties ###\n",
            ":hasPlay a owl:ObjectProperty ;\n",
            "    rdfs:domain :Cl_TheatreFestival ;\n",
            "    rdfs:range :Cl_Play .\n",
            "\n",
            ":hasLocation a owl:ObjectProperty ;\n",
            "    rdfs:domain :Cl_TheatreFestival ;\n",
            "    rdfs:range :Cl_Location .\n",
            "\n",
            ":hasDuration a owl:DatatypeProperty ;\n",
            "    rdfs:domain :Cl_TheatreFestival ;\n",
            "    rdfs:range xsd:integer .\n",
            "\n",
            "### Step 4: Define additional properties ###\n",
            ":isPartOf a owl:ObjectProperty ;\n",
            "    rdfs:domain :Cl_Play ;\n",
            "    rdfs:range :Cl_TheatreFestival .\n",
            "\n",
            "### Step 5: Define restrictions ###\n",
            ":Cl_TheatreFestival rdfs:subClassOf [\n",
            "    a owl:Restriction ;\n",
            "    owl:onProperty :hasPlay ;\n",
            "    owl:minCardinality \"1\"^^xsd:nonNegativeInteger ;\n",
            "    owl:onClass :Cl_Play\n",
            "] .\n",
            "\n",
            ":Cl_TheatreFestival rdfs:subClassOf [\n",
            "    a owl:Restriction ;\n",
            "    owl:onProperty :hasDuration ;\n",
            "    owl:minCardinality \"1\"^^xsd:nonNegativeInteger ;\n",
            "    owl:onDatatype xsd:integer\n",
            "] .\n",
            "\n",
            "### Step 6: Define additional restrictions ###\n",
            ":Cl_TheatreFestival rdfs:subClassOf [\n",
            "    a owl:Restriction ;\n",
            "    owl:onProperty :hasPlay ;\n",
            "    owl:minCardinality \"4\"^^xsd:nonNegativeInteger ;\n",
            "    owl:onClass :Cl_Play\n",
            "] .\n",
            "\n",
            "### Step 7: Define competency questions ###\n",
            "# When and where does a festival happen?\n",
            ":Cl_TheatreFestival rdfs:subClassOf [\n",
            "    a owl:Restriction ;\n",
            "    owl:onProperty :hasLocation ;\n",
            "    owl:minCardinality \"1\"^^xsd:nonNegativeInteger ;\n",
            "    owl:onClass :Cl_Location\n",
            "] .\n",
            "\n",
            "# What is the duration of a festival?\n",
            ":Cl_TheatreFestival rdfs:subClassOf [\n",
            "    a owl:Restriction ;\n",
            "    owl:onProperty :hasDuration ;\n",
            "    owl:minCardinality \"1\"^^xsd:nonNegativeInteger ;\n",
            "    owl:onDatatype xsd:integer\n",
            "] .\n",
            "\n",
            "# A large festival is defined as a festival with more than three plays in it.\n",
            ":Cl_TheatreFestival rdfs:subClassOf [\n",
            "    a owl:Restriction ;\n",
            "    owl:onProperty :hasPlay ;\n",
            "    owl:minCardinality \"4\"^^xsd:nonNegativeInteger ;\n",
            "    owl:onClass :Cl_Play\n",
            "] .\n",
            "*******************\n",
            "output of plan 3:\n",
            "@prefix : <http://www.example.org/test#> .\n",
            "@prefix rdf: <http://www.w3.org/1999/02/22-rdf-syntax-ns#> .\n",
            "@prefix rdfs: <http://www.w3.org/2000/01/rdf-schema#> .\n",
            "@prefix xsd: <http://www.w3.org/2001/XMLSchema#> .\n",
            "\n",
            "### Step 1: Define classes ###\n",
            ":Cl_TheatreFestival a rdfs:Class .\n",
            ":Cl_Play a rdfs:Class .\n",
            ":Cl_Location a rdfs:Class .\n",
            ":Cl_Performance a rdfs:Class .\n",
            ":Cl_CuratedEvent a rdfs:Class .\n",
            ":Cl_SeriesOfEvents a rdfs:Class .\n",
            ":Cl_TheatricalPerformance a rdfs:Class .\n",
            ":Cl_PlaysInFestival a rdfs:Class .\n",
            ":Cl_LargeFestival a rdfs:Class .\n",
            "\n",
            "### Step 2: Define class hierarchy ###\n",
            ":Cl_Play rdfs:subClassOf :Cl_TheatricalPerformance .\n",
            ":Cl_Location rdfs:subClassOf :Cl_TheatreFestival .\n",
            ":Cl_Performance rdfs:subClassOf :Cl_TheatreFestival .\n",
            ":Cl_CuratedEvent rdfs:subClassOf :Cl_TheatreFestival .\n",
            ":Cl_SeriesOfEvents rdfs:subClassOf :Cl_TheatreFestival .\n",
            ":Cl_TheatricalPerformance rdfs:subClassOf :Cl_TheatreFestival .\n",
            ":Cl_PlaysInFestival rdfs:subClassOf :Cl_TheatreFestival .\n",
            ":Cl_LargeFestival rdfs:subClassOf :Cl_TheatreFestival .\n",
            "\n",
            "### Step 3: Define properties ###\n",
            ":hasPlay a owl:ObjectProperty ;\n",
            "    rdfs:domain :Cl_TheatreFestival ;\n",
            "    rdfs:range :Cl_Play .\n",
            "    \n",
            ":hasLocation a owl:ObjectProperty ;\n",
            "    rdfs:domain :Cl_TheatreFestival ;\n",
            "    rdfs:range :Cl_Location .\n",
            "    \n",
            ":hasPerformance a owl:ObjectProperty ;\n",
            "    rdfs:domain :Cl_TheatreFestival ;\n",
            "    rdfs:range :Cl_Performance .\n",
            "    \n",
            ":hasDuration a owl:DatatypeProperty ;\n",
            "    rdfs:domain :Cl_TheatreFestival ;\n",
            "    rdfs:range xsd:integer .\n",
            "    \n",
            ":hasNumberOfPlays a owl:DatatypeProperty ;\n",
            "    rdfs:domain :Cl_TheatreFestival ;\n",
            "    rdfs:range xsd:integer .\n",
            "    \n",
            ":isPartOf a owl:ObjectProperty ;\n",
            "    rdfs:domain :Cl_Play ;\n",
            "    rdfs:range :Cl_TheatreFestival .\n",
            "    \n",
            ":isPartOf a owl:ObjectProperty ;\n",
            "    rdfs:domain :Cl_TheatreFestival ;\n",
            "    rdfs:range :Cl_LargeFestival .\n",
            "\n",
            "### Step 4: Define class restrictions ###\n",
            ":Cl_LargeFestival owl:equivalentClass [\n",
            "    a owl:Restriction ;\n",
            "    owl:onProperty :hasNumberOfPlays ;\n",
            "    owl:minCardinality \"3\"^^xsd:integer\n",
            "] .\n"
          ]
        }
      ],
      "source": [
        "print('*******************\\noutput of plan 1:')\n",
        "print(results[0])\n",
        "print('*******************\\noutput of plan 2:')\n",
        "print(results[1])\n",
        "print('*******************\\noutput of plan 3:')\n",
        "print(results[2])"
      ]
    },
    {
      "cell_type": "code",
      "execution_count": null,
      "metadata": {
        "colab": {
          "base_uri": "https://localhost:8080/",
          "height": 126
        },
        "id": "WWFxFslIIe9P",
        "outputId": "c7f261c6-a1de-4f58-f486-7cb83a827837"
      },
      "outputs": [
        {
          "data": {
            "application/vnd.google.colaboratory.intrinsic+json": {
              "type": "string"
            },
            "text/plain": [
              "'@prefix : <http://www.example.org/test#> .\\n@prefix rdf: <http://www.w3.org/1999/02/22-rdf-syntax-ns#> .\\n@prefix rdfs: <http://www.w3.org/2000/01/rdf-schema#> .\\n@prefix xsd: <http://www.w3.org/2001/XMLSchema#> .\\n\\n### Step 1: Define classes ###\\n:Cl_TheatreFestival a rdfs:Class .\\n:Cl_Play a rdfs:Class .\\n:Cl_Location a rdfs:Class .\\n:Cl_Performance a rdfs:Class .\\n:Cl_CuratedEvent a rdfs:Class .\\n:Cl_SeriesOfEvents a rdfs:Class .\\n:Cl_TheatricalPerformance a rdfs:Class .\\n:Cl_PlaysInFestival a rdfs:Class .\\n:Cl_LargeFestival a rdfs:Class .\\n\\n### Step 2: Define class hierarchy ###\\n:Cl_Play rdfs:subClassOf :Cl_TheatricalPerformance .\\n:Cl_Location rdfs:subClassOf :Cl_TheatreFestival .\\n:Cl_Performance rdfs:subClassOf :Cl_TheatreFestival .\\n:Cl_CuratedEvent rdfs:subClassOf :Cl_TheatreFestival .\\n:Cl_SeriesOfEvents rdfs:subClassOf :Cl_TheatreFestival .\\n:Cl_TheatricalPerformance rdfs:subClassOf :Cl_TheatreFestival .\\n:Cl_PlaysInFestival rdfs:subClassOf :Cl_TheatreFestival .\\n:Cl_LargeFestival rdfs:subClassOf :Cl_TheatreFestival .\\n\\n### Step 3: Define properties ###\\n:hasPlay a owl:ObjectProperty ;\\n    rdfs:domain :Cl_TheatreFestival ;\\n    rdfs:range :Cl_Play .\\n    \\n:hasLocation a owl:ObjectProperty ;\\n    rdfs:domain :Cl_TheatreFestival ;\\n    rdfs:range :Cl_Location .\\n    \\n:hasPerformance a owl:ObjectProperty ;\\n    rdfs:domain :Cl_TheatreFestival ;\\n    rdfs:range :Cl_Performance .\\n    \\n:hasDuration a owl:DatatypeProperty ;\\n    rdfs:domain :Cl_TheatreFestival ;\\n    rdfs:range xsd:integer .\\n    \\n:hasNumberOfPlays a owl:DatatypeProperty ;\\n    rdfs:domain :Cl_TheatreFestival ;\\n    rdfs:range xsd:integer .\\n    \\n:isPartOf a owl:ObjectProperty ;\\n    rdfs:domain :Cl_Play ;\\n    rdfs:range :Cl_TheatreFestival .\\n    \\n:isPartOf a owl:ObjectProperty ;\\n    rdfs:domain :Cl_TheatreFestival ;\\n    rdfs:range :Cl_LargeFestival .\\n\\n### Step 4: Define class restrictions ###\\n:Cl_LargeFestival owl:equivalentClass [\\n    a owl:Restriction ;\\n    owl:onProperty :hasNumberOfPlays ;\\n    owl:minCardinality \"3\"^^xsd:integer\\n] .'"
            ]
          },
          "execution_count": 93,
          "metadata": {},
          "output_type": "execute_result"
        }
      ],
      "source": [
        "results_string = '\\noutput of plan 1:\\n' + results[0] + '\\noutput of plan 2:\\n' + results[1] + '\\noutput of plan 3:\\n' + results[2]\n",
        "choose = graph_ofT.format(story=Story) + '\\nNow here are the plans you created, in the following, we show output of each plan you created in a list of output' + str(plans) +\\\n",
        "  'now you need to combine those three answers into one output in code.\\n output of plans:\\GPT: ' + results_string\n",
        "chat_with_gpt(choose)"
      ]
    },
    {
      "cell_type": "markdown",
      "metadata": {
        "id": "wTi3_89O298x"
      },
      "source": [
        "## mian experiemtn"
      ]
    },
    {
      "cell_type": "code",
      "execution_count": null,
      "metadata": {
        "colab": {
          "base_uri": "https://localhost:8080/"
        },
        "id": "2KM83KJt3AW4",
        "outputId": "dbf1766b-d737-4994-c570-a03dc42b7e8a"
      },
      "outputs": [
        {
          "output_type": "stream",
          "name": "stdout",
          "text": [
            "[\n",
            "[\"Step 1: Identify main classes from the story such as Theatre, Festival, Production, Play, Actor, Role, City, Country\",\n",
            " \"Step 2: Create subclasses for identified classes if necessary. For example, under Actor class we can have GuestActor and RegularActor\",\n",
            " \"Step 3: Define properties for each class. For instance, 'hasPremier' for Production class or 'worksFor' for Actor class\",\n",
            " \"Step 4: Establish relationships between classes using object properties. For example, a Festival 'takesPlaceIn' a City\",\n",
            " \"Step 5: Apply reification where necessary to capture complex relationships. For instance, an Actor 'playsRoleIn' a Production at a certain point in time\",\n",
            " \"Step 6: Define data properties for each class to capture additional information like 'starRating' of a Production or 'startDate' of an Actor's employment\"],\n",
            "\n",
            "[\"Step 1: Start by identifying the main entities in the story and create corresponding classes such as Playwright (for William Shakespeare), Review (for Il Gazzettino's review)\",\n",
            " \"Step 2: Identify relationships between these entities and define them as object properties. For example, a Playwright 'writes' a Play or a Review 'rates' a Production\",\n",
            " \"Step 3: Determine attributes of these entities that can be represented as data properties. For instance, the number of acts in a Play or the start date of an Actor's employment\",\n",
            " \"Step 4: Create subclasses under main classes where needed. Under Role class we could have MainRole and SupportingRole based on importance of character in play\",\n",
            " \"Step 5: Use reification to model complex scenarios like an Actor playing multiple roles in different productions at different times\",\n",
            " \"Step 6: Add restrictions to ontology based on requirements given in story such as every production having exactly one premier\"],\n",
            "\n",
            "[\"Step 1: Begin by creating high-level classes like Event (which can include both Festivals and Productions) and Person (which can include Actors)\",\n",
            " \"Step 2: Create subclasses under these high-level classes based on specific types identified in story. Under Event we could have Festival and Production; under Person we could have RegularActor and GuestActor\",\n",
            " \"Step 3: Define object properties to establish connections between these classes. A Festival 'features' Plays; an Actor 'participatesIn' Productions\",\n",
            " \"Step 4: Identify attributes that can be represented as data properties like the year when Festival took place or star rating given by newspaper review\",\n",
            " \"Step 5: Use reification to accurately represent complex situations like an actor playing different roles in same production at different times\", \n",
            " \"Step 6: Incorporate restrictions into ontology according to rules specified in story\"]\n",
            "]\n"
          ]
        }
      ],
      "source": [
        "delete_logfile()\n",
        "S,CQs = stories.story_theatre,stories.story_theatre_cqs\n",
        "Story = S+'\\n'.join(CQs)\n",
        "plans = chat_with_gpt(graph_ofT.format(story=Story),temp = 0.5,penalty=0.5)\n",
        "print(plans)"
      ]
    },
    {
      "cell_type": "code",
      "execution_count": null,
      "metadata": {
        "colab": {
          "base_uri": "https://localhost:8080/"
        },
        "id": "pVqP8PDl3AZw",
        "outputId": "d5944eca-e949-454f-b85d-469de5f700e4"
      },
      "outputs": [
        {
          "output_type": "stream",
          "name": "stdout",
          "text": [
            "plan in process:  1\n",
            "plan in process: 1 step #1\n",
            "plan in process: 1 step #2\n",
            "plan in process: 1 step #3\n",
            "plan in process: 1 step #4\n",
            "plan in process: 1 step #5\n",
            "plan in process: 1 step #6\n",
            "plan in process:  2\n",
            "plan in process: 2 step #1\n",
            "plan in process: 2 step #2\n",
            "plan in process: 2 step #3\n",
            "plan in process: 2 step #4\n",
            "plan in process: 2 step #5\n",
            "plan in process: 2 step #6\n",
            "plan in process:  3\n",
            "plan in process: 3 step #1\n",
            "plan in process: 3 step #2\n",
            "plan in process: 3 step #3\n",
            "plan in process: 3 step #4\n",
            "plan in process: 3 step #5\n",
            "plan in process: 3 step #6\n"
          ]
        }
      ],
      "source": [
        "results = []\n",
        "delete_logfile()\n",
        "count_error = 0\n",
        "len_plan = [6,6,6] 1/0\n",
        "for i in [0,1,2]:\n",
        "  print('plan in process: ',i+1)\n",
        "  plan = plans[i]\n",
        "  History = graph_ofT.format(story=Story) + '\\nNow here are the plans you created, in the following, we ask you which step to perform' +\\\n",
        "   'GPT output (plans and steps):' +  '\\nplan 1: ' + '\\n'.join(plans[0]) + '\\nplan 2: ' + '\\n'.join(plans[1]) + '\\nplan 3: ' + '\\n'.join(plans[2])\n",
        "  for j in range(len_plan[i]):\n",
        "    try: #if any error happend\n",
        "      print(f'plan in process: {i+1} step #{j+1}')\n",
        "      time.sleep(5)\n",
        "      History += f'\\nUser command: Now perform/execute plan {i+1}, step {j+1} by providing the code (turtle syntax) of this step (you must output a code only)'\n",
        "      output = chat_with_gpt(History)\n",
        "      # print(output)\n",
        "      History = History + '\\nGPT:'+output+'\\n'\n",
        "      write_to_log(output)\n",
        "    except:\n",
        "      count_error += 1\n",
        "      if count_error > 2:\n",
        "        1/0\n",
        "      j = j - 1\n",
        "      continue\n",
        "  output = chat_with_gpt(History+f'\\nUser command: Now what is the final code output of plan {i+1}  (use turtle syntax and combine all steps into one output), dont miss anything')\n",
        "  results.append(output)\n",
        "  write_to_log(History)\n",
        "  write_to_log(output)"
      ]
    },
    {
      "cell_type": "code",
      "execution_count": null,
      "metadata": {
        "colab": {
          "base_uri": "https://localhost:8080/",
          "height": 143
        },
        "id": "nQN3zojW3Acs",
        "outputId": "e2cb43da-57b2-440a-821d-2666e5c84773"
      },
      "outputs": [
        {
          "output_type": "execute_result",
          "data": {
            "text/plain": [
              "'@prefix : <http://www.example.org/test#> .\\n@prefix rdf: <http://www.w3.org/1999/02/22-rdf-syntax-ns#> .\\n@prefix rdfs: <http://www.w3.org/2000/01/rdf-schema#> .\\n@prefix xsd: <http://www.w3.org/2001/XMLSchema#> .\\n\\n:Cl_Theatre a rdfs:Class .\\n:Cl_Festival a rdfs:Class .\\n:Cl_Play a rdfs:Class .\\n:Cl_Actor a rdfs:Class .\\n:Cl_Production a rdfs:Class .\\n:Cl_Review a rdfs:Class .\\n:Cl_Role a rdfs:Class .\\n:Cl_City a rdfs:Class .\\n:Cl_Country a rdfs:Class .\\n\\n:Cl_TheatreFestival a rdfs:Class ;\\n    rdfs:subClassOf :Cl_Festival .\\n:Cl_TheatreProduction a rdfs:Class ;\\n    rdfs:subClassOf :Cl_Production .\\n:Cl_TheatreRole a rdfs:Class ;\\n    rdfs:subClassOf :Cl_Role .\\n:Cl_TheatreReview a rdfs:Class ;\\n    rdfs:subClassOf :Cl_Review .\\n:Cl_TheatrePlay a rdfs:Class ;\\n    rdfs:subClassOf :Cl_Play .\\n:Cl_TheatreActor a rdfs:Class ;\\n    rdfs:subClassOf :Cl_Actor .\\n\\n:hasTheatre a rdf:Property ;\\n    rdfs:domain :Cl_City ;\\n    rdfs:range :Cl_Theatre .\\n\\n:hasFestival a rdf:Property ;\\n    rdfs:domain :Cl_City ;\\n    rdfs:range :Cl_TheatreFestival .\\n\\n:hasPlay a rdf:Property ;\\n    rdfs:domain :Cl_TheatreFestival ;\\n    rdfs:range :Cl_TheatrePlay .\\n\\n:hasProduction a rdf:Property ;\\n    rdfs:domain :Cl_Theatre ;\\n    rdfs:range :Cl_TheatreProduction .\\n\\n:hasActor a rdf:Property ;\\n    rdfs:domain :Cl_TheatreProduction ;\\n    rdfs:range :Cl_TheatreActor .\\n\\n:hasRole a rdf:Property ;\\n    rdfs:domain :Cl_TheatreActor ;\\n    rdfs:range :Cl_TheatreRole .\\n\\n:hasReview a rdf:Property ;\\n    rdfs:domain :Cl_TheatreProduction ;\\n    rdfs:range :Cl_TheatreReview .\\n\\n:isLocatedIn a rdf:Property ;\\n    rdfs:domain :Cl_Theatre ;\\n    rdfs:range :Cl_City .\\n\\n:isInCountry a rdf:Property ;\\n    rdfs:domain :Cl_City ;\\n    rdfs:range :Cl_Country .\\n\\n:hasPremier a rdf:Property ;\\n    rdfs:domain :Cl_TheatreProduction ;\\n    rdfs:range xsd:date .\\n\\n:hasStarRating a rdf:Property ;\\n    rdfs:domain :Cl_TheatreReview ;\\n    rdfs:range xsd:integer .\\n\\n:hasEmploymentStart a rdf:Property ;\\n    rdfs:domain :Cl_TheatreActor ;\\n    rdfs:range xsd:date .\\n\\n:hasAuthor a rdf:Property ;\\n    rdfs:domain :Cl_TheatrePlay ;\\n    rdfs:range xsd:string .\\n\\n:hasWrittenPeriod a rdf:Property ;\\n    rdfs:domain :Cl_TheatrePlay ;\\n    rdfs:range xsd:string .\\n\\n:hasActCount a rdf:Property ;\\n    rdfs:domain :Cl_TheatrePlay ;\\n    rdfs:range xsd:integer .\\n\\n:Cl_TheatreProductionPremier a rdfs:Class ;\\n    rdfs:subClassOf :Cl_TheatreProduction .\\n\\n:hasPremier a rdf:Property ;\\n    rdfs:domain :Cl_TheatreProductionPremier ;\\n    rdfs:range xsd:date .\\n\\n:Cl_TheatreProductionReview a rdfs:Class ;\\n    rdfs:subClassOf :Cl_TheatreProduction .\\n\\n:hasReview a rdf:Property ;\\n    rdfs:domain :Cl_TheatreProductionReview ;\\n    rdfs:range :Cl_TheatreReview .\\n\\n:Cl_TheatreActorEmployment a rdfs:Class ;\\n    rdfs:subClassOf :Cl_TheatreActor .\\n\\n:hasEmploymentStart a rdf:Property ;\\n    rdfs:domain :Cl_TheatreActorEmployment ;\\n    rdfs:range xsd:date .\\n\\n:Cl_TheatrePlayAuthor a rdfs:Class ;\\n    rdfs:subClassOf :Cl_TheatrePlay .\\n\\n:hasAuthor a rdf:Property ;\\n    rdfs:domain :Cl_TheatrePlayAuthor ;\\n    rdfs:range xsd:string .\\n\\n:Cl_TheatrePlayWrittenPeriod a rdfs:Class ;\\n    rdfs:subClassOf :Cl_TheatrePlay .\\n\\n:hasWrittenPeriod a rdf:Property ;\\n    rdfs:domain :Cl_TheatrePlayWrittenPeriod ;\\n    rdfs:range xsd:string .\\n\\n:Cl_TheatrePlayActCount a rdfs:Class ;\\n    rdfs:subClassOf :Cl_TheatrePlay .\\n\\n:hasActCount a rdf:Property ;\\n    rdfs:domain :Cl_TheatrePlayActCount ;\\n    rdfs:range xsd:integer .\\n**********************\\n@prefix : <http://www.example.org/test#> .\\n@prefix rdf: <http://www.w3.org/1999/02/22-rdf-syntax-ns#> .\\n@prefix rdfs: <http://www.w3.org/2000/01/rdf-schema#> .\\n@prefix xsd: <http://www.w3.org/2001/XMLSchema#> .\\n\\n:Cl_Theatre a rdfs:Class .\\n:Cl_Festival a rdfs:Class .\\n:Cl_Play a rdfs:Class .\\n:Cl_Actor a rdfs:Class .\\n:Cl_Role a rdfs:Class .\\n:Cl_City a rdfs:Class .\\n:Cl_Country a rdfs:Class .\\n:Cl_Review a rdfs:Class .\\n:Cl_Newspaper a rdfs:Class .\\n:Cl_Production a rdfs:Class .\\n:Cl_Ensemble a rdfs:Class .\\n\\n:Cl_Theatre rdfs:subClassOf :Cl_City .\\n:Cl_Festival rdfs:subClassOf :Cl_City .\\n:Cl_Play rdfs:subClassOf :Cl_Production .\\n:Cl_Actor rdfs:subClassOf :Cl_Ensemble .\\n:Cl_Role rdfs:subClassOf :Cl_Actor .\\n:Cl_City rdfs:subClassOf :Cl_Country .\\n:Cl_Review rdfs:subClassOf :Cl_Newspaper .\\n:Cl_Production rdfs:subClassOf :Cl_Theatre .\\n:Cl_Ensemble rdfs:subClassOf :Cl_Production .\\n\\n:hasFestival a rdf:Property ;\\n    rdfs:domain :Cl_City ;\\n    rdfs:range :Cl_Festival .\\n\\n:hasTheatre a rdf:Property ;\\n    rdfs:domain :Cl_City ;\\n    rdfs:range :Cl_Theatre .\\n\\n:hasPlay a rdf:Property ;\\n    rdfs:domain :Cl_Production ;\\n    rdfs:range :Cl_Play .\\n\\n:hasActor a rdf:Property ;\\n    rdfs:domain :Cl_Ensemble ;\\n    rdfs:range :Cl_Actor .\\n\\n:hasRole a rdf:Property ;\\n    rdfs:domain :Cl_Actor ;\\n    rdfs:range :Cl_Role .\\n\\n:hasReview a rdf:Property ;\\n    rdfs:domain :Cl_Production ;\\n    rdfs:range :Cl_Review .\\n\\n:isLocatedIn a rdf:Property ;\\n    rdfs:domain :Cl_Theatre ;\\n    rdfs:range :Cl_City .\\n\\n:isPartOf a rdf:Property ;\\n    rdfs:domain :Cl_Actor ;\\n    rdfs:range :Cl_Ensemble .\\n\\n:isWrittenBy a rdf:Property ;\\n    rdfs:domain :Cl_Play ;\\n    rdfs:range :Cl_Author .\\n\\n:isRatedBy a rdf:Property ;\\n    rdfs:domain :Cl_Production ;\\n    rdfs:range :Cl_Newspaper .\\n\\n:hasPremier a rdf:Property ;\\n    rdfs:domain :Cl_Production ;\\n    rdfs:range xsd:date .\\n\\n:hasStarRating a rdf:Property ;\\n    rdfs:domain :Cl_Review ;\\n    rdfs:range xsd:integer .\\n\\n:hasEmploymentStart a rdf:Property ;\\n    rdfs:domain :Cl_Actor ;\\n    rdfs:range xsd:date .\\n\\n:hasRoleInProduction a rdf:Property ;\\n    rdfs:domain :Cl_Actor ;\\n    rdfs:range :Cl_Production .\\n\\n:hasFestival rdfs:subPropertyOf :hasEvent .\\n:hasTheatre rdfs:subPropertyOf :hasLocation .\\n:hasPlay rdfs:subPropertyOf :hasProductionElement .\\n:hasActor rdfs:subPropertyOf :hasEnsembleMember .\\n:hasRole rdfs:subPropertyOf :hasCharacter .\\n:hasReview rdfs:subPropertyOf :hasFeedback .\\n:isLocatedIn rdfs:subPropertyOf :isPartOf .\\n:isPartOf rdfs:subPropertyOf :isMemberOf .\\n:isWrittenBy rdfs:subPropertyOf :isCreatedBy .\\n:isRatedBy rdfs:subPropertyOf :isEvaluatedBy .\\n:hasPremier rdfs:subPropertyOf :hasEventDate .\\n:hasStarRating rdfs:subPropertyOf :hasEvaluationScore .\\n:hasEmploymentStart rdfs:subPropertyOf :hasStartDate .\\n:hasRoleInProduction rdfs:subPropertyOf :hasParticipationIn .\\n\\n:Cl_Production a rdfs:Class ;\\n    rdfs:subClassOf :Cl_Theatre ;\\n    rdfs:comment \"A production is a specific performance of a play\" ;\\n    rdfs:label \"Production\" .\\n\\n:hasPremier a rdf:Property ;\\n    rdfs:domain :Cl_Production ;\\n    rdfs:range xsd:date ;\\n    rdfs:comment \"The date of the premier of a production\" ;\\n    rdfs:label \"hasPremier\" .\\n\\n:Cl_Production rdfs:subClassOf [\\n    a owl:Restriction ;\\n    owl:onProperty :hasPremier ;\\n    owl:cardinality \"1\"^^xsd:nonNegativeInteger ;\\n    rdfs:comment \"A production has exactly one premier\" ;\\n    rdfs:label \"has exactly one premier\" ] .\\n\\n:Cl_Actor a rdfs:Class ;\\n    rdfs:subClassOf :Cl_Ensemble ;\\n    rdfs:comment \"An actor is a member of an ensemble\" ;\\n    rdfs:label \"Actor\" .\\n\\n:hasEmploymentStart a rdf:Property ;\\n    rdfs:domain :Cl_Actor ;\\n    rdfs:range xsd:date ;\\n    rdfs:comment \"The date an actor started working for a theatre\" ;\\n    rdfs:label \"hasEmploymentStart\" .\\n\\n:hasRoleInProduction a rdf:Property ;\\n    rdfs:domain :Cl_Actor ;\\n    rdfs:range :Cl_Production ;\\n    rdfs:comment \"The roles an actor has in a production\" ;\\n    rdfs:label \"hasRoleInProduction\" .\\n**********************\\n@prefix : <http://www.example.org/test#> .\\n@prefix rdf: <http://www.w3.org/1999/02/22-rdf-syntax-ns#> .\\n@prefix rdfs: <http://www.w3.org/2000/01/rdf-schema#> .\\n@prefix xsd: <http://www.w3.org/2001/XMLSchema#> .\\n\\n:Cl_Theatre a rdfs:Class .\\n:Cl_Festival a rdfs:Class .\\n:Cl_City a rdfs:Class .\\n:Cl_Play a rdfs:Class .\\n:Cl_Author a rdfs:Class .\\n:Cl_Actor a rdfs:Class .\\n:Cl_Role a rdfs:Class .\\n:Cl_Review a rdfs:Class .\\n:Cl_Production a rdfs:Class .\\n:Cl_Ensemble a rdfs:Class .\\n\\n:Cl_Theatre rdfs:subClassOf :Cl_City .\\n:Cl_Festival rdfs:subClassOf :Cl_City .\\n:Cl_Production rdfs:subClassOf :Cl_Theatre .\\n:Cl_Play rdfs:subClassOf :Cl_Production .\\n:Cl_Author rdfs:subClassOf :Cl_Play .\\n:Cl_Actor rdfs:subClassOf :Cl_Ensemble .\\n:Cl_Role rdfs:subClassOf :Cl_Actor .\\n:Cl_Review rdfs:subClassOf :Cl_Production .\\n\\n:hasFestival a rdf:Property ; rdfs:domain :Cl_City ; rdfs:range :Cl_Festival .\\n:hasTheatre a rdf:Property ; rdfs:domain :Cl_City ; rdfs:range :Cl_Theatre .\\n:hasProduction a rdf:Property ; rdfs:domain :Cl_Theatre ; rdfs:range :Cl_Production .\\n:hasPlay a rdf:Property ; rdfs:domain :Cl_Production ; rdfs:range :Cl_Play .\\n:writtenBy a rdf:Property ; rdfs:domain :Cl_Play ; rdfs:range :Cl_Author .\\n:hasEnsemble a rdf:Property ; rdfs:domain :Cl_Production ; rdfs:range :Cl_Ensemble .\\n:hasActor a rdf:Property ; rdfs:domain :Cl_Ensemble ; rdfs:range :Cl_Actor .\\n:hasRole a rdf:Property ; rdfs:domain :Cl_Actor ; rdfs:range :Cl_Role .\\n:hasReview a rdf:Property ; rdfs:domain :Cl_Production ; rdfs:range :Cl_Review .\\n\\n:hasFestival rdfs:subPropertyOf :hasEvent .\\n:hasTheatre rdfs:subPropertyOf :hasBuilding .\\n:hasProduction rdfs:subPropertyOf :hasEvent .\\n:hasPlay rdfs:subPropertyOf :hasArtwork .\\n:writtenBy rdfs:subPropertyOf :hasCreator .\\n:hasEnsemble rdfs:subPropertyOf :hasGroup .\\n:hasActor rdfs:subPropertyOf :hasMember .\\n:hasRole rdfs:subPropertyOf :hasPosition .\\n:hasReview rdfs:subPropertyOf :hasOpinion .\\n\\n:hasFestival a owl:FunctionalProperty .\\n:hasTheatre a owl:FunctionalProperty .\\n:hasProduction a owl:FunctionalProperty .\\n:hasPlay a owl:FunctionalProperty .\\n:writtenBy a owl:FunctionalProperty .\\n:hasEnsemble a owl:FunctionalProperty .\\n:hasActor a owl:FunctionalProperty .\\n:hasRole a owl:FunctionalProperty .\\n:hasReview a owl:FunctionalProperty .\\n\\n:Cl_Production a rdfs:Class ;\\n    rdfs:subClassOf [\\n        a owl:Restriction ;\\n        owl:onProperty :hasPremier ;\\n        owl:cardinality \"1\"^^xsd:nonNegativeInteger\\n    ] .'"
            ],
            "application/vnd.google.colaboratory.intrinsic+json": {
              "type": "string"
            }
          },
          "metadata": {},
          "execution_count": 33
        }
      ],
      "source": [
        "results[0]+'\\n**********************\\n'+results[1]+'\\n**********************\\n'+results[2]"
      ]
    },
    {
      "cell_type": "code",
      "execution_count": null,
      "metadata": {
        "colab": {
          "base_uri": "https://localhost:8080/",
          "height": 143
        },
        "id": "2Lk2-LqZ3Afi",
        "outputId": "86026999-5e1c-48f9-c23e-74ca4e5a0fd8"
      },
      "outputs": [
        {
          "output_type": "execute_result",
          "data": {
            "text/plain": [
              "'[\"Step 1: Identify main classes from the story such as Theatre, Festival, Production, Play, Actor, Role, City, Country\",\\n \"Step 2: Create subclasses for identified classes if necessary. For example, under Actor class we can have GuestActor and RegularActor\",\\n \"Step 3: Define properties for each class. For instance, \\'hasPremier\\' for Production class or \\'worksFor\\' for Actor class\",\\n \"Step 4: Establish relationships between classes using object properties. For example, a Festival \\'takesPlaceIn\\' a City\",\\n \"Step 5: Apply reification where necessary to capture complex relationships. For instance, an Actor \\'playsRoleIn\\' a Production at a certain point in time\",\\n \"Step 6: Define data properties for each class to capture additional information like \\'starRating\\' of a Production or \\'startDate\\' of an Actor\\'s employment\"],\\n\\n[\"Step 1: Start by identifying the main entities in the story and create corresponding classes such as Playwright (for William Shakespeare), Review (for Il Gazzettino\\'s review)\",\\n \"Step 2: Identify relationships between these entities and define them as object properties. For example, a Playwright \\'writes\\' a Play or a Review \\'rates\\' a Production\",\\n \"Step 3: Determine attributes of these entities that can be represented as data properties. For instance, the number of acts in a Play or the start date of an Actor\\'s employment\",\\n \"Step 4: Create subclasses under main classes where needed. Under Role class we could have MainRole and SupportingRole based on importance of character in play\",\\n \"Step 5: Use reification to model complex scenarios like an Actor playing multiple roles in different productions at different times\",\\n \"Step 6: Add restrictions to ontology based on requirements given in story such as every production having exactly one premier\"],\\n\\n[\"Step 1: Begin by creating high-level classes like Event (which can include both Festivals and Productions) and Person (which can include Actors)\",\\n \"Step 2: Create subclasses under these high-level classes based on specific types identified in story. Under Event we could have Festival and Production; under Person we could have RegularActor and GuestActor\",\\n \"Step 3: Define object properties to establish connections between these classes. A Festival \\'features\\' Plays; an Actor \\'participatesIn\\' Productions\",\\n \"Step 4: Identify attributes that can be represented as data properties like the year when Festival took place or star rating given by newspaper review\",\\n \"Step 5: Use reification to accurately represent complex situations like an actor playing different roles in same production at different times\", \\n \"Step 6: Incorporate restrictions into ontology according to rules specified in story\"]\\n]'"
            ],
            "application/vnd.google.colaboratory.intrinsic+json": {
              "type": "string"
            }
          },
          "metadata": {},
          "execution_count": 34
        }
      ],
      "source": [
        "results_string = '\\noutput of plan 1:\\n' + results[0] + '\\noutput of plan 2:\\n' + results[1] + '\\noutput of plan 3:\\n' + results[2]\n",
        "choose = graph_ofT.format(story=Story) + '\\nNow here are the plans you created, in the following, we show output of each plan you created in a list of output' + str(plans) +\\\n",
        "  'important: now you need to combine those three answers into one output in code.\\n code output of combination of plans:\\GPT: ' + results_string\n",
        "chat_with_gpt(choose)"
      ]
    },
    {
      "cell_type": "code",
      "source": [
        "choose"
      ],
      "metadata": {
        "colab": {
          "base_uri": "https://localhost:8080/",
          "height": 143
        },
        "id": "FO-z2t0HadOP",
        "outputId": "8c2da4b2-94a3-4cb7-978e-0a5f3337cc25"
      },
      "execution_count": null,
      "outputs": [
        {
          "output_type": "execute_result",
          "data": {
            "text/plain": [
              "'Your task is to contribute in creation of a well-structured ontology informations that appeared in the given story, requirements, and restrictions (if there are any). You should only provide few diffierent plans that each contains steps to solve this task not actually solving it. Imagin yourself as a prompter of chatGPT and we want to use tree of thoughts. So in this step only create few plans with steps to solve the task. the way you approach this is that you create only a code block in the output that contains a list of  list of strings. Each list is a different plan to solve the problem from step 1 to end, and each string in every list is a thought. the first string is the first thought/step and so on. do not output any other comment or explanation. here are some definisions of ontology components to help you understand the problem in a better way:\\nCClasses are the keywords/classes that are going to be node types in the knowledge graph ontology. try to extract all classes, in addition, classes are also can be defined for reification. We use Turtle Syntax for representation. Hierarchies are rdfs:subClassOf in the turtle syntax. They can be used to classify similar classes in one superclass. To do this you can find similar nodes and create/use a class as their parent class, for example, adding the node \"Cl_employee\" is a good middleware and superclass for \"Cl_Professors\" and \"Cl_Administrator\" if the story is about modeling ontology of a university. Mostly the lengthier the hierarchy the better. One way can be categorizing classes into several classes and creating superclasses for them. Important: Class names have Cl_ as the prefix for example Cl_Professors. Also keep in mind you can add Equivalent To, General class axioms, Disjoint with, and Disjoint Union of, for each class.\\nIn your ontology modeling, for each competency question, when faced with complex scenarios that involve more than two entities or a combination of entities and datatypes, apply reification. Specifically, create a pivot class to act as an intermediary for these entities, ensuring the nuanced relationships are accurately captured. For instance, when representing \"a user accessed a resource at a given time\", establish a pivot class like Cl_UserResourceUsage, linked from the user, resource, and the specific time of access to Cl_UserResourceInteraction, rather than directly connecting the user to both the resource and time.\\nThen you need to create properties (owl:Property). In this step, you use classes from the previous stage and create object and data properties to connect them and establish the ontology. Always output a turtle syntax, if you need more classes to model a competency question between more than 2 concepts, feel free to add more pivot (reification) classes here. try to find as much relation as possible by reading competency questions, restrictions, and stories. At this stage, you can create both data and object properties. Data properties are between classes or hierarchy classes and data types such as xsd:string, xsd:integer, xsd:decimal, xsd:dateTime, xsd:date, xsd:time, xsd:boolean, xsd:byte, xsd:double, xsd:float and etc. For example, in the university domain, we have: employee_id a owl:Property ; rdfs:domain :cl_teacher ; rdfs:range xsd:integer. Object properties are between classes. try to find as much relation as possible by reading competency questions and the story. Feel free to use rdfs:subPropertyOf for creating hierarchies for relations. For modeling properties (object or data properties) if it is necessary, use these relations characteristics: Functional, Inverse functional, Transitive, Symmetric, Asymmetric, Reflexive, and Irreflexive. Also, you are flexible in domain and range so you can use Cl_class1 or Cl_class2 in domain and range or disjoint with, the inverse of between relations.\\n\\nYour output at this stage is a list of three different plans (a 2D list) (make sure they solve the problem with different prespectives). Each plan contain a list like [step 1:, step 2:, ... step n:]. dont create the ontology at this stage. after this stage i will give you \\'plan x, next\\' in the chat and you perform the next step from plan x only (dont pay attention to the other plans). create a code plus a small plan for the next step. when the last step executed, the final output be the final owl ontology that models the story with its restirictions and be able to answer the competency questions. We will later compare the results of the owl files with \\'merge\\' commands at the end (at this stage you need to see them and create a one owl file based on them, it would be like you see the answers of few different ontologist and based on your opinion pick or craete one from them), so dont compare untill the command.\\nthese are the prifixes:\\n@prefix : <http://www.example.org/test#> .\\n@prefix rdf: <http://www.w3.org/1999/02/22-rdf-syntax-ns#> .\\n@prefix rdfs: <http://www.w3.org/2000/01/rdf-schema#> .\\n@prefix xsd: <http://www.w3.org/2001/XMLSchema#> .\\nImportant: your output should be only owl turtle. Don\\'t write any explanation before the code block or after. Also the code must have 0 comments.\\nend of footer\\nCommon mistake:\\n1- plans are identical, try to think differently when generating plans. For producing different plans, you can take three of these approaches and create plans based on them:Bottom-Up Plan, Top-Down Plan,,Agile Plan, Waterfall Plan, Incremental Plan, Spiral Plan, Prototype Plan, Evolutionary Plan, RAD (Rapid Application Development) Plan, Scrum Plan\\n2- important: when i ask to execute plan x, step y, your output at executing steps must be only codes not explanations.\\n3- producing output not based on the story and its competency questions\\nhere is one story to know what they look like (The final ontology is about this story and its competency questions):\\nTheatre productions\\nDuring each year a number of theatre festivals are held in cities around Italy. In January 2007 a festival called “Roma Loves Shakespeare” took place in Rome. Two different productions of “The Merchant of Venice” participated, one from a theatre in Pisa and the other from a theatre institute in Venice, featuring an ensemble of university art students. Other plays were Othello and a Midsummer Night’s Dream.\\nThe Grand Theatre in Rome offers two theatre shows each evening during September and October 2009. The play set up in this period is the \"Merchant of Venice\",given through an ensemble of well-known Italian actors. The Merchant of Venice was written during 1596 to 1598 by William Shakespeare, and it has 5 distinct acts. The premier of this production at The Grand Theatre was on September 7. Il Gazzettino gave the setup of the play 5 stars in a recent review.\\nFabio Bianchi is an Italian actor employed at the theatre since May 2004, he is a part of the ensemble setting up the Merchant of Venice and he plays the Duke of Venice but also a servant in one of the scenes. During the second and third week of September the role of Shylock is played by Arnold Schwarzenegger as a special guest actor.\\nWhen did a certain theatre festival take place?\\nWhere did a certain festival take place?\\nWhat plays could be seen during a certain theatre festival?\\nIn what city is a certain theatre located?\\nIn what country is a certain city located?\\nWhat play is the basis of this production?\\nWho are the members of a certain ensemble at a certain point in time? \\nWhat plays did a certain author write?\\nDuring what time period was a certain play written?\\nHow many acts does a particular play contain?\\nWhen was the premier of a certain production?\\nWhat is the “star rating” given by a certain newspaper for a certain production?\\nAt what time did a certain actor start working for a specific theatre?\\nWhat roles does a certain person have within a certain production at a certain point in time?  \\nA production has exactly one premier.\\nEnd of story\\n\\nNow here are the plans you created, in the following, we show output of each plan you created in a list of output[\\n[\"Step 1: Identify main classes from the story such as Theatre, Festival, Production, Play, Actor, Role, City, Country\",\\n \"Step 2: Create subclasses for identified classes if necessary. For example, under Actor class we can have GuestActor and RegularActor\",\\n \"Step 3: Define properties for each class. For instance, \\'hasPremier\\' for Production class or \\'worksFor\\' for Actor class\",\\n \"Step 4: Establish relationships between classes using object properties. For example, a Festival \\'takesPlaceIn\\' a City\",\\n \"Step 5: Apply reification where necessary to capture complex relationships. For instance, an Actor \\'playsRoleIn\\' a Production at a certain point in time\",\\n \"Step 6: Define data properties for each class to capture additional information like \\'starRating\\' of a Production or \\'startDate\\' of an Actor\\'s employment\"],\\n\\n[\"Step 1: Start by identifying the main entities in the story and create corresponding classes such as Playwright (for William Shakespeare), Review (for Il Gazzettino\\'s review)\",\\n \"Step 2: Identify relationships between these entities and define them as object properties. For example, a Playwright \\'writes\\' a Play or a Review \\'rates\\' a Production\",\\n \"Step 3: Determine attributes of these entities that can be represented as data properties. For instance, the number of acts in a Play or the start date of an Actor\\'s employment\",\\n \"Step 4: Create subclasses under main classes where needed. Under Role class we could have MainRole and SupportingRole based on importance of character in play\",\\n \"Step 5: Use reification to model complex scenarios like an Actor playing multiple roles in different productions at different times\",\\n \"Step 6: Add restrictions to ontology based on requirements given in story such as every production having exactly one premier\"],\\n\\n[\"Step 1: Begin by creating high-level classes like Event (which can include both Festivals and Productions) and Person (which can include Actors)\",\\n \"Step 2: Create subclasses under these high-level classes based on specific types identified in story. Under Event we could have Festival and Production; under Person we could have RegularActor and GuestActor\",\\n \"Step 3: Define object properties to establish connections between these classes. A Festival \\'features\\' Plays; an Actor \\'participatesIn\\' Productions\",\\n \"Step 4: Identify attributes that can be represented as data properties like the year when Festival took place or star rating given by newspaper review\",\\n \"Step 5: Use reification to accurately represent complex situations like an actor playing different roles in same production at different times\", \\n \"Step 6: Incorporate restrictions into ontology according to rules specified in story\"]\\n]important: now you need to combine those three answers into one output in code.\\n code output of combination of plans:\\\\GPT: \\noutput of plan 1:\\n@prefix : <http://www.example.org/test#> .\\n@prefix rdf: <http://www.w3.org/1999/02/22-rdf-syntax-ns#> .\\n@prefix rdfs: <http://www.w3.org/2000/01/rdf-schema#> .\\n@prefix xsd: <http://www.w3.org/2001/XMLSchema#> .\\n\\n:Cl_Theatre a rdfs:Class .\\n:Cl_Festival a rdfs:Class .\\n:Cl_Play a rdfs:Class .\\n:Cl_Actor a rdfs:Class .\\n:Cl_Production a rdfs:Class .\\n:Cl_Review a rdfs:Class .\\n:Cl_Role a rdfs:Class .\\n:Cl_City a rdfs:Class .\\n:Cl_Country a rdfs:Class .\\n\\n:Cl_TheatreFestival a rdfs:Class ;\\n    rdfs:subClassOf :Cl_Festival .\\n:Cl_TheatreProduction a rdfs:Class ;\\n    rdfs:subClassOf :Cl_Production .\\n:Cl_TheatreRole a rdfs:Class ;\\n    rdfs:subClassOf :Cl_Role .\\n:Cl_TheatreReview a rdfs:Class ;\\n    rdfs:subClassOf :Cl_Review .\\n:Cl_TheatrePlay a rdfs:Class ;\\n    rdfs:subClassOf :Cl_Play .\\n:Cl_TheatreActor a rdfs:Class ;\\n    rdfs:subClassOf :Cl_Actor .\\n\\n:hasTheatre a rdf:Property ;\\n    rdfs:domain :Cl_City ;\\n    rdfs:range :Cl_Theatre .\\n\\n:hasFestival a rdf:Property ;\\n    rdfs:domain :Cl_City ;\\n    rdfs:range :Cl_TheatreFestival .\\n\\n:hasPlay a rdf:Property ;\\n    rdfs:domain :Cl_TheatreFestival ;\\n    rdfs:range :Cl_TheatrePlay .\\n\\n:hasProduction a rdf:Property ;\\n    rdfs:domain :Cl_Theatre ;\\n    rdfs:range :Cl_TheatreProduction .\\n\\n:hasActor a rdf:Property ;\\n    rdfs:domain :Cl_TheatreProduction ;\\n    rdfs:range :Cl_TheatreActor .\\n\\n:hasRole a rdf:Property ;\\n    rdfs:domain :Cl_TheatreActor ;\\n    rdfs:range :Cl_TheatreRole .\\n\\n:hasReview a rdf:Property ;\\n    rdfs:domain :Cl_TheatreProduction ;\\n    rdfs:range :Cl_TheatreReview .\\n\\n:isLocatedIn a rdf:Property ;\\n    rdfs:domain :Cl_Theatre ;\\n    rdfs:range :Cl_City .\\n\\n:isInCountry a rdf:Property ;\\n    rdfs:domain :Cl_City ;\\n    rdfs:range :Cl_Country .\\n\\n:hasPremier a rdf:Property ;\\n    rdfs:domain :Cl_TheatreProduction ;\\n    rdfs:range xsd:date .\\n\\n:hasStarRating a rdf:Property ;\\n    rdfs:domain :Cl_TheatreReview ;\\n    rdfs:range xsd:integer .\\n\\n:hasEmploymentStart a rdf:Property ;\\n    rdfs:domain :Cl_TheatreActor ;\\n    rdfs:range xsd:date .\\n\\n:hasAuthor a rdf:Property ;\\n    rdfs:domain :Cl_TheatrePlay ;\\n    rdfs:range xsd:string .\\n\\n:hasWrittenPeriod a rdf:Property ;\\n    rdfs:domain :Cl_TheatrePlay ;\\n    rdfs:range xsd:string .\\n\\n:hasActCount a rdf:Property ;\\n    rdfs:domain :Cl_TheatrePlay ;\\n    rdfs:range xsd:integer .\\n\\n:Cl_TheatreProductionPremier a rdfs:Class ;\\n    rdfs:subClassOf :Cl_TheatreProduction .\\n\\n:hasPremier a rdf:Property ;\\n    rdfs:domain :Cl_TheatreProductionPremier ;\\n    rdfs:range xsd:date .\\n\\n:Cl_TheatreProductionReview a rdfs:Class ;\\n    rdfs:subClassOf :Cl_TheatreProduction .\\n\\n:hasReview a rdf:Property ;\\n    rdfs:domain :Cl_TheatreProductionReview ;\\n    rdfs:range :Cl_TheatreReview .\\n\\n:Cl_TheatreActorEmployment a rdfs:Class ;\\n    rdfs:subClassOf :Cl_TheatreActor .\\n\\n:hasEmploymentStart a rdf:Property ;\\n    rdfs:domain :Cl_TheatreActorEmployment ;\\n    rdfs:range xsd:date .\\n\\n:Cl_TheatrePlayAuthor a rdfs:Class ;\\n    rdfs:subClassOf :Cl_TheatrePlay .\\n\\n:hasAuthor a rdf:Property ;\\n    rdfs:domain :Cl_TheatrePlayAuthor ;\\n    rdfs:range xsd:string .\\n\\n:Cl_TheatrePlayWrittenPeriod a rdfs:Class ;\\n    rdfs:subClassOf :Cl_TheatrePlay .\\n\\n:hasWrittenPeriod a rdf:Property ;\\n    rdfs:domain :Cl_TheatrePlayWrittenPeriod ;\\n    rdfs:range xsd:string .\\n\\n:Cl_TheatrePlayActCount a rdfs:Class ;\\n    rdfs:subClassOf :Cl_TheatrePlay .\\n\\n:hasActCount a rdf:Property ;\\n    rdfs:domain :Cl_TheatrePlayActCount ;\\n    rdfs:range xsd:integer .\\noutput of plan 2:\\n@prefix : <http://www.example.org/test#> .\\n@prefix rdf: <http://www.w3.org/1999/02/22-rdf-syntax-ns#> .\\n@prefix rdfs: <http://www.w3.org/2000/01/rdf-schema#> .\\n@prefix xsd: <http://www.w3.org/2001/XMLSchema#> .\\n\\n:Cl_Theatre a rdfs:Class .\\n:Cl_Festival a rdfs:Class .\\n:Cl_Play a rdfs:Class .\\n:Cl_Actor a rdfs:Class .\\n:Cl_Role a rdfs:Class .\\n:Cl_City a rdfs:Class .\\n:Cl_Country a rdfs:Class .\\n:Cl_Review a rdfs:Class .\\n:Cl_Newspaper a rdfs:Class .\\n:Cl_Production a rdfs:Class .\\n:Cl_Ensemble a rdfs:Class .\\n\\n:Cl_Theatre rdfs:subClassOf :Cl_City .\\n:Cl_Festival rdfs:subClassOf :Cl_City .\\n:Cl_Play rdfs:subClassOf :Cl_Production .\\n:Cl_Actor rdfs:subClassOf :Cl_Ensemble .\\n:Cl_Role rdfs:subClassOf :Cl_Actor .\\n:Cl_City rdfs:subClassOf :Cl_Country .\\n:Cl_Review rdfs:subClassOf :Cl_Newspaper .\\n:Cl_Production rdfs:subClassOf :Cl_Theatre .\\n:Cl_Ensemble rdfs:subClassOf :Cl_Production .\\n\\n:hasFestival a rdf:Property ;\\n    rdfs:domain :Cl_City ;\\n    rdfs:range :Cl_Festival .\\n\\n:hasTheatre a rdf:Property ;\\n    rdfs:domain :Cl_City ;\\n    rdfs:range :Cl_Theatre .\\n\\n:hasPlay a rdf:Property ;\\n    rdfs:domain :Cl_Production ;\\n    rdfs:range :Cl_Play .\\n\\n:hasActor a rdf:Property ;\\n    rdfs:domain :Cl_Ensemble ;\\n    rdfs:range :Cl_Actor .\\n\\n:hasRole a rdf:Property ;\\n    rdfs:domain :Cl_Actor ;\\n    rdfs:range :Cl_Role .\\n\\n:hasReview a rdf:Property ;\\n    rdfs:domain :Cl_Production ;\\n    rdfs:range :Cl_Review .\\n\\n:isLocatedIn a rdf:Property ;\\n    rdfs:domain :Cl_Theatre ;\\n    rdfs:range :Cl_City .\\n\\n:isPartOf a rdf:Property ;\\n    rdfs:domain :Cl_Actor ;\\n    rdfs:range :Cl_Ensemble .\\n\\n:isWrittenBy a rdf:Property ;\\n    rdfs:domain :Cl_Play ;\\n    rdfs:range :Cl_Author .\\n\\n:isRatedBy a rdf:Property ;\\n    rdfs:domain :Cl_Production ;\\n    rdfs:range :Cl_Newspaper .\\n\\n:hasPremier a rdf:Property ;\\n    rdfs:domain :Cl_Production ;\\n    rdfs:range xsd:date .\\n\\n:hasStarRating a rdf:Property ;\\n    rdfs:domain :Cl_Review ;\\n    rdfs:range xsd:integer .\\n\\n:hasEmploymentStart a rdf:Property ;\\n    rdfs:domain :Cl_Actor ;\\n    rdfs:range xsd:date .\\n\\n:hasRoleInProduction a rdf:Property ;\\n    rdfs:domain :Cl_Actor ;\\n    rdfs:range :Cl_Production .\\n\\n:hasFestival rdfs:subPropertyOf :hasEvent .\\n:hasTheatre rdfs:subPropertyOf :hasLocation .\\n:hasPlay rdfs:subPropertyOf :hasProductionElement .\\n:hasActor rdfs:subPropertyOf :hasEnsembleMember .\\n:hasRole rdfs:subPropertyOf :hasCharacter .\\n:hasReview rdfs:subPropertyOf :hasFeedback .\\n:isLocatedIn rdfs:subPropertyOf :isPartOf .\\n:isPartOf rdfs:subPropertyOf :isMemberOf .\\n:isWrittenBy rdfs:subPropertyOf :isCreatedBy .\\n:isRatedBy rdfs:subPropertyOf :isEvaluatedBy .\\n:hasPremier rdfs:subPropertyOf :hasEventDate .\\n:hasStarRating rdfs:subPropertyOf :hasEvaluationScore .\\n:hasEmploymentStart rdfs:subPropertyOf :hasStartDate .\\n:hasRoleInProduction rdfs:subPropertyOf :hasParticipationIn .\\n\\n:Cl_Production a rdfs:Class ;\\n    rdfs:subClassOf :Cl_Theatre ;\\n    rdfs:comment \"A production is a specific performance of a play\" ;\\n    rdfs:label \"Production\" .\\n\\n:hasPremier a rdf:Property ;\\n    rdfs:domain :Cl_Production ;\\n    rdfs:range xsd:date ;\\n    rdfs:comment \"The date of the premier of a production\" ;\\n    rdfs:label \"hasPremier\" .\\n\\n:Cl_Production rdfs:subClassOf [\\n    a owl:Restriction ;\\n    owl:onProperty :hasPremier ;\\n    owl:cardinality \"1\"^^xsd:nonNegativeInteger ;\\n    rdfs:comment \"A production has exactly one premier\" ;\\n    rdfs:label \"has exactly one premier\" ] .\\n\\n:Cl_Actor a rdfs:Class ;\\n    rdfs:subClassOf :Cl_Ensemble ;\\n    rdfs:comment \"An actor is a member of an ensemble\" ;\\n    rdfs:label \"Actor\" .\\n\\n:hasEmploymentStart a rdf:Property ;\\n    rdfs:domain :Cl_Actor ;\\n    rdfs:range xsd:date ;\\n    rdfs:comment \"The date an actor started working for a theatre\" ;\\n    rdfs:label \"hasEmploymentStart\" .\\n\\n:hasRoleInProduction a rdf:Property ;\\n    rdfs:domain :Cl_Actor ;\\n    rdfs:range :Cl_Production ;\\n    rdfs:comment \"The roles an actor has in a production\" ;\\n    rdfs:label \"hasRoleInProduction\" .\\noutput of plan 3:\\n@prefix : <http://www.example.org/test#> .\\n@prefix rdf: <http://www.w3.org/1999/02/22-rdf-syntax-ns#> .\\n@prefix rdfs: <http://www.w3.org/2000/01/rdf-schema#> .\\n@prefix xsd: <http://www.w3.org/2001/XMLSchema#> .\\n\\n:Cl_Theatre a rdfs:Class .\\n:Cl_Festival a rdfs:Class .\\n:Cl_City a rdfs:Class .\\n:Cl_Play a rdfs:Class .\\n:Cl_Author a rdfs:Class .\\n:Cl_Actor a rdfs:Class .\\n:Cl_Role a rdfs:Class .\\n:Cl_Review a rdfs:Class .\\n:Cl_Production a rdfs:Class .\\n:Cl_Ensemble a rdfs:Class .\\n\\n:Cl_Theatre rdfs:subClassOf :Cl_City .\\n:Cl_Festival rdfs:subClassOf :Cl_City .\\n:Cl_Production rdfs:subClassOf :Cl_Theatre .\\n:Cl_Play rdfs:subClassOf :Cl_Production .\\n:Cl_Author rdfs:subClassOf :Cl_Play .\\n:Cl_Actor rdfs:subClassOf :Cl_Ensemble .\\n:Cl_Role rdfs:subClassOf :Cl_Actor .\\n:Cl_Review rdfs:subClassOf :Cl_Production .\\n\\n:hasFestival a rdf:Property ; rdfs:domain :Cl_City ; rdfs:range :Cl_Festival .\\n:hasTheatre a rdf:Property ; rdfs:domain :Cl_City ; rdfs:range :Cl_Theatre .\\n:hasProduction a rdf:Property ; rdfs:domain :Cl_Theatre ; rdfs:range :Cl_Production .\\n:hasPlay a rdf:Property ; rdfs:domain :Cl_Production ; rdfs:range :Cl_Play .\\n:writtenBy a rdf:Property ; rdfs:domain :Cl_Play ; rdfs:range :Cl_Author .\\n:hasEnsemble a rdf:Property ; rdfs:domain :Cl_Production ; rdfs:range :Cl_Ensemble .\\n:hasActor a rdf:Property ; rdfs:domain :Cl_Ensemble ; rdfs:range :Cl_Actor .\\n:hasRole a rdf:Property ; rdfs:domain :Cl_Actor ; rdfs:range :Cl_Role .\\n:hasReview a rdf:Property ; rdfs:domain :Cl_Production ; rdfs:range :Cl_Review .\\n\\n:hasFestival rdfs:subPropertyOf :hasEvent .\\n:hasTheatre rdfs:subPropertyOf :hasBuilding .\\n:hasProduction rdfs:subPropertyOf :hasEvent .\\n:hasPlay rdfs:subPropertyOf :hasArtwork .\\n:writtenBy rdfs:subPropertyOf :hasCreator .\\n:hasEnsemble rdfs:subPropertyOf :hasGroup .\\n:hasActor rdfs:subPropertyOf :hasMember .\\n:hasRole rdfs:subPropertyOf :hasPosition .\\n:hasReview rdfs:subPropertyOf :hasOpinion .\\n\\n:hasFestival a owl:FunctionalProperty .\\n:hasTheatre a owl:FunctionalProperty .\\n:hasProduction a owl:FunctionalProperty .\\n:hasPlay a owl:FunctionalProperty .\\n:writtenBy a owl:FunctionalProperty .\\n:hasEnsemble a owl:FunctionalProperty .\\n:hasActor a owl:FunctionalProperty .\\n:hasRole a owl:FunctionalProperty .\\n:hasReview a owl:FunctionalProperty .\\n\\n:Cl_Production a rdfs:Class ;\\n    rdfs:subClassOf [\\n        a owl:Restriction ;\\n        owl:onProperty :hasPremier ;\\n        owl:cardinality \"1\"^^xsd:nonNegativeInteger\\n    ] .'"
            ],
            "application/vnd.google.colaboratory.intrinsic+json": {
              "type": "string"
            }
          },
          "metadata": {},
          "execution_count": 35
        }
      ]
    },
    {
      "cell_type": "markdown",
      "metadata": {
        "id": "Or-kSDmnuBNE"
      },
      "source": [
        "# CQbyCQ Main Experiment"
      ]
    },
    {
      "cell_type": "code",
      "execution_count": null,
      "metadata": {
        "id": "gLxJDo1niKWd"
      },
      "outputs": [],
      "source": [
        "cqbycq_prompt = '''Your task is to contribute in creation of a well-structured ontology informations that appeared in the given story, requirements, and restrictions (if there are any).\n",
        "The way you approach this is first you pick this competency question number \"{CQ}\" and read the given turtle RDF (we append the code at the end of the prevoius one) to know what is the current ontology till this stage (it can be empty at the begining). Then you add or change the RDF so it can answer to this competency question. Your output at each stage is an append to the previous ones, just do not repeat. You only need to solve the question number so do not touch the next questions since they belong to the next stages of development. you can read this definisions to understand the concepts:\n",
        "lasses are the keywords/classes that are going to be node types in the knowledge graph ontology. try to extract all classes, in addition, classes are also can be defined for reification. We use Turtle Syntax for representation. Hierarchies are rdfs:subClassOf in the turtle syntax. They can be used to classify similar classes in one superclass. To do this you can find similar nodes and create/use a class as their parent class, for example, adding the node \"Cl_employee\" is a good middleware and superclass for \"Cl_Professors\" and \"Cl_Administrator\" if the story is about modeling ontology of a university. Mostly the lengthier the hierarchy the better. One way can be categorizing classes into several classes and creating superclasses for them. Important: Class names have Cl_ as the prefix for example Cl_Professors. Also keep in mind you can add Equivalent To, General class axioms, Disjoint with, and Disjoint Union of, for each class.\n",
        "In your ontology modeling, for each competency question, when faced with complex scenarios that involve more than two entities or a combination of entities and datatypes, apply reification. Specifically, create a pivot class to act as an intermediary for these entities, ensuring the nuanced relationships are accurately captured. For instance, when representing \"a user accessed a resource at a given time\", establish a pivot class like Cl_UserResourceUsage, linked from the user, resource, and the specific time of access to Cl_UserResourceInteraction, rather than directly connecting the user to both the resource and time.\n",
        "Then you need to create properties (owl:Property). In this step, you use classes from the previous stage and create object and data properties to connect them and establish the ontology. Always output a turtle syntax, if you need more classes to model a competency question between more than 2 concepts, feel free to add more pivot (reification) classes here. try to find as much relation as possible by reading competency questions, restrictions, and stories. At this stage, you can create both data and object properties. Data properties are between classes or hierarchy classes and data types such as xsd:string, xsd:integer, xsd:decimal, xsd:dateTime, xsd:date, xsd:time, xsd:boolean, xsd:byte, xsd:double, xsd:float and etc. For example, in the university domain, we have: employee_id a owl:Property ; rdfs:domain :cl_teacher ; rdfs:range xsd:integer. Object properties are between classes. try to find as much relation as possible by reading competency questions and the story. Feel free to use rdfs:subPropertyOf for creating hierarchies for relations. For modeling properties (object or data properties) if it is necessary, use these relations characteristics: Functional, Inverse functional, Transitive, Symmetric, Asymmetric, Reflexive, and Irreflexive. Also, you are flexible in domain and range so you can use Cl_class1 or Cl_class2 in domain and range or disjoint with, the inverse of between relations.\n",
        "It is common to forget to add relations that are related to reification: In RDF reification, achieving precise modeling is pivotal, especially when handling multifaceted scenarios where mere binary associations fall short. Take for instance the statement, \"a user used a resource at a time\". While it might initially seem to involve a direct link between a 'user' and a 'resource', it inherently embodies three entities: a 'user', a 'resource', and a 'time'. Directly connecting 'user' to both 'resource' and 'time' fails to capture the essence of the statement, as it obscures which resource was utilized by the user at a specific time. To address this, a more sophisticated modeling approach is needed, invoking a pivot class, Cl_usingResource. This pivot class acts as an intermediary, linking both Cl_user and Cl_resource. Furthermore, it integrates a time property to denote the exact instance of usage. By employing this method, we can coherently model the statement, ensuring that the user's interaction with a specific resource at a distinct time is unambiguously represented. This approach highlights the imperative of ontology design patterns and the necessity of intermediary nodes when modeling complex relationships involving multiple entities or a mix of entities and datatypes.\n",
        "Upon implementation of restrictions, feel free to use owl:equivalentClass [ rdf:type owl:Restriction ;  owl:onProperty :{{relation}} ;  owl:allValuesFrom :{{Class}} ] ; in this way, you can put restrictions for classes such as class Cl_C1 is the only class that uses the relation R. or you can put soft restrictions by using owl:someValuesFrom. Also, you can use general class axioms: [ rdf:type owl:Restriction ; owl:onProperty :R1 ; owl:someValuesFrom :Cl_1 ; rdfs:subClassOf :Cl_2 ] when you want to put restrictions on the definition of a class based on its relation and the definition is necessary but not enough (if it is enough it would be equivalent to owl:equivalentClass).\n",
        "{examples}\n",
        "these are the prifixes:\n",
        "@prefix : <http://www.example.org/test#> .\n",
        "@prefix rdf: <http://www.w3.org/1999/02/22-rdf-syntax-ns#> .\n",
        "@prefix rdfs: <http://www.w3.org/2000/01/rdf-schema#> .\n",
        "@prefix xsd: <http://www.w3.org/2001/XMLSchema#> .\n",
        "Important: before writing the owl code, write this text: is this competency question answarable by the previous version of the RDF (given down) or not? (most likely (~90%) is it not answarable). If no, write a refification class for this question if needed. then solve it. if it was answarable, simply rewrite the given rdf in the output without changing it.\n",
        "here is one story:\n",
        "{story}\n",
        "End of story\n",
        "here are some possible mistakes that you might make:\n",
        "1- forgetting to add prefixes at the beginning of the code.\n",
        "2- forgetting to write pivot classes at the beginning before starting to code.\n",
        "3- your output would be concatinated to the prevoius output rdf, so dont write repititive words, classes or ...\n",
        "4- in your output put all of the previous rdf classes, relations, restrictions and add yours. your output would be passed to the next stage so dont remove previous code (it is going to replace the previous rdf)\n",
        "5- you usually forget to write the name of the reification (pivot) that you want create at the begining of the output\n",
        "6- In reification, the reification node (pivot class) is connected to all related classes by object properties not by subclass of. it can be subclass of something, but for reification it need object properties.\n",
        "common mistakes in extracting classes:\n",
        "1- mistake: not extracting all classes and missing many of them. classes can be found in the story, or in the competency question number and restrictions.\n",
        "2- Returning empty answer\n",
        "3- Providing comments or explanations\n",
        "4- Extracint classes like 'Date', and 'integer' are wrong since they are data properties.\n",
        "5- not using RDF reification: not extracting pivot classes for modeling relation between classes (more than one class and one dataproperty, or more than two classes)\n",
        "6- extracting individuals in the text as class\n",
        "7- pivot class is not sublcass of its components.\n",
        "common mistakes in the hierarchy extraction:\n",
        "1- creating an ontology for non-existing classes: creating a new leaf and expanding it into the root\n",
        "2- returning empty answer or very short\n",
        "3- Providing comments or explanations\n",
        "4- Extracting attributes such as date, time, and string names that are related to data properties\n",
        "5- Forget to add \"\" around the strings in the tuples\n",
        "Common mistakes in the object_properties:\n",
        "1- returning new variables with anything except object_properties\n",
        "2- returning empty answer or very short\n",
        "3- providing comments or explanations\n",
        "4- when the pivot class is created, all of the related classes should point to it (direction of relation is from the classes (domains) 'to'  pivot class (range))\n",
        "Common mistakes in the data_properties:\n",
        "1- returning new variables with anything except data_properties\n",
        "2- returning empty answer or very short\n",
        "3- providing comments or explanations\n",
        "Here is the last RDF:\n",
        "{rdf}\n",
        "'''\n",
        "examples = '''\n",
        "examples on how to solve competency questions:\n",
        "Pattern Name: Submissions:Situation\n",
        "\n",
        "Short Description:\n",
        "This is designed to represent contexts or situations, along with the entities or elements that are contextualized within these situations. It aims to capture the relational context of entities, allowing for a structured representation of situations and their associated elements.\n",
        "Competency Questions:\n",
        "What is the context or situation of a particular entity?\n",
        "What entities or elements are present in a specific context or situation?\n",
        "Simplified Code:\n",
        "code:\n",
        ":hasSetting rdf:type owl:ObjectProperty ;\n",
        "    rdfs:domain :SituationReification ;\n",
        "    rdfs:range :Situation.\n",
        ":Situation rdf:type owl:Class .\n",
        ":SituationReification rdf:type owl:Class .\n",
        "--------\n",
        "Pattern Name: Submissions:AgentRole\n",
        "Short Description:\n",
        "This is designed to represent agents and the roles they play. It focuses on the relationship between agents (entities capable of action) and their roles in various contexts, allowing for a structured representation of this relationship.\n",
        "Competency Questions:\n",
        "Which agent plays this role?\n",
        "What is the role played by a particular agent?\n",
        "code:\n",
        ":Agent rdf:type owl:Class ;\n",
        "    rdfs:subClassOf :Object;\n",
        "    owl:disjointWith :Role.\n",
        ":Object rdf:type owl:Class .\n",
        ":Role rdf:type owl:Class .\n",
        "--------\n",
        "Pattern Name: Submissions:Bag\n",
        "Short Description:\n",
        "Competency Questions:\n",
        "What bag is a particular item an element of?\n",
        "What is the size of a specific bag?\n",
        "What resource does a particular item refer to?\n",
        "What are the items contained in a given bag?\n",
        "code:\n",
        ":Bag rdf:type owl:Class ;\n",
        "    rdfs:subClassOf :Collection ;\n",
        ":Item rdf:type owl:Class ;\n",
        "    rdfs:subClassOf owl:Thing ;\n",
        "    rdfs:comment \"Item - Element belonging to a Bag\".\n",
        ":itemContent rdf:type owl:ObjectProperty ;\n",
        "    rdfs:domain :Item ;\n",
        "    rdfs:range owl:Thing ;\n",
        ":itemOf rdf:type owl:ObjectProperty ;\n",
        "    rdfs:domain :Item ;\n",
        "    rdfs:range :Bag ;\n",
        ":hasItem rdf:type owl:ObjectProperty ;\n",
        "    rdfs:domain :Bag ;\n",
        "    rdfs:range :Item ;\n",
        ":size rdf:type owl:DatatypeProperty ;\n",
        "    rdfs:domain :Collection ;\n",
        "    rdfs:range xsd:integer ;\n",
        "---------\n",
        "Pattern Name: Submissions:Classification\n",
        "Short Description:\n",
        "Competency Questions:\n",
        "What concept is assigned to this entity?\n",
        "Which category does this entity belong to?\n",
        "Simplified Code:\n",
        ":Concept rdf:type owl:Class .\n",
        ":classifies rdf:type owl:ObjectProperty ;\n",
        "    rdfs:domain :Concept ;\n",
        "    rdfs:range owl:Thing.\n",
        ":isClassifiedBy rdf:type owl:ObjectProperty ;\n",
        "    rdfs:domain owl:Thing ;\n",
        "    rdfs:range :Concept.\n",
        "---------\n",
        "Pattern Name: CourseInformation\n",
        "Short Description:\n",
        "The 'CourseInformation' ontology design pattern is tailored to model the essential attributes and relationships of a course within an educational institution. It focuses on capturing the key details of courses, their hierarchical structure, and their association with students and instructors.\n",
        "Competency Questions:\n",
        "What is the course name?\n",
        "What is the course number?\n",
        "Who is the instructor of the course?\n",
        "Who is taking the course?\n",
        ":Course rdf:type owl:Class .\n",
        ":Grad-Course rdf:type owl:Class ;\n",
        "    rdfs:subClassOf :Course .\n",
        ":Under-Grad-Course rdf:type owl:Class ;\n",
        "    rdfs:subClassOf :Course .\n",
        ":Student rdf:type owl:Class .\n",
        ":Grad-Student rdf:type owl:Class ;\n",
        "    rdfs:subClassOf :Student .\n",
        ":Under-Grad-Student rdf:type owl:Class ;\n",
        "    rdfs:subClassOf :Student .\n",
        ":Instructor rdf:type owl:Class .\n",
        ":teaches rdf:type owl:ObjectProperty ;\n",
        "    rdfs:domain :Instructor ;\n",
        "    rdfs:range :Course .\n",
        ":taughtBy rdf:type owl:ObjectProperty ;\n",
        "    owl:inverseOf :teaches ;\n",
        "    rdfs:domain :Course ;\n",
        "    rdfs:range :Instructor .\n",
        ":takenBy rdf:type owl:ObjectProperty ;\n",
        "    rdfs:domain :Course ;\n",
        "    rdfs:range :Student .\n",
        "----------\n",
        "Pattern Name: Submissions:Description\n",
        "Short Description:\n",
        "To formally represent a conceptualization or a descriptive context.\n",
        "Competency Questions:\n",
        "Which are the assumptions under which a certain thing is described?\n",
        "Which are the concepts involved in the description of a certain thing?\n",
        "What is the interpretation of a specific case, event, or observation?\n",
        ":descriptionDefines rdf:type owl:ObjectProperty ;\n",
        "    rdfs:label \"defines\" ;\n",
        "    rdfs:domain :Description ;\n",
        "    rdfs:range :Concept.\n",
        ":descriptionIsDefinedIn rdf:type owl:ObjectProperty ;\n",
        "    rdfs:label \"is defined in\" ;\n",
        "    rdfs:domain :Concept ;\n",
        "    rdfs:range :Description.\n",
        ":descriptionUsesConcept rdf:type owl:ObjectProperty ;\n",
        "    rdfs:label \"uses concept\" ;\n",
        "    rdfs:domain :Description ;\n",
        "    rdfs:range :Concept.\n",
        ":Concept rdf:type owl:Class ;\n",
        "    rdfs:label \"Concept\" .\n",
        ":Description rdf:type owl:Class ;\n",
        "    rdfs:label \"Description\" .\n",
        "--------\n",
        "Pattern Name: Submissions:Region\n",
        "\n",
        "Short Description:\n",
        "This ontology design pattern, named 'Region', is designed to represent and reason about the values of attributes of things by explicitly considering the dimensions or \"regions\" of these attributes, which include those values. It facilitates understanding and reasoning about various attributes and their associated values in a structured manner.\n",
        "Competency Questions:\n",
        "What is the value for the attribute of a particular entity?\n",
        "Which entities have a certain value on a specific parameter, attribute, or feature?\n",
        "Simplified Code:\n",
        ":hasRegion rdf:type owl:ObjectProperty ;\n",
        "    rdfs:domain owl:Thing ;\n",
        "    rdfs:range :Region.\n",
        ":isRegionFor rdf:type owl:ObjectProperty ;\n",
        "    rdfs:domain :Region ;\n",
        "    rdfs:range owl:Thing.\n",
        ":hasRegionDataValue rdf:type owl:DatatypeProperty ;\n",
        "    rdfs:domain :Region.\n",
        ":Region rdf:type owl:Class .\n",
        "'''\n"
      ]
    },
    {
      "cell_type": "code",
      "execution_count": null,
      "metadata": {
        "id": "jb6PB__C6ztJ"
      },
      "outputs": [],
      "source": [
        "def cqbycq(story,cqs,sleep = 3):\n",
        "  rdf = ''\n",
        "  err = 0\n",
        "  for i in range(len(cqs)):\n",
        "    try:\n",
        "      print('doing cq #',i+1)\n",
        "      rdf = rdf+ '\\n' + chat_with_gpt(cqbycq_prompt.format(story = story, examples='',CQ = cqs[i],rdf = rdf))\n",
        "      write_to_log(rdf)\n",
        "      write_to_log('doing cq # '+str(i+1))\n",
        "\n",
        "      if i < len(cqs) - 1:\n",
        "        time.sleep(sleep)\n",
        "    except:\n",
        "      err +=1\n",
        "      i -=1\n",
        "      if err >5:\n",
        "        break\n",
        "      continue\n",
        "  write_to_log('final output of cqbycq')\n",
        "  write_to_log(rdf)\n",
        "  return rdf"
      ]
    },
    {
      "cell_type": "code",
      "execution_count": null,
      "metadata": {
        "colab": {
          "base_uri": "https://localhost:8080/",
          "height": 403
        },
        "id": "UZlJFtCruHz2",
        "outputId": "d6726eb1-9f92-4425-a390-b0631276ceeb"
      },
      "outputs": [
        {
          "output_type": "stream",
          "name": "stdout",
          "text": [
            "doing cq # 1\n",
            "doing cq # 2\n",
            "doing cq # 3\n",
            "doing cq # 4\n",
            "doing cq # 5\n",
            "doing cq # 6\n",
            "doing cq # 7\n",
            "doing cq # 8\n",
            "doing cq # 9\n",
            "doing cq # 10\n",
            "doing cq # 11\n",
            "doing cq # 12\n",
            "doing cq # 13\n",
            "doing cq # 14\n",
            "doing cq # 15\n"
          ]
        },
        {
          "output_type": "execute_result",
          "data": {
            "text/plain": [
              "'\\nThe competency question \"When did a certain theatre festival take place?\" is not answerable by the previous version of the RDF as it is not provided.\\n\\nWe need to create a pivot class for the theatre festival that includes the date of the festival.\\n\\nClasses:\\n- Cl_TheatreFestival\\n- Cl_Date\\n\\nHierarchy:\\n- Cl_TheatreFestival rdfs:subClassOf :Cl_Event.\\n- Cl_Date rdfs:subClassOf :xsd:date.\\n\\nObject Properties:\\n- :hasDate a owl:ObjectProperty ; rdfs:domain :Cl_TheatreFestival ; rdfs:range :Cl_Date.\\n\\nData Properties:\\n- :dateValue a owl:DatatypeProperty ; rdfs:domain :Cl_Date ; rdfs:range xsd:string.\\n\\nHere is the updated RDF:\\n\\n@prefix : <http://www.example.org/test#> .\\n@prefix rdf: <http://www.w3.org/1999/02/22-rdf-syntax-ns#> .\\n@prefix rdfs: <http://www.w3.org/2000/01/rdf-schema#> .\\n@prefix xsd: <http://www.w3.org/2001/XMLSchema#> .\\n\\n:Cl_TheatreFestival rdf:type owl:Class .\\n:Cl_Date rdf:type owl:Class .\\n\\n:Cl_TheatreFestival rdfs:subClassOf :Cl_Event.\\n:Cl_Date rdfs:subClassOf :xsd:date.\\n\\n:hasDate rdf:type owl:ObjectProperty ;\\n    rdfs:domain :Cl_TheatreFestival ;\\n    rdfs:range :Cl_Date.\\n\\n:dateValue rdf:type owl:DatatypeProperty ;\\n    rdfs:domain :Cl_Date ;\\n    rdfs:range xsd:string.\\nThe competency question \"Where did a certain festival take place?\" is not answerable by the previous version of the RDF as it is not provided.\\n\\nWe need to create a pivot class for the theatre festival that includes the location of the festival.\\n\\nClasses:\\n- Cl_Location\\n\\nHierarchy:\\n- Cl_Location rdfs:subClassOf :xsd:string.\\n\\nObject Properties:\\n- :hasLocation a owl:ObjectProperty ; rdfs:domain :Cl_TheatreFestival ; rdfs:range :Cl_Location.\\n\\nData Properties:\\n- :locationValue a owl:DatatypeProperty ; rdfs:domain :Cl_Location ; rdfs:range xsd:string.\\n\\nHere is the updated RDF:\\n\\n@prefix : <http://www.example.org/test#> .\\n@prefix rdf: <http://www.w3.org/1999/02/22-rdf-syntax-ns#> .\\n@prefix rdfs: <http://www.w3.org/2000/01/rdf-schema#> .\\n@prefix xsd: <http://www.w3.org/2001/XMLSchema#> .\\n\\n:Cl_TheatreFestival rdf:type owl:Class .\\n:Cl_Date rdf:type owl:Class .\\n:Cl_Location rdf:type owl:Class .\\n\\n:Cl_TheatreFestival rdfs:subClassOf :Cl_Event.\\n:Cl_Date rdfs:subClassOf :xsd:date.\\n:Cl_Location rdfs:subClassOf :xsd:string.\\n\\n:hasDate rdf:type owl:ObjectProperty ;\\n    rdfs:domain :Cl_TheatreFestival ;\\n    rdfs:range :Cl_Date.\\n\\n:dateValue rdf:type owl:DatatypeProperty ;\\n    rdfs:domain :Cl_Date ;\\n    rdfs:range xsd:string.\\n\\n:hasLocation rdf:type owl:ObjectProperty ;\\n    rdfs:domain :Cl_TheatreFestival ;\\n    rdfs:range :Cl_Location.\\n\\n:locationValue rdf:type owl:DatatypeProperty ;\\n    rdfs:domain :Cl_Location ;\\n    rdfs:range xsd:string.\\nThe competency question \"What plays could be seen during a certain theatre festival?\" is not answerable by the previous version of the RDF as it is not provided.\\n\\nWe need to create a pivot class for the theatre festival that includes the plays that were performed during the festival.\\n\\nClasses:\\n- Cl_Play\\n\\nHierarchy:\\n- Cl_Play rdfs:subClassOf :Cl_Event.\\n\\nObject Properties:\\n- :hasPlay a owl:ObjectProperty ; rdfs:domain :Cl_TheatreFestival ; rdfs:range :Cl_Play.\\n\\nData Properties:\\n- :playName a owl:DatatypeProperty ; rdfs:domain :Cl_Play ; rdfs:range xsd:string.\\n\\nHere is the updated RDF:\\n\\n@prefix : <http://www.example.org/test#> .\\n@prefix rdf: <http://www.w3.org/1999/02/22-rdf-syntax-ns#> .\\n@prefix rdfs: <http://www.w3.org/2000/01/rdf-schema#> .\\n@prefix xsd: <http://www.w3.org/2001/XMLSchema#> .\\n\\n:Cl_TheatreFestival rdf:type owl:Class .\\n:Cl_Date rdf:type owl:Class .\\n:Cl_Location rdf:type owl:Class .\\n:Cl_Play rdf:type owl:Class .\\n\\n:Cl_TheatreFestival rdfs:subClassOf :Cl_Event.\\n:Cl_Date rdfs:subClassOf :xsd:date.\\n:Cl_Location rdfs:subClassOf :xsd:string.\\n:Cl_Play rdfs:subClassOf :Cl_Event.\\n\\n:hasDate rdf:type owl:ObjectProperty ;\\n    rdfs:domain :Cl_TheatreFestival ;\\n    rdfs:range :Cl_Date.\\n\\n:dateValue rdf:type owl:DatatypeProperty ;\\n    rdfs:domain :Cl_Date ;\\n    rdfs:range xsd:string.\\n\\n:hasLocation rdf:type owl:ObjectProperty ;\\n    rdfs:domain :Cl_TheatreFestival ;\\n    rdfs:range :Cl_Location.\\n\\n:locationValue rdf:type owl:DatatypeProperty ;\\n    rdfs:domain :Cl_Location ;\\n    rdfs:range xsd:string.\\n\\n:hasPlay rdf:type owl:ObjectProperty ;\\n    rdfs:domain :Cl_TheatreFestival ;\\n    rdfs:range :Cl_Play.\\n\\n:playName rdf:type owl:DatatypeProperty ;\\n    rdfs:domain :Cl_Play ;\\n    rdfs:range xsd:string.\\nThe competency question \"In what city is a certain theatre located?\" is not answerable by the previous version of the RDF as it is not provided.\\n\\nWe need to create a pivot class for the theatre that includes the location of the theatre.\\n\\nClasses:\\n- Cl_Theatre\\n\\nHierarchy:\\n- Cl_Theatre rdfs:subClassOf :Cl_Building.\\n\\nObject Properties:\\n- :isLocatedIn a owl:ObjectProperty ; rdfs:domain :Cl_Theatre ; rdfs:range :Cl_Location.\\n\\nHere is the updated RDF:\\n\\n@prefix : <http://www.example.org/test#> .\\n@prefix rdf: <http://www.w3.org/1999/02/22-rdf-syntax-ns#> .\\n@prefix rdfs: <http://www.w3.org/2000/01/rdf-schema#> .\\n@prefix xsd: <http://www.w3.org/2001/XMLSchema#> .\\n\\n:Cl_TheatreFestival rdf:type owl:Class .\\n:Cl_Date rdf:type owl:Class .\\n:Cl_Location rdf:type owl:Class .\\n:Cl_Play rdf:type owl:Class .\\n:Cl_Theatre rdf:type owl:Class .\\n\\n:Cl_TheatreFestival rdfs:subClassOf :Cl_Event.\\n:Cl_Date rdfs:subClassOf :xsd:date.\\n:Cl_Location rdfs:subClassOf :xsd:string.\\n:Cl_Play rdfs:subClassOf :Cl_Event.\\n:Cl_Theatre rdfs:subClassOf :Cl_Building.\\n\\n:hasDate rdf:type owl:ObjectProperty ;\\n    rdfs:domain :Cl_TheatreFestival ;\\n    rdfs:range :Cl_Date.\\n\\n:dateValue rdf:type owl:DatatypeProperty ;\\n    rdfs:domain :Cl_Date ;\\n    rdfs:range xsd:string.\\n\\n:hasLocation rdf:type owl:ObjectProperty ;\\n    rdfs:domain :Cl_TheatreFestival ;\\n    rdfs:range :Cl_Location.\\n\\n:locationValue rdf:type owl:DatatypeProperty ;\\n    rdfs:domain :Cl_Location ;\\n    rdfs:range xsd:string.\\n\\n:hasPlay rdf:type owl:ObjectProperty ;\\n    rdfs:domain :Cl_TheatreFestival ;\\n    rdfs:range :Cl_Play.\\n\\n:playName rdf:type owl:DatatypeProperty ;\\n    rdfs:domain :Cl_Play ;\\n    rdfs:range xsd:string.\\n\\n:isLocatedIn rdf:type owl:ObjectProperty ;\\n    rdfs:domain :Cl_Theatre ;\\n    rdfs:range :Cl_Location.\\nThe competency question \"In what country is a certain city located?\" is not answerable by the previous version of the RDF as it is not provided.\\n\\nWe need to create a pivot class for the city that includes the country where the city is located.\\n\\nClasses:\\n- Cl_City\\n- Cl_Country\\n\\nHierarchy:\\n- Cl_City rdfs:subClassOf :Cl_Location.\\n- Cl_Country rdfs:subClassOf :xsd:string.\\n\\nObject Properties:\\n- :isLocatedInCountry a owl:ObjectProperty ; rdfs:domain :Cl_City ; rdfs:range :Cl_Country.\\n\\nData Properties:\\n- :countryName a owl:DatatypeProperty ; rdfs:domain :Cl_Country ; rdfs:range xsd:string.\\n\\nHere is the updated RDF:\\n\\n@prefix : <http://www.example.org/test#> .\\n@prefix rdf: <http://www.w3.org/1999/02/22-rdf-syntax-ns#> .\\n@prefix rdfs: <http://www.w3.org/2000/01/rdf-schema#> .\\n@prefix xsd: <http://www.w3.org/2001/XMLSchema#> .\\n\\n:Cl_TheatreFestival rdf:type owl:Class .\\n:Cl_Date rdf:type owl:Class .\\n:Cl_Location rdf:type owl:Class .\\n:Cl_Play rdf:type owl:Class .\\n:Cl_Theatre rdf:type owl:Class .\\n:Cl_City rdf:type owl:Class .\\n:Cl_Country rdf:type owl:Class .\\n\\n:Cl_TheatreFestival rdfs:subClassOf :Cl_Event.\\n:Cl_Date rdfs:subClassOf :xsd:date.\\n:Cl_Location rdfs:subClassOf :xsd:string.\\n:Cl_Play rdfs:subClassOf :Cl_Event.\\n:Cl_Theatre rdfs:subClassOf :Cl_Building.\\n:Cl_City rdfs:subClassOf :Cl_Location.\\n:Cl_Country rdfs:subClassOf :xsd:string.\\n\\n:hasDate rdf:type owl:ObjectProperty ;\\n    rdfs:domain :Cl_TheatreFestival ;\\n    rdfs:range :Cl_Date.\\n\\n:dateValue rdf:type owl:DatatypeProperty ;\\n    rdfs:domain :Cl_Date ;\\n    rdfs:range xsd:string.\\n\\n:hasLocation rdf:type owl:ObjectProperty ;\\n    rdfs:domain :Cl_TheatreFestival ;\\n    rdfs:range :Cl_Location.\\n\\n:locationValue rdf:type owl:DatatypeProperty ;\\n    rdfs:domain :Cl_Location ;\\n    rdfs:range xsd:string.\\n\\n:hasPlay rdf:type owl:ObjectProperty ;\\n    rdfs:domain :Cl_TheatreFestival ;\\n    rdfs:range :Cl_Play.\\n\\n:playName rdf:type owl:DatatypeProperty ;\\n    rdfs:domain :Cl_Play ;\\n    rdfs:range xsd:string.\\n\\n:isLocatedIn rdf:type owl:ObjectProperty ;\\n    rdfs:domain :Cl_Theatre ;\\n    rdfs:range :Cl_Location.\\n\\n:isLocatedInCountry rdf:type owl:ObjectProperty ;\\n    rdfs:domain :Cl_City ;\\n    rdfs:range :Cl_Country.\\n\\n:countryName rdf:type owl:DatatypeProperty ;\\n    rdfs:domain :Cl_Country ;\\n    rdfs:range xsd:string.\\nThe competency question \"What play is the basis of this production?\" is not answerable by the previous version of the RDF as it is not provided.\\n\\nWe need to create a pivot class for the production that includes the play that is the basis of the production.\\n\\nClasses:\\n- Cl_Production\\n\\nHierarchy:\\n- Cl_Production rdfs:subClassOf :Cl_Event.\\n\\nObject Properties:\\n- :isBasedOn a owl:ObjectProperty ; rdfs:domain :Cl_Production ; rdfs:range :Cl_Play.\\n\\nHere is the updated RDF:\\n\\n@prefix : <http://www.example.org/test#> .\\n@prefix rdf: <http://www.w3.org/1999/02/22-rdf-syntax-ns#> .\\n@prefix rdfs: <http://www.w3.org/2000/01/rdf-schema#> .\\n@prefix xsd: <http://www.w3.org/2001/XMLSchema#> .\\n\\n:Cl_TheatreFestival rdf:type owl:Class .\\n:Cl_Date rdf:type owl:Class .\\n:Cl_Location rdf:type owl:Class .\\n:Cl_Play rdf:type owl:Class .\\n:Cl_Theatre rdf:type owl:Class .\\n:Cl_City rdf:type owl:Class .\\n:Cl_Country rdf:type owl:Class .\\n:Cl_Production rdf:type owl:Class .\\n\\n:Cl_TheatreFestival rdfs:subClassOf :Cl_Event.\\n:Cl_Date rdfs:subClassOf :xsd:date.\\n:Cl_Location rdfs:subClassOf :xsd:string.\\n:Cl_Play rdfs:subClassOf :Cl_Event.\\n:Cl_Theatre rdfs:subClassOf :Cl_Building.\\n:Cl_City rdfs:subClassOf :Cl_Location.\\n:Cl_Country rdfs:subClassOf :xsd:string.\\n:Cl_Production rdfs:subClassOf :Cl_Event.\\n\\n:hasDate rdf:type owl:ObjectProperty ;\\n    rdfs:domain :Cl_TheatreFestival ;\\n    rdfs:range :Cl_Date.\\n\\n:dateValue rdf:type owl:DatatypeProperty ;\\n    rdfs:domain :Cl_Date ;\\n    rdfs:range xsd:string.\\n\\n:hasLocation rdf:type owl:ObjectProperty ;\\n    rdfs:domain :Cl_TheatreFestival ;\\n    rdfs:range :Cl_Location.\\n\\n:locationValue rdf:type owl:DatatypeProperty ;\\n    rdfs:domain :Cl_Location ;\\n    rdfs:range xsd:string.\\n\\n:hasPlay rdf:type owl:ObjectProperty ;\\n    rdfs:domain :Cl_TheatreFestival ;\\n    rdfs:range :Cl_Play.\\n\\n:playName rdf:type owl:DatatypeProperty ;\\n    rdfs:domain :Cl_Play ;\\n    rdfs:range xsd:string.\\n\\n:isLocatedIn rdf:type owl:ObjectProperty ;\\n    rdfs:domain :Cl_Theatre ;\\n    rdfs:range :Cl_Location.\\n\\n:isLocatedInCountry rdf:type owl:ObjectProperty ;\\n    rdfs:domain :Cl_City ;\\n    rdfs:range :Cl_Country.\\n\\n:countryName rdf:type owl:DatatypeProperty ;\\n    rdfs:domain :Cl_Country ;\\n    rdfs:range xsd:string.\\n\\n:isBasedOn rdf:type owl:ObjectProperty ;\\n    rdfs:domain :Cl_Production ;\\n    rdfs:range :Cl_Play.\\nThe competency question \"Who are the members of a certain ensemble at a certain point in time?\" is not answerable by the previous version of the RDF as it is not provided.\\n\\nWe need to create a pivot class for the ensemble that includes the members of the ensemble and the time period during which they were members.\\n\\nClasses:\\n- Cl_Ensemble\\n- Cl_Member\\n- Cl_TimePeriod\\n\\nHierarchy:\\n- Cl_Ensemble rdfs:subClassOf :Cl_Group.\\n- Cl_Member rdfs:subClassOf :Cl_Person.\\n- Cl_TimePeriod rdfs:subClassOf :xsd:dateTime.\\n\\nObject Properties:\\n- :hasMember a owl:ObjectProperty ; rdfs:domain :Cl_Ensemble ; rdfs:range :Cl_Member.\\n- :duringTimePeriod a owl:ObjectProperty ; rdfs:domain :Cl_Ensemble ; rdfs:range :Cl_TimePeriod.\\n\\nData Properties:\\n- :memberName a owl:DatatypeProperty ; rdfs:domain :Cl_Member ; rdfs:range xsd:string.\\n- :timePeriodValue a owl:DatatypeProperty ; rdfs:domain :Cl_TimePeriod ; rdfs:range xsd:string.\\n\\nHere is the updated RDF:\\n\\n@prefix : <http://www.example.org/test#> .\\n@prefix rdf: <http://www.w3.org/1999/02/22-rdf-syntax-ns#> .\\n@prefix rdfs: <http://www.w3.org/2000/01/rdf-schema#> .\\n@prefix xsd: <http://www.w3.org/2001/XMLSchema#> .\\n\\n:Cl_TheatreFestival rdf:type owl:Class .\\n:Cl_Date rdf:type owl:Class .\\n:Cl_Location rdf:type owl:Class .\\n:Cl_Play rdf:type owl:Class .\\n:Cl_Theatre rdf:type owl:Class .\\n:Cl_City rdf:type owl:Class .\\n:Cl_Country rdf:type owl:Class .\\n:Cl_Production rdf:type owl:Class .\\n:Cl_Ensemble rdf:type owl:Class .\\n:Cl_Member rdf:type owl:Class .\\n:Cl_TimePeriod rdf:type owl:Class .\\n\\n:Cl_TheatreFestival rdfs:subClassOf :Cl_Event.\\n:Cl_Date rdfs:subClassOf :xsd:date.\\n:Cl_Location rdfs:subClassOf :xsd:string.\\n:Cl_Play rdfs:subClassOf :Cl_Event.\\n:Cl_Theatre rdfs:subClassOf :Cl_Building.\\n:Cl_City rdfs:subClassOf :Cl_Location.\\n:Cl_Country rdfs:subClassOf :xsd:string.\\n:Cl_Production rdfs:subClassOf :Cl_Event.\\n:Cl_Ensemble rdfs:subClassOf :Cl_Group.\\n:Cl_Member rdfs:subClassOf :Cl_Person.\\n:Cl_TimePeriod rdfs:subClassOf :xsd:dateTime.\\n\\n:hasDate rdf:type owl:ObjectProperty ;\\n    rdfs:domain :Cl_TheatreFestival ;\\n    rdfs:range :Cl_Date.\\n\\n:dateValue rdf:type owl:DatatypeProperty ;\\n    rdfs:domain :Cl_Date ;\\n    rdfs:range xsd:string.\\n\\n:hasLocation rdf:type owl:ObjectProperty ;\\n    rdfs:domain :Cl_TheatreFestival ;\\n    rdfs:range :Cl_Location.\\n\\n:locationValue rdf:type owl:DatatypeProperty ;\\n    rdfs:domain :Cl_Location ;\\n    rdfs:range xsd:string.\\n\\n:hasPlay rdf:type owl:ObjectProperty ;\\n    rdfs:domain :Cl_TheatreFestival ;\\n    rdfs:range :Cl_Play.\\n\\n:playName rdf:type owl:DatatypeProperty ;\\n    rdfs:domain :Cl_Play ;\\n    rdfs:range xsd:string.\\n\\n:isLocatedIn rdf:type owl:ObjectProperty ;\\n    rdfs:domain :Cl_Theatre ;\\n    rdfs:range :Cl_Location.\\n\\n:isLocatedInCountry rdf:type owl:ObjectProperty ;\\n    rdfs:domain :Cl_City ;\\n    rdfs:range :Cl_Country.\\n\\n:countryName rdf:type owl:DatatypeProperty ;\\n    rdfs:domain :Cl_Country ;\\n    rdfs:range xsd:string.\\n\\n:isBasedOn rdf:type owl:ObjectProperty ;\\n    rdfs:domain :Cl_Production ;\\n    rdfs:range :Cl_Play.\\n\\n:hasMember rdf:type owl:ObjectProperty ;\\n    rdfs:domain :Cl_Ensemble ;\\n    rdfs:range :Cl_Member.\\n\\n:duringTimePeriod rdf:type owl:ObjectProperty ;\\n    rdfs:domain :Cl_Ensemble ;\\n    rdfs:range :Cl_TimePeriod.\\n\\n:memberName rdf:type owl:DatatypeProperty ;\\n    rdfs:domain :Cl_Member ;\\n    rdfs:range xsd:string.\\n\\n:timePeriodValue rdf:type owl:DatatypeProperty ;\\n    rdfs:domain :Cl_TimePeriod ;\\n    rdfs:range xsd:string.\\nThe competency question \"What plays did a certain author write?\" is not answerable by the previous version of the RDF as it is not provided.\\n\\nWe need to create a pivot class for the author that includes the plays that the author wrote.\\n\\nClasses:\\n- Cl_Author\\n\\nHierarchy:\\n- Cl_Author rdfs:subClassOf :Cl_Person.\\n\\nObject Properties:\\n- :wrotePlay a owl:ObjectProperty ; rdfs:domain :Cl_Author ; rdfs:range :Cl_Play.\\n\\nData Properties:\\n- :authorName a owl:DatatypeProperty ; rdfs:domain :Cl_Author ; rdfs:range xsd:string.\\n\\nHere is the updated RDF:\\n\\n@prefix : <http://www.example.org/test#> .\\n@prefix rdf: <http://www.w3.org/1999/02/22-rdf-syntax-ns#> .\\n@prefix rdfs: <http://www.w3.org/2000/01/rdf-schema#> .\\n@prefix xsd: <http://www.w3.org/2001/XMLSchema#> .\\n\\n:Cl_TheatreFestival rdf:type owl:Class .\\n:Cl_Date rdf:type owl:Class .\\n:Cl_Location rdf:type owl:Class .\\n:Cl_Play rdf:type owl:Class .\\n:Cl_Theatre rdf:type owl:Class .\\n:Cl_City rdf:type owl:Class .\\n:Cl_Country rdf:type owl:Class .\\n:Cl_Production rdf:type owl:Class .\\n:Cl_Ensemble rdf:type owl:Class .\\n:Cl_Member rdf:type owl:Class .\\n:Cl_TimePeriod rdf:type owl:Class .\\n:Cl_Author rdf:type owl:Class .\\n\\n:Cl_TheatreFestival rdfs:subClassOf :Cl_Event.\\n:Cl_Date rdfs:subClassOf :xsd:date.\\n:Cl_Location rdfs:subClassOf :xsd:string.\\n:Cl_Play rdfs:subClassOf :Cl_Event.\\n:Cl_Theatre rdfs:subClassOf :Cl_Building.\\n:Cl_City rdfs:subClassOf :Cl_Location.\\n:Cl_Country rdfs:subClassOf :xsd:string.\\n:Cl_Production rdfs:subClassOf :Cl_Event.\\n:Cl_Ensemble rdfs:subClassOf :Cl_Group.\\n:Cl_Member rdfs:subClassOf :Cl_Person.\\n:Cl_TimePeriod rdfs:subClassOf :xsd:dateTime.\\n:Cl_Author rdfs:subClassOf :Cl_Person.\\n\\n:hasDate rdf:type owl:ObjectProperty ;\\n    rdfs:domain :Cl_TheatreFestival ;\\n    rdfs:range :Cl_Date.\\n\\n:dateValue rdf:type owl:DatatypeProperty ;\\n    rdfs:domain :Cl_Date ;\\n    rdfs:range xsd:string.\\n\\n:hasLocation rdf:type owl:ObjectProperty ;\\n    rdfs:domain :Cl_TheatreFestival ;\\n    rdfs:range :Cl_Location.\\n\\n:locationValue rdf:type owl:DatatypeProperty ;\\n    rdfs:domain :Cl_Location ;\\n    rdfs:range xsd:string.\\n\\n:hasPlay rdf:type owl:ObjectProperty ;\\n    rdfs:domain :Cl_TheatreFestival ;\\n    rdfs:range :Cl_Play.\\n\\n:playName rdf:type owl:DatatypeProperty ;\\n    rdfs:domain :Cl_Play ;\\n    rdfs:range xsd:string.\\n\\n:isLocatedIn rdf:type owl:ObjectProperty ;\\n    rdfs:domain :Cl_Theatre ;\\n    rdfs:range :Cl_Location.\\n\\n:isLocatedInCountry rdf:type owl:ObjectProperty ;\\n    rdfs:domain :Cl_City ;\\n    rdfs:range :Cl_Country.\\n\\n:countryName rdf:type owl:DatatypeProperty ;\\n    rdfs:domain :Cl_Country ;\\n    rdfs:range xsd:string.\\n\\n:isBasedOn rdf:type owl:ObjectProperty ;\\n    rdfs:domain :Cl_Production ;\\n    rdfs:range :Cl_Play.\\n\\n:hasMember rdf:type owl:ObjectProperty ;\\n    rdfs:domain :Cl_Ensemble ;\\n    rdfs:range :Cl_Member.\\n\\n:duringTimePeriod rdf:type owl:ObjectProperty ;\\n    rdfs:domain :Cl_Ensemble ;\\n    rdfs:range :Cl_TimePeriod.\\n\\n:memberName rdf:type owl:DatatypeProperty ;\\n    rdfs:domain :Cl_Member ;\\n    rdfs:range xsd:string.\\n\\n:timePeriodValue rdf:type owl:DatatypeProperty ;\\n    rdfs:domain :Cl_TimePeriod ;\\n    rdfs:range xsd:string.\\n\\n:wrotePlay rdf:type owl:ObjectProperty ;\\n    rdfs:domain :Cl_Author ;\\n    rdfs:range :Cl_Play.\\n\\n:authorName rdf:type owl:DatatypeProperty ;\\n    rdfs:domain :Cl_Author ;\\n    rdfs:range xsd:string.\\nThe competency question \"During what time period was a certain play written?\" is not answerable by the previous version of the RDF as it is not provided.\\n\\nWe need to create a pivot class for the play that includes the time period during which it was written.\\n\\nClasses:\\n- Cl_WritingPeriod\\n\\nHierarchy:\\n- Cl_WritingPeriod rdfs:subClassOf :xsd:dateTime.\\n\\nObject Properties:\\n- :wasWrittenDuring a owl:ObjectProperty ; rdfs:domain :Cl_Play ; rdfs:range :Cl_WritingPeriod.\\n\\nData Properties:\\n- :writingPeriodValue a owl:DatatypeProperty ; rdfs:domain :Cl_WritingPeriod ; rdfs:range xsd:string.\\n\\nHere is the updated RDF:\\n\\n@prefix : <http://www.example.org/test#> .\\n@prefix rdf: <http://www.w3.org/1999/02/22-rdf-syntax-ns#> .\\n@prefix rdfs: <http://www.w3.org/2000/01/rdf-schema#> .\\n@prefix xsd: <http://www.w3.org/2001/XMLSchema#> .\\n\\n:Cl_TheatreFestival rdf:type owl:Class .\\n:Cl_Date rdf:type owl:Class .\\n:Cl_Location rdf:type owl:Class .\\n:Cl_Play rdf:type owl:Class .\\n:Cl_Theatre rdf:type owl:Class .\\n:Cl_City rdf:type owl:Class .\\n:Cl_Country rdf:type owl:Class .\\n:Cl_Production rdf:type owl:Class .\\n:Cl_Ensemble rdf:type owl:Class .\\n:Cl_Member rdf:type owl:Class .\\n:Cl_TimePeriod rdf:type owl:Class .\\n:Cl_Author rdf:type owl:Class .\\n:Cl_WritingPeriod rdf:type owl:Class .\\n\\n:Cl_TheatreFestival rdfs:subClassOf :Cl_Event.\\n:Cl_Date rdfs:subClassOf :xsd:date.\\n:Cl_Location rdfs:subClassOf :xsd:string.\\n:Cl_Play rdfs:subClassOf :Cl_Event.\\n:Cl_Theatre rdfs:subClassOf :Cl_Building.\\n:Cl_City rdfs:subClassOf :Cl_Location.\\n:Cl_Country rdfs:subClassOf :xsd:string.\\n:Cl_Production rdfs:subClassOf :Cl_Event.\\n:Cl_Ensemble rdfs:subClassOf :Cl_Group.\\n:Cl_Member rdfs:subClassOf :Cl_Person.\\n:Cl_TimePeriod rdfs:subClassOf :xsd:dateTime.\\n:Cl_Author rdfs:subClassOf :Cl_Person.\\n:Cl_WritingPeriod rdfs:subClassOf :xsd:dateTime.\\n\\n:hasDate rdf:type owl:ObjectProperty ;\\n    rdfs:domain :Cl_TheatreFestival ;\\n    rdfs:range :Cl_Date.\\n\\n:dateValue rdf:type owl:DatatypeProperty ;\\n    rdfs:domain :Cl_Date ;\\n    rdfs:range xsd:string.\\n\\n:hasLocation rdf:type owl:ObjectProperty ;\\n    rdfs:domain :Cl_TheatreFestival ;\\n    rdfs:range :Cl_Location.\\n\\n:locationValue rdf:type owl:DatatypeProperty ;\\n    rdfs:domain :Cl_Location ;\\n    rdfs:range xsd:string.\\n\\n:hasPlay rdf:type owl:ObjectProperty ;\\n    rdfs:domain :Cl_TheatreFestival ;\\n    rdfs:range :Cl_Play.\\n\\n:playName rdf:type owl:DatatypeProperty ;\\n    rdfs:domain :Cl_Play ;\\n    rdfs:range xsd:string.\\n\\n:isLocatedIn rdf:type owl:ObjectProperty ;\\n    rdfs:domain :Cl_Theatre ;\\n    rdfs:range :Cl_Location.\\n\\n:isLocatedInCountry rdf:type owl:ObjectProperty ;\\n    rdfs:domain :Cl_City ;\\n    rdfs:range :Cl_Country.\\n\\n:countryName rdf:type owl:DatatypeProperty ;\\n    rdfs:domain :Cl_Country ;\\n    rdfs:range xsd:string.\\n\\n:isBasedOn rdf:type owl:ObjectProperty ;\\n    rdfs:domain :Cl_Production ;\\n    rdfs:range :Cl_Play.\\n\\n:hasMember rdf:type owl:ObjectProperty ;\\n    rdfs:domain :Cl_Ensemble ;\\n    rdfs:range :Cl_Member.\\n\\n:duringTimePeriod rdf:type owl:ObjectProperty ;\\n    rdfs:domain :Cl_Ensemble ;\\n    rdfs:range :Cl_TimePeriod.\\n\\n:memberName rdf:type owl:DatatypeProperty ;\\n    rdfs:domain :Cl_Member ;\\n    rdfs:range xsd:string.\\n\\n:timePeriodValue rdf:type owl:DatatypeProperty ;\\n    rdfs:domain :Cl_TimePeriod ;\\n    rdfs:range xsd:string.\\n\\n:wrotePlay rdf:type owl:ObjectProperty ;\\n    rdfs:domain :Cl_Author ;\\n    rdfs:range :Cl_Play.\\n\\n:authorName rdf:type owl:DatatypeProperty ;\\n    rdfs:domain :Cl_Author ;\\n    rdfs:range xsd:string.\\n\\n:wasWrittenDuring rdf:type owl:ObjectProperty ;\\n    rdfs:domain :Cl_Play ;\\n    rdfs:range :Cl_WritingPeriod.\\n\\n:writingPeriodValue rdf:type owl:DatatypeProperty ;\\n    rdfs:domain :Cl_WritingPeriod ;\\n    rdfs:range xsd:string.\\nThe competency question \"How many acts does a particular play contain?\" is not answerable by the previous version of the RDF as it is not provided.\\n\\nWe need to create a pivot class for the play that includes the number of acts in the play.\\n\\nClasses:\\n- Cl_Acts\\n\\nHierarchy:\\n- Cl_Acts rdfs:subClassOf :xsd:integer.\\n\\nObject Properties:\\n- :hasActs a owl:ObjectProperty ; rdfs:domain :Cl_Play ; rdfs:range :Cl_Acts.\\n\\nData Properties:\\n- :actsValue a owl:DatatypeProperty ; rdfs:domain :Cl_Acts ; rdfs:range xsd:integer.\\n\\nHere is the updated RDF:\\n\\n@prefix : <http://www.example.org/test#> .\\n@prefix rdf: <http://www.w3.org/1999/02/22-rdf-syntax-ns#> .\\n@prefix rdfs: <http://www.w3.org/2000/01/rdf-schema#> .\\n@prefix xsd: <http://www.w3.org/2001/XMLSchema#> .\\n\\n:Cl_TheatreFestival rdf:type owl:Class .\\n:Cl_Date rdf:type owl:Class .\\n:Cl_Location rdf:type owl:Class .\\n:Cl_Play rdf:type owl:Class .\\n:Cl_Theatre rdf:type owl:Class .\\n:Cl_City rdf:type owl:Class .\\n:Cl_Country rdf:type owl:Class .\\n:Cl_Production rdf:type owl:Class .\\n:Cl_Ensemble rdf:type owl:Class .\\n:Cl_Member rdf:type owl:Class .\\n:Cl_TimePeriod rdf:type owl:Class .\\n:Cl_Author rdf:type owl:Class .\\n:Cl_WritingPeriod rdf:type owl:Class .\\n:Cl_Acts rdf:type owl:Class .\\n\\n:Cl_TheatreFestival rdfs:subClassOf :Cl_Event.\\n:Cl_Date rdfs:subClassOf :xsd:date.\\n:Cl_Location rdfs:subClassOf :xsd:string.\\n:Cl_Play rdfs:subClassOf :Cl_Event.\\n:Cl_Theatre rdfs:subClassOf :Cl_Building.\\n:Cl_City rdfs:subClassOf :Cl_Location.\\n:Cl_Country rdfs:subClassOf :xsd:string.\\n:Cl_Production rdfs:subClassOf :Cl_Event.\\n:Cl_Ensemble rdfs:subClassOf :Cl_Group.\\n:Cl_Member rdfs:subClassOf :Cl_Person.\\n:Cl_TimePeriod rdfs:subClassOf :xsd:dateTime.\\n:Cl_Author rdfs:subClassOf :Cl_Person.\\n:Cl_WritingPeriod rdfs:subClassOf :xsd:dateTime.\\n:Cl_Acts rdfs:subClassOf :xsd:integer.\\n\\n:hasDate rdf:type owl:ObjectProperty ;\\n    rdfs:domain :Cl_TheatreFestival ;\\n    rdfs:range :Cl_Date.\\n\\n:dateValue rdf:type owl:DatatypeProperty ;\\n    rdfs:domain :Cl_Date ;\\n    rdfs:range xsd:string.\\n\\n:hasLocation rdf:type owl:ObjectProperty ;\\n    rdfs:domain :Cl_TheatreFestival ;\\n    rdfs:range :Cl_Location.\\n\\n:locationValue rdf:type owl:DatatypeProperty ;\\n    rdfs:domain :Cl_Location ;\\n    rdfs:range xsd:string.\\n\\n:hasPlay rdf:type owl:ObjectProperty ;\\n    rdfs:domain :Cl_TheatreFestival ;\\n    rdfs:range :Cl_Play.\\n\\n:playName rdf:type owl:DatatypeProperty ;\\n    rdfs:domain :Cl_Play ;\\n    rdfs:range xsd:string.\\n\\n:isLocatedIn rdf:type owl:ObjectProperty ;\\n    rdfs:domain :Cl_Theatre ;\\n    rdfs:range :Cl_Location.\\n\\n:isLocatedInCountry rdf:type owl:ObjectProperty ;\\n    rdfs:domain :Cl_City ;\\n    rdfs:range :Cl_Country.\\n\\n:countryName rdf:type owl:DatatypeProperty ;\\n    rdfs:domain :Cl_Country ;\\n    rdfs:range xsd:string.\\n\\n:isBasedOn rdf:type owl:ObjectProperty ;\\n    rdfs:domain :Cl_Production ;\\n    rdfs:range :Cl_Play.\\n\\n:hasMember rdf:type owl:ObjectProperty ;\\n    rdfs:domain :Cl_Ensemble ;\\n    rdfs:range :Cl_Member.\\n\\n:duringTimePeriod rdf:type owl:ObjectProperty ;\\n    rdfs:domain :Cl_Ensemble ;\\n    rdfs:range :Cl_TimePeriod.\\n\\n:memberName rdf:type owl:DatatypeProperty ;\\n    rdfs:domain :Cl_Member ;\\n    rdfs:range xsd:string.\\n\\n:timePeriodValue rdf:type owl:DatatypeProperty ;\\n    rdfs:domain :Cl_TimePeriod ;\\n    rdfs:range xsd:string.\\n\\n:wrotePlay rdf:type owl:ObjectProperty ;\\n    rdfs:domain :Cl_Author ;\\n    rdfs:range :Cl_Play.\\n\\n:authorName rdf:type owl:DatatypeProperty ;\\n    rdfs:domain :Cl_Author ;\\n    rdfs:range xsd:string.\\n\\n:wasWrittenDuring rdf:type owl:ObjectProperty ;\\n    rdfs:domain :Cl_Play ;\\n    rdfs:range :Cl_WritingPeriod.\\n\\n:writingPeriodValue rdf:type owl:DatatypeProperty ;\\n    rdfs:domain :Cl_WritingPeriod ;\\n    rdfs:range xsd:string.\\n\\n:hasActs rdf:type owl:ObjectProperty ;\\n    rdfs:domain :Cl_Play ;\\n    rdfs:range :Cl_Acts.\\n\\n:actsValue rdf:type owl:DatatypeProperty ;\\n    rdfs:domain :Cl_Acts ;\\n    rdfs:range xsd:integer.\\nThe competency question \"When was the premier of a certain production?\" is not answerable by the previous version of the RDF as it is not provided.\\n\\nWe need to create a pivot class for the production that includes the date of the premier.\\n\\nClasses:\\n- Cl_PremierDate\\n\\nHierarchy:\\n- Cl_PremierDate rdfs:subClassOf :xsd:date.\\n\\nObject Properties:\\n- :hasPremierDate a owl:ObjectProperty ; rdfs:domain :Cl_Production ; rdfs:range :Cl_PremierDate.\\n\\nData Properties:\\n- :premierDateValue a owl:DatatypeProperty ; rdfs:domain :Cl_PremierDate ; rdfs:range xsd:string.\\n\\nHere is the updated RDF:\\n\\n@prefix : <http://www.example.org/test#> .\\n@prefix rdf: <http://www.w3.org/1999/02/22-rdf-syntax-ns#> .\\n@prefix rdfs: <http://www.w3.org/2000/01/rdf-schema#> .\\n@prefix xsd: <http://www.w3.org/2001/XMLSchema#> .\\n\\n:Cl_TheatreFestival rdf:type owl:Class .\\n:Cl_Date rdf:type owl:Class .\\n:Cl_Location rdf:type owl:Class .\\n:Cl_Play rdf:type owl:Class .\\n:Cl_Theatre rdf:type owl:Class .\\n:Cl_City rdf:type owl:Class .\\n:Cl_Country rdf:type owl:Class .\\n:Cl_Production rdf:type owl:Class .\\n:Cl_Ensemble rdf:type owl:Class .\\n:Cl_Member rdf:type owl:Class .\\n:Cl_TimePeriod rdf:type owl:Class .\\n:Cl_Author rdf:type owl:Class .\\n:Cl_WritingPeriod rdf:type owl:Class .\\n:Cl_Acts rdf:type owl:Class .\\n:Cl_PremierDate rdf:type owl:Class .\\n\\n:Cl_TheatreFestival rdfs:subClassOf :Cl_Event.\\n:Cl_Date rdfs:subClassOf :xsd:date.\\n:Cl_Location rdfs:subClassOf :xsd:string.\\n:Cl_Play rdfs:subClassOf :Cl_Event.\\n:Cl_Theatre rdfs:subClassOf :Cl_Building.\\n:Cl_City rdfs:subClassOf :Cl_Location.\\n:Cl_Country rdfs:subClassOf :xsd:string.\\n:Cl_Production rdfs:subClassOf :Cl_Event.\\n:Cl_Ensemble rdfs:subClassOf :Cl_Group.\\n:Cl_Member rdfs:subClassOf :Cl_Person.\\n:Cl_TimePeriod rdfs:subClassOf :xsd:dateTime.\\n:Cl_Author rdfs:subClassOf :Cl_Person.\\n:Cl_WritingPeriod rdfs:subClassOf :xsd:dateTime.\\n:Cl_Acts rdfs:subClassOf :xsd:integer.\\n:Cl_PremierDate rdfs:subClassOf :xsd:date.\\n\\n:hasDate rdf:type owl:ObjectProperty ;\\n    rdfs:domain :Cl_TheatreFestival ;\\n    rdfs:range :Cl_Date.\\n\\n:dateValue rdf:type owl:DatatypeProperty ;\\n    rdfs:domain :Cl_Date ;\\n    rdfs:range xsd:string.\\n\\n:hasLocation rdf:type owl:ObjectProperty ;\\n    rdfs:domain :Cl_TheatreFestival ;\\n    rdfs:range :Cl_Location.\\n\\n:locationValue rdf:type owl:DatatypeProperty ;\\n    rdfs:domain :Cl_Location ;\\n    rdfs:range xsd:string.\\n\\n:hasPlay rdf:type owl:ObjectProperty ;\\n    rdfs:domain :Cl_TheatreFestival ;\\n    rdfs:range :Cl_Play.\\n\\n:playName rdf:type owl:DatatypeProperty ;\\n    rdfs:domain :Cl_Play ;\\n    rdfs:range xsd:string.\\n\\n:isLocatedIn rdf:type owl:ObjectProperty ;\\n    rdfs:domain :Cl_Theatre ;\\n    rdfs:range :Cl_Location.\\n\\n:isLocatedInCountry rdf:type owl:ObjectProperty ;\\n    rdfs:domain :Cl_City ;\\n    rdfs:range :Cl_Country.\\n\\n:countryName rdf:type owl:DatatypeProperty ;\\n    rdfs:domain :Cl_Country ;\\n    rdfs:range xsd:string.\\n\\n:isBasedOn rdf:type owl:ObjectProperty ;\\n    rdfs:domain :Cl_Production ;\\n    rdfs:range :Cl_Play.\\n\\n:hasMember rdf:type owl:ObjectProperty ;\\n    rdfs:domain :Cl_Ensemble ;\\n    rdfs:range :Cl_Member.\\n\\n:duringTimePeriod rdf:type owl:ObjectProperty ;\\n    rdfs:domain :Cl_Ensemble ;\\n    rdfs:range :Cl_TimePeriod.\\n\\n:memberName rdf:type owl:DatatypeProperty ;\\n    rdfs:domain :Cl_Member ;\\n    rdfs:range xsd:string.\\n\\n:timePeriodValue rdf:type owl:DatatypeProperty ;\\n    rdfs:domain :Cl_TimePeriod ;\\n    rdfs:range xsd:string.\\n\\n:wrotePlay rdf:type owl:ObjectProperty ;\\n    rdfs:domain :Cl_Author ;\\n    rdfs:range :Cl_Play.\\n\\n:authorName rdf:type owl:DatatypeProperty ;\\n    rdfs:domain :Cl_Author ;\\n    rdfs:range xsd:string.\\n\\n:wasWrittenDuring rdf:type owl:ObjectProperty ;\\n    rdfs:domain :Cl_Play ;\\n    rdfs:range :Cl_WritingPeriod.\\n\\n:writingPeriodValue rdf:type owl:DatatypeProperty ;\\n    rdfs:domain :Cl_WritingPeriod ;\\n    rdfs:range xsd:string.\\n\\n:hasActs rdf:type owl:ObjectProperty ;\\n    rdfs:domain :Cl_Play ;\\n    rdfs:range :Cl_Acts.\\n\\n:actsValue rdf:type owl:DatatypeProperty ;\\n    rdfs:domain :Cl_Acts ;\\n    rdfs:range xsd:integer.\\n\\n:hasPremierDate rdf:type owl:ObjectProperty ;\\n    rdfs:domain :Cl_Production ;\\n    rdfs:range :Cl_PremierDate.\\n\\n:premierDateValue rdf:type owl:DatatypeProperty ;\\n    rdfs:domain :Cl_PremierDate ;\\n    rdfs:range xsd:string.\\nThe competency question \"What is the “star rating” given by a certain newspaper for a certain production?\" is not answerable by the previous version of the RDF as it is not provided.\\n\\nWe need to create a pivot class for the review that includes the star rating given by a newspaper for a production.\\n\\nClasses:\\n- Cl_Review\\n- Cl_StarRating\\n\\nHierarchy:\\n- Cl_Review rdfs:subClassOf :Cl_Evaluation.\\n- Cl_StarRating rdfs:subClassOf :xsd:integer.\\n\\nObject Properties:\\n- :hasReview a owl:ObjectProperty ; rdfs:domain :Cl_Production ; rdfs:range :Cl_Review.\\n- :hasStarRating a owl:ObjectProperty ; rdfs:domain :Cl_Review ; rdfs:range :Cl_StarRating.\\n\\nData Properties:\\n- :starRatingValue a owl:DatatypeProperty ; rdfs:domain :Cl_StarRating ; rdfs:range xsd:integer.\\n\\nHere is the updated RDF:\\n\\n@prefix : <http://www.example.org/test#> .\\n@prefix rdf: <http://www.w3.org/1999/02/22-rdf-syntax-ns#> .\\n@prefix rdfs: <http://www.w3.org/2000/01/rdf-schema#> .\\n@prefix xsd: <http://www.w3.org/2001/XMLSchema#> .\\n\\n:Cl_TheatreFestival rdf:type owl:Class .\\n:Cl_Date rdf:type owl:Class .\\n:Cl_Location rdf:type owl:Class .\\n:Cl_Play rdf:type owl:Class .\\n:Cl_Theatre rdf:type owl:Class .\\n:Cl_City rdf:type owl:Class .\\n:Cl_Country rdf:type owl:Class .\\n:Cl_Production rdf:type owl:Class .\\n:Cl_Ensemble rdf:type owl:Class .\\n:Cl_Member rdf:type owl:Class .\\n:Cl_TimePeriod rdf:type owl:Class .\\n:Cl_Author rdf:type owl:Class .\\n:Cl_WritingPeriod rdf:type owl:Class .\\n:Cl_Acts rdf:type owl:Class .\\n:Cl_PremierDate rdf:type owl:Class .\\n:Cl_Review rdf:type owl:Class .\\n:Cl_StarRating rdf:type owl:Class .\\n\\n:Cl_TheatreFestival rdfs:subClassOf :Cl_Event.\\n:Cl_Date rdfs:subClassOf :xsd:date.\\n:Cl_Location rdfs:subClassOf :xsd:string.\\n:Cl_Play rdfs:subClassOf :Cl_Event.\\n:Cl_Theatre rdfs:subClassOf :Cl_Building.\\n:Cl_City rdfs:subClassOf :Cl_Location.\\n:Cl_Country rdfs:subClassOf :xsd:string.\\n:Cl_Production rdfs:subClassOf :Cl_Event.\\n:Cl_Ensemble rdfs:subClassOf :Cl_Group.\\n:Cl_Member rdfs:subClassOf :Cl_Person.\\n:Cl_TimePeriod rdfs:subClassOf :xsd:dateTime.\\n:Cl_Author rdfs:subClassOf :Cl_Person.\\n:Cl_WritingPeriod rdfs:subClassOf :xsd:dateTime.\\n:Cl_Acts rdfs:subClassOf :xsd:integer.\\n:Cl_PremierDate rdfs:subClassOf :xsd:date.\\n:Cl_Review rdfs:subClassOf :Cl_Evaluation.\\n:Cl_StarRating rdfs:subClassOf :xsd:integer.\\n\\n:hasDate rdf:type owl:ObjectProperty ;\\n    rdfs:domain :Cl_TheatreFestival ;\\n    rdfs:range :Cl_Date.\\n\\n:dateValue rdf:type owl:DatatypeProperty ;\\n    rdfs:domain :Cl_Date ;\\n    rdfs:range xsd:string.\\n\\n:hasLocation rdf:type owl:ObjectProperty ;\\n    rdfs:domain :Cl_TheatreFestival ;\\n    rdfs:range :Cl_Location.\\n\\n:locationValue rdf:type owl:DatatypeProperty ;\\n    rdfs:domain :Cl_Location ;\\n    rdfs:range xsd:string.\\n\\n:hasPlay rdf:type owl:ObjectProperty ;\\n    rdfs:domain :Cl_TheatreFestival ;\\n    rdfs:range :Cl_Play.\\n\\n:playName rdf:type owl:DatatypeProperty ;\\n    rdfs:domain :Cl_Play ;\\n    rdfs:range xsd:string.\\n\\n:isLocatedIn rdf:type owl:ObjectProperty ;\\n    rdfs:domain :Cl_Theatre ;\\n    rdfs:range :Cl_Location.\\n\\n:isLocatedInCountry rdf:type owl:ObjectProperty ;\\n    rdfs:domain :Cl_City ;\\n    rdfs:range :Cl_Country.\\n\\n:countryName rdf:type owl:DatatypeProperty ;\\n    rdfs:domain :Cl_Country ;\\n    rdfs:range xsd:string.\\n\\n:isBasedOn rdf:type owl:ObjectProperty ;\\n    rdfs:domain :Cl_Production ;\\n    rdfs:range :Cl_Play.\\n\\n:hasMember rdf:type owl:ObjectProperty ;\\n    rdfs:domain :Cl_Ensemble ;\\n    rdfs:range :Cl_Member.\\n\\n:duringTimePeriod rdf:type owl:ObjectProperty ;\\n    rdfs:domain :Cl_Ensemble ;\\n    rdfs:range :Cl_TimePeriod.\\n\\n:memberName rdf:type owl:DatatypeProperty ;\\n    rdfs:domain :Cl_Member ;\\n    rdfs:range xsd:string.\\n\\n:timePeriodValue rdf:type owl:DatatypeProperty ;\\n    rdfs:domain :Cl_TimePeriod ;\\n    rdfs:range xsd:string.\\n\\n:wrotePlay rdf:type owl:ObjectProperty ;\\n    rdfs:domain :Cl_Author ;\\n    rdfs:range :Cl_Play.\\n\\n:authorName rdf:type owl:DatatypeProperty ;\\n    rdfs:domain :Cl_Author ;\\n    rdfs:range xsd:string.\\n\\n:wasWrittenDuring rdf:type owl:ObjectProperty ;\\n    rdfs:domain :Cl_Play ;\\n    rdfs:range :Cl_WritingPeriod.\\n\\n:writingPeriodValue rdf:type owl:DatatypeProperty ;\\n    rdfs:domain :Cl_WritingPeriod ;\\n    rdfs:range xsd:string.\\n\\n:hasActs rdf:type owl:ObjectProperty ;\\n    rdfs:domain :Cl_Play ;\\n    rdfs:range :Cl_Acts.\\n\\n:actsValue rdf:type owl:DatatypeProperty ;\\n    rdfs:domain :Cl_Acts ;\\n    rdfs:range xsd:integer.\\n\\n:hasPremierDate rdf:type owl:ObjectProperty ;\\n    rdfs:domain :Cl_Production ;\\n    rdfs:range :Cl_PremierDate.\\n\\n:premierDateValue rdf:type owl:DatatypeProperty ;\\n    rdfs:domain :Cl_PremierDate ;\\n    rdfs:range xsd:string.\\n\\n:hasReview rdf:type owl:ObjectProperty ;\\n    rdfs:domain :Cl_Production ;\\n    rdfs:range :Cl_Review.\\n\\n:hasStarRating rdf:type owl:ObjectProperty ;\\n    rdfs:domain :Cl_Review ;\\n    rdfs:range :Cl_StarRating.\\n\\n:starRatingValue rdf:type owl:DatatypeProperty ;\\n    rdfs:domain :Cl_StarRating ;\\n    rdfs:range xsd:integer.\\nThe competency question \"At what time did a certain actor start working for a specific theatre?\" is not answerable by the previous version of the RDF as it is not provided.\\n\\nWe need to create a pivot class for the actor that includes the time they started working for a specific theatre.\\n\\nClasses:\\n- Cl_Actor\\n- Cl_StartDate\\n\\nHierarchy:\\n- Cl_Actor rdfs:subClassOf :Cl_Person.\\n- Cl_StartDate rdfs:subClassOf :xsd:date.\\n\\nObject Properties:\\n- :worksAt a owl:ObjectProperty ; rdfs:domain :Cl_Actor ; rdfs:range :Cl_Theatre.\\n- :startedWorkingOn a owl:ObjectProperty ; rdfs:domain :Cl_Actor ; rdfs:range :Cl_StartDate.\\n\\nData Properties:\\n- :actorName a owl:DatatypeProperty ; rdfs:domain :Cl_Actor ; rdfs:range xsd:string.\\n- :startDateValue a owl:DatatypeProperty ; rdfs:domain :Cl_StartDate ; rdfs:range xsd:string.\\n\\nHere is the updated RDF:\\n\\n@prefix : <http://www.example.org/test#> .\\n@prefix rdf: <http://www.w3.org/1999/02/22-rdf-syntax-ns#> .\\n@prefix rdfs: <http://www.w3.org/2000/01/rdf-schema#> .\\n@prefix xsd: <http://www.w3.org/2001/XMLSchema#> .\\n\\n:Cl_TheatreFestival rdf:type owl:Class .\\n:Cl_Date rdf:type owl:Class .\\n:Cl_Location rdf:type owl:Class .\\n:Cl_Play rdf:type owl:Class .\\n:Cl_Theatre rdf:type owl:Class .\\n:Cl_City rdf:type owl:Class .\\n:Cl_Country rdf:type owl:Class .\\n:Cl_Production rdf:type owl:Class .\\n:Cl_Ensemble rdf:type owl:Class .\\n:Cl_Member rdf:type owl:Class .\\n:Cl_TimePeriod rdf:type owl:Class .\\n:Cl_Author rdf:type owl:Class .\\n:Cl_WritingPeriod rdf:type owl:Class .\\n:Cl_Acts rdf:type owl:Class .\\n:Cl_PremierDate rdf:type owl:Class .\\n:Cl_Review rdf:type owl:Class .\\n:Cl_StarRating rdf:type owl:Class .\\n:Cl_Actor rdf:type owl:Class .\\n:Cl_StartDate rdf:type owl:Class .\\n\\n:Cl_TheatreFestival rdfs:subClassOf :Cl_Event.\\n:Cl_Date rdfs:subClassOf :xsd:date.\\n:Cl_Location rdfs:subClassOf :xsd:string.\\n:Cl_Play rdfs:subClassOf :Cl_Event.\\n:Cl_Theatre rdfs:subClassOf :Cl_Building.\\n:Cl_City rdfs:subClassOf :Cl_Location.\\n:Cl_Country rdfs:subClassOf :xsd:string.\\n:Cl_Production rdfs:subClassOf :Cl_Event.\\n:Cl_Ensemble rdfs:subClassOf :Cl_Group.\\n:Cl_Member rdfs:subClassOf :Cl_Person.\\n:Cl_TimePeriod rdfs:subClassOf :xsd:dateTime.\\n:Cl_Author rdfs:subClassOf :Cl_Person.\\n:Cl_WritingPeriod rdfs:subClassOf :xsd:dateTime.\\n:Cl_Acts rdfs:subClassOf :xsd:integer.\\n:Cl_PremierDate rdfs:subClassOf :xsd:date.\\n:Cl_Review rdfs:subClassOf :Cl_Evaluation.\\n:Cl_StarRating rdfs:subClassOf :xsd:integer.\\n:Cl_Actor rdfs:subClassOf :Cl_Person.\\n:Cl_StartDate rdfs:subClassOf :xsd:date.\\n\\n:hasDate rdf:type owl:ObjectProperty ;\\n    rdfs:domain :Cl_TheatreFestival ;\\n    rdfs:range :Cl_Date.\\n\\n:dateValue rdf:type owl:DatatypeProperty ;\\n    rdfs:domain :Cl_Date ;\\n    rdfs:range xsd:string.\\n\\n:hasLocation rdf:type owl:ObjectProperty ;\\n    rdfs:domain :Cl_TheatreFestival ;\\n    rdfs:range :Cl_Location.\\n\\n:locationValue rdf:type owl:DatatypeProperty ;\\n    rdfs:domain :Cl_Location ;\\n    rdfs:range xsd:string.\\n\\n:hasPlay rdf:type owl:ObjectProperty ;\\n    rdfs:domain :Cl_TheatreFestival ;\\n    rdfs:range :Cl_Play.\\n\\n:playName rdf:type owl:DatatypeProperty ;\\n    rdfs:domain :Cl_Play ;\\n    rdfs:range xsd:string.\\n\\n:isLocatedIn rdf:type owl:ObjectProperty ;\\n    rdfs:domain :Cl_Theatre ;\\n    rdfs:range :Cl_Location.\\n\\n:isLocatedInCountry rdf:type owl:ObjectProperty ;\\n    rdfs:domain :Cl_City ;\\n    rdfs:range :Cl_Country.\\n\\n:countryName rdf:type owl:DatatypeProperty ;\\n    rdfs:domain :Cl_Country ;\\n    rdfs:range xsd:string.\\n\\n:isBasedOn rdf:type owl:ObjectProperty ;\\n    rdfs:domain :Cl_Production ;\\n    rdfs:range :Cl_Play.\\n\\n:hasMember rdf:type owl:ObjectProperty ;\\n    rdfs:domain :Cl_Ensemble ;\\n    rdfs:range :Cl_Member.\\n\\n:duringTimePeriod rdf:type owl:ObjectProperty ;\\n    rdfs:domain :Cl_Ensemble ;\\n    rdfs:range :Cl_TimePeriod.\\n\\n:memberName rdf:type owl:DatatypeProperty ;\\n    rdfs:domain :Cl_Member ;\\n    rdfs:range xsd:string.\\n\\n:timePeriodValue rdf:type owl:DatatypeProperty ;\\n    rdfs:domain :Cl_TimePeriod ;\\n    rdfs:range xsd:string.\\n\\n:wrotePlay rdf:type owl:ObjectProperty ;\\n    rdfs:domain :Cl_Author ;\\n    rdfs:range :Cl_Play.\\n\\n:authorName rdf:type owl:DatatypeProperty ;\\n    rdfs:domain :Cl_Author ;\\n    rdfs:range xsd:string.\\n\\n:wasWrittenDuring rdf:type owl:ObjectProperty ;\\n    rdfs:domain :Cl_Play ;\\n    rdfs:range :Cl_WritingPeriod.\\n\\n:writingPeriodValue rdf:type owl:DatatypeProperty ;\\n    rdfs:domain :Cl_WritingPeriod ;\\n    rdfs:range xsd:string.\\n\\n:hasActs rdf:type owl:ObjectProperty ;\\n    rdfs:domain :Cl_Play ;\\n    rdfs:range :Cl_Acts.\\n\\n:actsValue rdf:type owl:DatatypeProperty ;\\n    rdfs:domain :Cl_Acts ;\\n    rdfs:range xsd:integer.\\n\\n:hasPremierDate rdf:type owl:ObjectProperty ;\\n    rdfs:domain :Cl_Production ;\\n    rdfs:range :Cl_PremierDate.\\n\\n:premierDateValue rdf:type owl:DatatypeProperty ;\\n    rdfs:domain :Cl_PremierDate ;\\n    rdfs:range xsd:string.\\n\\n:hasReview rdf:type owl:ObjectProperty ;\\n    rdfs:domain :Cl_Production ;\\n    rdfs:range :Cl_Review.\\n\\n:hasStarRating rdf:type owl:ObjectProperty ;\\n    rdfs:domain :Cl_Review ;\\n    rdfs:range :Cl_StarRating.\\n\\n:starRatingValue rdf:type owl:DatatypeProperty ;\\n    rdfs:domain :Cl_StarRating ;\\n    rdfs:range xsd:integer.\\n\\n:worksAt rdf:type owl:ObjectProperty ;\\n    rdfs:domain :Cl_Actor ;\\n    rdfs:range :Cl_Theatre.\\n\\n:startedWorkingOn rdf:type owl:ObjectProperty ;\\n    rdfs:domain :Cl_Actor ;\\n    rdfs:range :Cl_StartDate.\\n\\n:actorName rdf:type owl:DatatypeProperty ;\\n    rdfs:domain :Cl_Actor ;\\n    rdfs:range xsd:string.\\n\\n:startDateValue rdf:type owl:DatatypeProperty ;\\n    rdfs:domain :Cl_StartDate ;\\n    rdfs:range xsd:string.\\nThe competency question \"What roles does a certain person have within a certain production at a certain point in time?\" is not answerable by the previous version of the RDF as it is not provided.\\n\\nWe need to create a pivot class for the person that includes the roles they have within a production at a certain point in time.\\n\\nClasses:\\n- Cl_Role\\n- Cl_PersonRoleProduction\\n\\nHierarchy:\\n- Cl_Role rdfs:subClassOf :xsd:string.\\n- Cl_PersonRoleProduction rdfs:subClassOf :Cl_Event.\\n\\nObject Properties:\\n- :hasRole a owl:ObjectProperty ; rdfs:domain :Cl_PersonRoleProduction ; rdfs:range :Cl_Role.\\n- :roleOfPerson a owl:ObjectProperty ; rdfs:domain :Cl_PersonRoleProduction ; rdfs:range :Cl_Person.\\n- :roleInProduction a owl:ObjectProperty ; rdfs:domain :Cl_PersonRoleProduction ; rdfs:range :Cl_Production.\\n\\nData Properties:\\n- :roleName a owl:DatatypeProperty ; rdfs:domain :Cl_Role ; rdfs:range xsd:string.\\n\\nHere is the updated RDF:\\n\\n@prefix : <http://www.example.org/test#> .\\n@prefix rdf: <http://www.w3.org/1999/02/22-rdf-syntax-ns#> .\\n@prefix rdfs: <http://www.w3.org/2000/01/rdf-schema#> .\\n@prefix xsd: <http://www.w3.org/2001/XMLSchema#> .\\n\\n:Cl_TheatreFestival rdf:type owl:Class .\\n:Cl_Date rdf:type owl:Class .\\n:Cl_Location rdf:type owl:Class .\\n:Cl_Play rdf:type owl:Class .\\n:Cl_Theatre rdf:type owl:Class .\\n:Cl_City rdf:type owl:Class .\\n:Cl_Country rdf:type owl:Class .\\n:Cl_Production rdf:type owl:Class .\\n:Cl_Ensemble rdf:type owl:Class .\\n:Cl_Member rdf:type owl:Class .\\n:Cl_TimePeriod rdf:type owl:Class .\\n:Cl_Author rdf:type owl:Class .\\n:Cl_WritingPeriod rdf:type owl:Class .\\n:Cl_Acts rdf:type owl:Class .\\n:Cl_PremierDate rdf:type owl:Class .\\n:Cl_Review rdf:type owl:Class .\\n:Cl_StarRating rdf:type owl:Class .\\n:Cl_Actor rdf:type owl:Class .\\n:Cl_StartDate rdf:type owl:Class .\\n:Cl_Role rdf:type owl:Class .\\n:Cl_PersonRoleProduction rdf:type owl:Class .\\n\\n:Cl_TheatreFestival rdfs:subClassOf :Cl_Event.\\n:Cl_Date rdfs:subClassOf :xsd:date.\\n:Cl_Location rdfs:subClassOf :xsd:string.\\n:Cl_Play rdfs:subClassOf :Cl_Event.\\n:Cl_Theatre rdfs:subClassOf :Cl_Building.\\n:Cl_City rdfs:subClassOf :Cl_Location.\\n:Cl_Country rdfs:subClassOf :xsd:string.\\n:Cl_Production rdfs:subClassOf :Cl_Event.\\n:Cl_Ensemble rdfs:subClassOf :Cl_Group.\\n:Cl_Member rdfs:subClassOf :Cl_Person.\\n:Cl_TimePeriod rdfs:subClassOf :xsd:dateTime.\\n:Cl_Author rdfs:subClassOf :Cl_Person.\\n:Cl_WritingPeriod rdfs:subClassOf :xsd:dateTime.\\n:Cl_Acts rdfs:subClassOf :xsd:integer.\\n:Cl_PremierDate rdfs:subClassOf :xsd:date.\\n:Cl_Review rdfs:subClassOf :Cl_Evaluation.\\n:Cl_StarRating rdfs:subClassOf :xsd:integer.\\n:Cl_Actor rdfs:subClassOf :Cl_Person.\\n:Cl_StartDate rdfs:subClassOf :xsd:date.\\n:Cl_Role rdfs:subClassOf :xsd:string.\\n:Cl_PersonRoleProduction rdfs:subClassOf :Cl_Event.\\n\\n:hasDate rdf:type owl:ObjectProperty ;\\n    rdfs:domain :Cl_TheatreFestival ;\\n    rdfs:range :Cl_Date.\\n\\n:dateValue rdf:type owl:DatatypeProperty ;\\n    rdfs:domain :Cl_Date ;\\n    rdfs:range xsd:string.\\n\\n:hasLocation rdf:type owl:ObjectProperty ;\\n    rdfs:domain :Cl_TheatreFestival ;\\n    rdfs:range :Cl_Location.\\n\\n:locationValue rdf:type owl:DatatypeProperty ;\\n    rdfs:domain :Cl_Location ;\\n    rdfs:range xsd:string.\\n\\n:hasPlay rdf:type owl:ObjectProperty ;\\n    rdfs:domain :Cl_TheatreFestival ;\\n    rdfs:range :Cl_Play.\\n\\n:playName rdf:type owl:DatatypeProperty ;\\n    rdfs:domain :Cl_Play ;\\n    rdfs:range xsd:string.\\n\\n:isLocatedIn rdf:type owl:ObjectProperty ;\\n    rdfs:domain :Cl_Theatre ;\\n    rdfs:range :Cl_Location.\\n\\n:isLocatedInCountry rdf:type owl:ObjectProperty ;\\n    rdfs:domain :Cl_City ;\\n    rdfs:range :Cl_Country.\\n\\n:countryName rdf:type owl:DatatypeProperty ;\\n    rdfs:domain :Cl_Country ;\\n    rdfs:range xsd:string.\\n\\n:isBasedOn rdf:type owl:ObjectProperty ;\\n    rdfs:domain :Cl_Production ;\\n    rdfs:range :Cl_Play.\\n\\n:hasMember rdf:type owl:ObjectProperty ;\\n    rdfs:domain :Cl_Ensemble ;\\n    rdfs:range :Cl_Member.\\n\\n:duringTimePeriod rdf:type owl:ObjectProperty ;\\n    rdfs:domain :Cl_Ensemble ;\\n    rdfs:range :Cl_TimePeriod.\\n\\n:memberName rdf:type owl:DatatypeProperty ;\\n    rdfs:domain :Cl_Member ;\\n    rdfs:range xsd:string.\\n\\n:timePeriodValue rdf:type owl:DatatypeProperty ;\\n    rdfs:domain :Cl_TimePeriod ;\\n    rdfs:range xsd:string.\\n\\n:wrotePlay rdf:type owl:ObjectProperty ;\\n    rdfs:domain :Cl_Author ;\\n    rdfs:range :Cl_Play.\\n\\n:authorName rdf:type owl:DatatypeProperty ;\\n    rdfs:domain :Cl_Author ;\\n    rdfs:range xsd:string.\\n\\n:wasWrittenDuring rdf:type owl:ObjectProperty ;\\n    rdfs:domain :Cl_Play ;\\n    rdfs:range :Cl_WritingPeriod.\\n\\n:writingPeriodValue rdf:type owl:DatatypeProperty ;\\n    rdfs:domain :Cl_WritingPeriod ;\\n    rdfs:range xsd:string.\\n\\n:hasActs rdf:type owl:ObjectProperty ;\\n    rdfs:domain :Cl_Play ;\\n    rdfs:range :Cl_Acts.\\n\\n:actsValue rdf:type owl:DatatypeProperty ;\\n    rdfs:domain :Cl_Acts ;\\n    rdfs:range xsd:integer.\\n\\n:hasPremierDate rdf:type owl:ObjectProperty ;\\n    rdfs:domain :Cl_Production ;\\n    rdfs:range :Cl_PremierDate.\\n\\n:premierDateValue rdf:type owl:DatatypeProperty ;\\n    rdfs:domain :Cl_PremierDate ;\\n    rdfs:range xsd:string.\\n\\n:hasReview rdf:type owl:ObjectProperty ;\\n    rdfs:domain :Cl_Production ;\\n    rdfs:range :Cl_Review.\\n\\n:hasStarRating rdf:type owl:ObjectProperty ;\\n    rdfs:domain :Cl_Review ;\\n    rdfs:range :Cl_StarRating.\\n\\n:starRatingValue rdf:type owl:DatatypeProperty ;\\n    rdfs:domain :Cl_StarRating ;\\n    rdfs:range xsd:integer.\\n\\n:worksAt rdf:type owl:ObjectProperty ;\\n    rdfs:domain :Cl_Actor ;\\n    rdfs:range :Cl_Theatre.\\n\\n:startedWorkingOn rdf:type owl:ObjectProperty ;\\n    rdfs:domain :Cl_Actor ;\\n    rdfs:range :Cl_StartDate.\\n\\n:actorName rdf:type owl:DatatypeProperty ;\\n    rdfs:domain :Cl_Actor ;\\n    rdfs:range xsd:string.\\n\\n:startDateValue rdf:type owl:DatatypeProperty ;\\n    rdfs:domain :Cl_StartDate ;\\n    rdfs:range xsd:string.\\n\\n:hasRole rdf:type owl:ObjectProperty ;\\n    rdfs:domain :Cl_PersonRoleProduction ;\\n    rdfs:range :Cl_Role.\\n\\n:roleOfPerson rdf:type owl:ObjectProperty ;\\n    rdfs:domain :Cl_PersonRoleProduction ;\\n    rdfs:range :Cl_Person.\\n\\n:roleInProduction rdf:type owl:ObjectProperty ;\\n    rdfs:domain :Cl_PersonRoleProduction ;\\n    rdfs:range :Cl_Production.\\n\\n:roleName rdf:type owl:DatatypeProperty ;\\n    rdfs:domain :Cl_Role ;\\n    rdfs:range xsd:string.\\nThe competency question \"A production has exactly one premier.\" is not answerable by the previous version of the RDF as it is not provided.\\n\\nWe need to create a restriction for the production that it can have exactly one premier.\\n\\nRestrictions:\\n- Cl_Production owl:equivalentClass [ rdf:type owl:Restriction ;  owl:onProperty :hasPremierDate ;  owl:cardinality \"1\"^^xsd:nonNegativeInteger ] ;\\n\\nHere is the updated RDF:\\n\\n@prefix : <http://www.example.org/test#> .\\n@prefix rdf: <http://www.w3.org/1999/02/22-rdf-syntax-ns#> .\\n@prefix rdfs: <http://www.w3.org/2000/01/rdf-schema#> .\\n@prefix xsd: <http://www.w3.org/2001/XMLSchema#> .\\n@prefix owl: <http://www.w3.org/2002/07/owl#> .\\n\\n:Cl_TheatreFestival rdf:type owl:Class .\\n:Cl_Date rdf:type owl:Class .\\n:Cl_Location rdf:type owl:Class .\\n:Cl_Play rdf:type owl:Class .\\n:Cl_Theatre rdf:type owl:Class .\\n:Cl_City rdf:type owl:Class .\\n:Cl_Country rdf:type owl:Class .\\n:Cl_Production rdf:type owl:Class .\\n:Cl_Ensemble rdf:type owl:Class .\\n:Cl_Member rdf:type owl:Class .\\n:Cl_TimePeriod rdf:type owl:Class .\\n:Cl_Author rdf:type owl:Class .\\n:Cl_WritingPeriod rdf:type owl:Class .\\n:Cl_Acts rdf:type owl:Class .\\n:Cl_PremierDate rdf:type owl:Class .\\n:Cl_Review rdf:type owl:Class .\\n:Cl_StarRating rdf:type owl:Class .\\n:Cl_Actor rdf:type owl:Class .\\n:Cl_StartDate rdf:type owl:Class .\\n:Cl_Role rdf:type owl:Class .\\n:Cl_PersonRoleProduction rdf:type owl:Class .\\n\\n:Cl_TheatreFestival rdfs:subClassOf :Cl_Event.\\n:Cl_Date rdfs:subClassOf :xsd:date.\\n:Cl_Location rdfs:subClassOf :xsd:string.\\n:Cl_Play rdfs:subClassOf :Cl_Event.\\n:Cl_Theatre rdfs:subClassOf :Cl_Building.\\n:Cl_City rdfs:subClassOf :Cl_Location.\\n:Cl_Country rdfs:subClassOf :xsd:string.\\n:Cl_Production rdfs:subClassOf :Cl_Event.\\n:Cl_Ensemble rdfs:subClassOf :Cl_Group.\\n:Cl_Member rdfs:subClassOf :Cl_Person.\\n:Cl_TimePeriod rdfs:subClassOf :xsd:dateTime.\\n:Cl_Author rdfs:subClassOf :Cl_Person.\\n:Cl_WritingPeriod rdfs:subClassOf :xsd:dateTime.\\n:Cl_Acts rdfs:subClassOf :xsd:integer.\\n:Cl_PremierDate rdfs:subClassOf :xsd:date.\\n:Cl_Review rdfs:subClassOf :Cl_Evaluation.\\n:Cl_StarRating rdfs:subClassOf :xsd:integer.\\n:Cl_Actor rdfs:subClassOf :Cl_Person.\\n:Cl_StartDate rdfs:subClassOf :xsd:date.\\n:Cl_Role rdfs:subClassOf :xsd:string.\\n:Cl_PersonRoleProduction rdfs:subClassOf :Cl_Event.\\n\\n:hasDate rdf:type owl:ObjectProperty ;\\n    rdfs:domain :Cl_TheatreFestival ;\\n    rdfs:range :Cl_Date.\\n\\n:dateValue rdf:type owl:DatatypeProperty ;\\n    rdfs:domain :Cl_Date ;\\n    rdfs:range xsd:string.\\n\\n:hasLocation rdf:type owl:ObjectProperty ;\\n    rdfs:domain :Cl_TheatreFestival ;\\n    rdfs:range :Cl_Location.\\n\\n:locationValue rdf:type owl:DatatypeProperty ;\\n    rdfs:domain :Cl_Location ;\\n    rdfs:range xsd:string.\\n\\n:hasPlay rdf:type owl:ObjectProperty ;\\n    rdfs:domain :Cl_TheatreFestival ;\\n    rdfs:range :Cl_Play.\\n\\n:playName rdf:type owl:DatatypeProperty ;\\n    rdfs:domain :Cl_Play ;\\n    rdfs:range xsd:string.\\n\\n:isLocatedIn rdf:type owl:ObjectProperty ;\\n    rdfs:domain :Cl_Theatre ;\\n    rdfs:range :Cl_Location.\\n\\n:isLocatedInCountry rdf:type owl:ObjectProperty ;\\n    rdfs:domain :Cl_City ;\\n    rdfs:range :Cl_Country.\\n\\n:countryName rdf:type owl:DatatypeProperty ;\\n    rdfs:domain :Cl_Country ;\\n    rdfs:range xsd:string.\\n\\n:isBasedOn rdf:type owl:ObjectProperty ;\\n    rdfs:domain :Cl_Production ;\\n    rdfs:range :Cl_Play.\\n\\n:hasMember rdf:type owl:ObjectProperty ;\\n    rdfs:domain :Cl_Ensemble ;\\n    rdfs:range :Cl_Member.\\n\\n:duringTimePeriod rdf:type owl:ObjectProperty ;\\n    rdfs:domain :Cl_Ensemble ;\\n    rdfs:range :Cl_TimePeriod.\\n\\n:memberName rdf:type owl:DatatypeProperty ;\\n    rdfs:domain :Cl_Member ;\\n    rdfs:range xsd:string.\\n\\n:timePeriodValue rdf:type owl:DatatypeProperty ;\\n    rdfs:domain :Cl_TimePeriod ;\\n    rdfs:range xsd:string.\\n\\n:wrotePlay rdf:type owl:ObjectProperty ;\\n    rdfs:domain :Cl_Author ;\\n    rdfs:range :Cl_Play.\\n\\n:authorName rdf:type owl:DatatypeProperty ;\\n    rdfs:domain :Cl_Author ;\\n    rdfs:range xsd:string.\\n\\n:wasWrittenDuring rdf:type owl:ObjectProperty ;\\n    rdfs:domain :Cl_Play ;\\n    rdfs:range :Cl_WritingPeriod.\\n\\n:writingPeriodValue rdf:type owl:DatatypeProperty ;\\n    rdfs:domain :Cl_WritingPeriod ;\\n    rdfs:range xsd:string.\\n\\n:hasActs rdf:type owl:ObjectProperty ;\\n    rdfs:domain :Cl_Play ;\\n    rdfs:range :Cl_Acts.\\n\\n:actsValue rdf:type owl:DatatypeProperty ;\\n    rdfs:domain :Cl_Acts ;\\n    rdfs:range xsd:integer.\\n\\n:hasPremierDate rdf:type owl:ObjectProperty ;\\n    rdfs:domain :Cl_Production ;\\n    rdfs:range :Cl_PremierDate.\\n\\n:premierDateValue rdf:type owl:DatatypeProperty ;\\n    rdfs:domain :Cl_PremierDate ;\\n    rdfs:range xsd:string.\\n\\n:hasReview rdf:type owl:ObjectProperty ;\\n    rdfs:domain :Cl_Production ;\\n    rdfs:range :Cl_Review.\\n\\n:hasStarRating rdf:type owl:ObjectProperty ;\\n    rdfs:domain :Cl_Review ;\\n    rdfs:range :Cl_StarRating.\\n\\n:starRatingValue rdf:type owl:DatatypeProperty ;\\n    rdfs:domain :Cl_StarRating ;\\n    rdfs:range xsd:integer.\\n\\n:worksAt rdf:type owl:ObjectProperty ;\\n    rdfs:domain :Cl_Actor ;\\n    rdfs:range :Cl_Theatre.\\n\\n:startedWorkingOn rdf:type owl:ObjectProperty ;\\n    rdfs:domain :Cl_Actor ;\\n    rdfs:range :Cl_StartDate.\\n\\n:actorName rdf:type owl:DatatypeProperty ;\\n    rdfs:domain :Cl_Actor ;\\n    rdfs:range xsd:string.\\n\\n:startDateValue rdf:type owl:DatatypeProperty ;\\n    rdfs:domain :Cl_StartDate ;\\n    rdfs:range xsd:string.\\n\\n:hasRole rdf:type owl:ObjectProperty ;\\n    rdfs:domain :Cl_PersonRoleProduction ;\\n    rdfs:range :Cl_Role.\\n\\n:roleOfPerson rdf:type owl:ObjectProperty ;\\n    rdfs:domain :Cl_PersonRoleProduction ;\\n    rdfs:range :Cl_Person.\\n\\n:roleInProduction rdf:type owl:ObjectProperty ;\\n    rdfs:domain :Cl_PersonRoleProduction ;\\n    rdfs:range :Cl_Production.\\n\\n:roleName rdf:type owl:DatatypeProperty ;\\n    rdfs:domain :Cl_Role ;\\n    rdfs:range xsd:string.\\n\\n:Cl_Production owl:equivalentClass [ rdf:type owl:Restriction ;  owl:onProperty :hasPremierDate ;  owl:cardinality \"1\"^^xsd:nonNegativeInteger ] ;'"
            ],
            "application/vnd.google.colaboratory.intrinsic+json": {
              "type": "string"
            }
          },
          "metadata": {},
          "execution_count": 6
        }
      ],
      "source": [
        "stories = Datasets()\n",
        "S,CQs = stories.story_theatre,stories.story_theatre_cqs\n",
        "delete_logfile()\n",
        "\n",
        "write_to_log('hospital_music')\n",
        "cqbycq(S,CQs,sleep = 5)\n"
      ]
    },
    {
      "cell_type": "code",
      "execution_count": null,
      "metadata": {
        "id": "GtHJL_ZcLhj5",
        "colab": {
          "base_uri": "https://localhost:8080/",
          "height": 403
        },
        "outputId": "e430878e-6e43-4b4d-c378-cfe09f2dc7fe"
      },
      "outputs": [
        {
          "output_type": "stream",
          "name": "stdout",
          "text": [
            "doing cq # 1\n",
            "doing cq # 2\n",
            "doing cq # 3\n",
            "doing cq # 4\n",
            "doing cq # 5\n",
            "doing cq # 6\n",
            "doing cq # 7\n",
            "doing cq # 8\n",
            "doing cq # 9\n",
            "doing cq # 10\n",
            "doing cq # 11\n",
            "doing cq # 12\n",
            "doing cq # 13\n",
            "doing cq # 14\n",
            "doing cq # 15\n"
          ]
        },
        {
          "output_type": "execute_result",
          "data": {
            "text/plain": [
              "'\\nThe competency question \"When did a certain theatre festival take place?\" is not answerable by the previous version of the RDF because there is no previous RDF provided.\\n\\nTo answer this competency question, we need to create classes for Theatre Festival and Date, and a pivot class for FestivalOccurrence. The FestivalOccurrence class will connect the Theatre Festival and Date classes.\\n\\nHere is the RDF code:\\n\\n@prefix : <http://www.example.org/test#> .\\n@prefix rdf: <http://www.w3.org/1999/02/22-rdf-syntax-ns#> .\\n@prefix rdfs: <http://www.w3.org/2000/01/rdf-schema#> .\\n@prefix xsd: <http://www.w3.org/2001/XMLSchema#> .\\n\\n:Cl_TheatreFestival a rdfs:Class .\\n:Cl_Date a rdfs:Class .\\n:Cl_FestivalOccurrence a rdfs:Class .\\n\\n:Cl_FestivalOccurrence rdfs:subClassOf :Cl_TheatreFestival, :Cl_Date .\\n\\n:Pr_takesPlaceOn a rdf:Property ;\\n    rdfs:domain :Cl_FestivalOccurrence ;\\n    rdfs:range :Cl_Date .\\n\\n:Pr_isFestival a rdf:Property ;\\n    rdfs:domain :Cl_FestivalOccurrence ;\\n    rdfs:range :Cl_TheatreFestival .\\nThe competency question \"Where did a certain festival take place?\" is not answerable by the previous version of the RDF because there is no class or property that represents the location of the festival.\\n\\nTo answer this competency question, we need to create a class for Location and add it to the pivot class FestivalOccurrence. The FestivalOccurrence class will now connect the Theatre Festival, Date, and Location classes.\\n\\nHere is the RDF code:\\n\\n@prefix : <http://www.example.org/test#> .\\n@prefix rdf: <http://www.w3.org/1999/02/22-rdf-syntax-ns#> .\\n@prefix rdfs: <http://www.w3.org/2000/01/rdf-schema#> .\\n@prefix xsd: <http://www.w3.org/2001/XMLSchema#> .\\n\\n:Cl_TheatreFestival a rdfs:Class .\\n:Cl_Date a rdfs:Class .\\n:Cl_Location a rdfs:Class .\\n:Cl_FestivalOccurrence a rdfs:Class .\\n\\n:Cl_FestivalOccurrence rdfs:subClassOf :Cl_TheatreFestival, :Cl_Date, :Cl_Location .\\n\\n:Pr_takesPlaceOn a rdf:Property ;\\n    rdfs:domain :Cl_FestivalOccurrence ;\\n    rdfs:range :Cl_Date .\\n\\n:Pr_isFestival a rdf:Property ;\\n    rdfs:domain :Cl_FestivalOccurrence ;\\n    rdfs:range :Cl_TheatreFestival .\\n\\n:Pr_takesPlaceAt a rdf:Property ;\\n    rdfs:domain :Cl_FestivalOccurrence ;\\n    rdfs:range :Cl_Location .\\nThe competency question \"What plays could be seen during a certain theatre festival?\" is not answerable by the previous version of the RDF because there is no class or property that represents the plays that were performed during the festival.\\n\\nTo answer this competency question, we need to create a class for Play and add it to the pivot class FestivalOccurrence. The FestivalOccurrence class will now connect the Theatre Festival, Date, Location, and Play classes.\\n\\nHere is the RDF code:\\n\\n@prefix : <http://www.example.org/test#> .\\n@prefix rdf: <http://www.w3.org/1999/02/22-rdf-syntax-ns#> .\\n@prefix rdfs: <http://www.w3.org/2000/01/rdf-schema#> .\\n@prefix xsd: <http://www.w3.org/2001/XMLSchema#> .\\n\\n:Cl_TheatreFestival a rdfs:Class .\\n:Cl_Date a rdfs:Class .\\n:Cl_Location a rdfs:Class .\\n:Cl_Play a rdfs:Class .\\n:Cl_FestivalOccurrence a rdfs:Class .\\n\\n:Cl_FestivalOccurrence rdfs:subClassOf :Cl_TheatreFestival, :Cl_Date, :Cl_Location, :Cl_Play .\\n\\n:Pr_takesPlaceOn a rdf:Property ;\\n    rdfs:domain :Cl_FestivalOccurrence ;\\n    rdfs:range :Cl_Date .\\n\\n:Pr_isFestival a rdf:Property ;\\n    rdfs:domain :Cl_FestivalOccurrence ;\\n    rdfs:range :Cl_TheatreFestival .\\n\\n:Pr_takesPlaceAt a rdf:Property ;\\n    rdfs:domain :Cl_FestivalOccurrence ;\\n    rdfs:range :Cl_Location .\\n\\n:Pr_includesPlay a rdf:Property ;\\n    rdfs:domain :Cl_FestivalOccurrence ;\\n    rdfs:range :Cl_Play .\\nThe competency question \"In what city is a certain theatre located?\" is not answerable by the previous version of the RDF because there is no class or property that represents the city where the theatre is located.\\n\\nTo answer this competency question, we need to create a class for Theatre and add it to the pivot class FestivalOccurrence. The FestivalOccurrence class will now connect the Theatre Festival, Date, Location, Play, and Theatre classes.\\n\\nHere is the RDF code:\\n\\n@prefix : <http://www.example.org/test#> .\\n@prefix rdf: <http://www.w3.org/1999/02/22-rdf-syntax-ns#> .\\n@prefix rdfs: <http://www.w3.org/2000/01/rdf-schema#> .\\n@prefix xsd: <http://www.w3.org/2001/XMLSchema#> .\\n\\n:Cl_TheatreFestival a rdfs:Class .\\n:Cl_Date a rdfs:Class .\\n:Cl_Location a rdfs:Class .\\n:Cl_Play a rdfs:Class .\\n:Cl_Theatre a rdfs:Class .\\n:Cl_FestivalOccurrence a rdfs:Class .\\n\\n:Cl_FestivalOccurrence rdfs:subClassOf :Cl_TheatreFestival, :Cl_Date, :Cl_Location, :Cl_Play, :Cl_Theatre .\\n\\n:Pr_takesPlaceOn a rdf:Property ;\\n    rdfs:domain :Cl_FestivalOccurrence ;\\n    rdfs:range :Cl_Date .\\n\\n:Pr_isFestival a rdf:Property ;\\n    rdfs:domain :Cl_FestivalOccurrence ;\\n    rdfs:range :Cl_TheatreFestival .\\n\\n:Pr_takesPlaceAt a rdf:Property ;\\n    rdfs:domain :Cl_FestivalOccurrence ;\\n    rdfs:range :Cl_Location .\\n\\n:Pr_includesPlay a rdf:Property ;\\n    rdfs:domain :Cl_FestivalOccurrence ;\\n    rdfs:range :Cl_Play .\\n\\n:Pr_includesTheatre a rdf:Property ;\\n    rdfs:domain :Cl_FestivalOccurrence ;\\n    rdfs:range :Cl_Theatre .\\nThe competency question \"In what country is a certain city located?\" is not answerable by the previous version of the RDF because there is no class or property that represents the country where the city is located.\\n\\nTo answer this competency question, we need to create a class for City and Country and add it to the pivot class FestivalOccurrence. The FestivalOccurrence class will now connect the Theatre Festival, Date, Location, Play, Theatre, City, and Country classes.\\n\\nHere is the RDF code:\\n\\n@prefix : <http://www.example.org/test#> .\\n@prefix rdf: <http://www.w3.org/1999/02/22-rdf-syntax-ns#> .\\n@prefix rdfs: <http://www.w3.org/2000/01/rdf-schema#> .\\n@prefix xsd: <http://www.w3.org/2001/XMLSchema#> .\\n\\n:Cl_TheatreFestival a rdfs:Class .\\n:Cl_Date a rdfs:Class .\\n:Cl_Location a rdfs:Class .\\n:Cl_Play a rdfs:Class .\\n:Cl_Theatre a rdfs:Class .\\n:Cl_City a rdfs:Class .\\n:Cl_Country a rdfs:Class .\\n:Cl_FestivalOccurrence a rdfs:Class .\\n\\n:Cl_FestivalOccurrence rdfs:subClassOf :Cl_TheatreFestival, :Cl_Date, :Cl_Location, :Cl_Play, :Cl_Theatre, :Cl_City, :Cl_Country .\\n\\n:Pr_takesPlaceOn a rdf:Property ;\\n    rdfs:domain :Cl_FestivalOccurrence ;\\n    rdfs:range :Cl_Date .\\n\\n:Pr_isFestival a rdf:Property ;\\n    rdfs:domain :Cl_FestivalOccurrence ;\\n    rdfs:range :Cl_TheatreFestival .\\n\\n:Pr_takesPlaceAt a rdf:Property ;\\n    rdfs:domain :Cl_FestivalOccurrence ;\\n    rdfs:range :Cl_Location .\\n\\n:Pr_includesPlay a rdf:Property ;\\n    rdfs:domain :Cl_FestivalOccurrence ;\\n    rdfs:range :Cl_Play .\\n\\n:Pr_includesTheatre a rdf:Property ;\\n    rdfs:domain :Cl_FestivalOccurrence ;\\n    rdfs:range :Cl_Theatre .\\n\\n:Pr_includesCity a rdf:Property ;\\n    rdfs:domain :Cl_FestivalOccurrence ;\\n    rdfs:range :Cl_City .\\n\\n:Pr_includesCountry a rdf:Property ;\\n    rdfs:domain :Cl_FestivalOccurrence ;\\n    rdfs:range :Cl_Country .\\nThe competency question \"What play is the basis of this production?\" is not answerable by the previous version of the RDF because there is no class or property that represents the play that is the basis of a production.\\n\\nTo answer this competency question, we need to create a class for Production and add it to the pivot class FestivalOccurrence. The FestivalOccurrence class will now connect the Theatre Festival, Date, Location, Play, Theatre, City, Country, and Production classes.\\n\\nHere is the RDF code:\\n\\n@prefix : <http://www.example.org/test#> .\\n@prefix rdf: <http://www.w3.org/1999/02/22-rdf-syntax-ns#> .\\n@prefix rdfs: <http://www.w3.org/2000/01/rdf-schema#> .\\n@prefix xsd: <http://www.w3.org/2001/XMLSchema#> .\\n\\n:Cl_TheatreFestival a rdfs:Class .\\n:Cl_Date a rdfs:Class .\\n:Cl_Location a rdfs:Class .\\n:Cl_Play a rdfs:Class .\\n:Cl_Theatre a rdfs:Class .\\n:Cl_City a rdfs:Class .\\n:Cl_Country a rdfs:Class .\\n:Cl_Production a rdfs:Class .\\n:Cl_FestivalOccurrence a rdfs:Class .\\n\\n:Cl_FestivalOccurrence rdfs:subClassOf :Cl_TheatreFestival, :Cl_Date, :Cl_Location, :Cl_Play, :Cl_Theatre, :Cl_City, :Cl_Country, :Cl_Production .\\n\\n:Pr_takesPlaceOn a rdf:Property ;\\n    rdfs:domain :Cl_FestivalOccurrence ;\\n    rdfs:range :Cl_Date .\\n\\n:Pr_isFestival a rdf:Property ;\\n    rdfs:domain :Cl_FestivalOccurrence ;\\n    rdfs:range :Cl_TheatreFestival .\\n\\n:Pr_takesPlaceAt a rdf:Property ;\\n    rdfs:domain :Cl_FestivalOccurrence ;\\n    rdfs:range :Cl_Location .\\n\\n:Pr_includesPlay a rdf:Property ;\\n    rdfs:domain :Cl_FestivalOccurrence ;\\n    rdfs:range :Cl_Play .\\n\\n:Pr_includesTheatre a rdf:Property ;\\n    rdfs:domain :Cl_FestivalOccurrence ;\\n    rdfs:range :Cl_Theatre .\\n\\n:Pr_includesCity a rdf:Property ;\\n    rdfs:domain :Cl_FestivalOccurrence ;\\n    rdfs:range :Cl_City .\\n\\n:Pr_includesCountry a rdf:Property ;\\n    rdfs:domain :Cl_FestivalOccurrence ;\\n    rdfs:range :Cl_Country .\\n\\n:Pr_isBasedOn a rdf:Property ;\\n    rdfs:domain :Cl_FestivalOccurrence ;\\n    rdfs:range :Cl_Production .\\nThe competency question \"What plays did a certain author write?\" is not answerable by the previous version of the RDF because there is no class or property that represents the author of a play.\\n\\nTo answer this competency question, we need to create a class for Author and add it to the pivot class FestivalOccurrence. The FestivalOccurrence class will now connect the Theatre Festival, Date, Location, Play, Theatre, City, Country, Production, and Author classes.\\n\\nHere is the RDF code:\\n\\n@prefix : <http://www.example.org/test#> .\\n@prefix rdf: <http://www.w3.org/1999/02/22-rdf-syntax-ns#> .\\n@prefix rdfs: <http://www.w3.org/2000/01/rdf-schema#> .\\n@prefix xsd: <http://www.w3.org/2001/XMLSchema#> .\\n\\n:Cl_TheatreFestival a rdfs:Class .\\n:Cl_Date a rdfs:Class .\\n:Cl_Location a rdfs:Class .\\n:Cl_Play a rdfs:Class .\\n:Cl_Theatre a rdfs:Class .\\n:Cl_City a rdfs:Class .\\n:Cl_Country a rdfs:Class .\\n:Cl_Production a rdfs:Class .\\n:Cl_Author a rdfs:Class .\\n:Cl_FestivalOccurrence a rdfs:Class .\\n\\n:Cl_FestivalOccurrence rdfs:subClassOf :Cl_TheatreFestival, :Cl_Date, :Cl_Location, :Cl_Play, :Cl_Theatre, :Cl_City, :Cl_Country, :Cl_Production, :Cl_Author .\\n\\n:Pr_takesPlaceOn a rdf:Property ;\\n    rdfs:domain :Cl_FestivalOccurrence ;\\n    rdfs:range :Cl_Date .\\n\\n:Pr_isFestival a rdf:Property ;\\n    rdfs:domain :Cl_FestivalOccurrence ;\\n    rdfs:range :Cl_TheatreFestival .\\n\\n:Pr_takesPlaceAt a rdf:Property ;\\n    rdfs:domain :Cl_FestivalOccurrence ;\\n    rdfs:range :Cl_Location .\\n\\n:Pr_includesPlay a rdf:Property ;\\n    rdfs:domain :Cl_FestivalOccurrence ;\\n    rdfs:range :Cl_Play .\\n\\n:Pr_includesTheatre a rdf:Property ;\\n    rdfs:domain :Cl_FestivalOccurrence ;\\n    rdfs:range :Cl_Theatre .\\n\\n:Pr_includesCity a rdf:Property ;\\n    rdfs:domain :Cl_FestivalOccurrence ;\\n    rdfs:range :Cl_City .\\n\\n:Pr_includesCountry a rdf:Property ;\\n    rdfs:domain :Cl_FestivalOccurrence ;\\n    rdfs:range :Cl_Country .\\n\\n:Pr_isBasedOn a rdf:Property ;\\n    rdfs:domain :Cl_FestivalOccurrence ;\\n    rdfs:range :Cl_Production .\\n\\n:Pr_writtenBy a rdf:Property ;\\n    rdfs:domain :Cl_FestivalOccurrence ;\\n    rdfs:range :Cl_Author .\\nThe competency question \"During what time period was a certain play written?\" is not answerable by the previous version of the RDF because there is no class or property that represents the time period during which a play was written.\\n\\nTo answer this competency question, we need to create a class for TimePeriod and add it to the pivot class FestivalOccurrence. The FestivalOccurrence class will now connect the Theatre Festival, Date, Location, Play, Theatre, City, Country, Production, Author, and TimePeriod classes.\\n\\nHere is the RDF code:\\n\\n@prefix : <http://www.example.org/test#> .\\n@prefix rdf: <http://www.w3.org/1999/02/22-rdf-syntax-ns#> .\\n@prefix rdfs: <http://www.w3.org/2000/01/rdf-schema#> .\\n@prefix xsd: <http://www.w3.org/2001/XMLSchema#> .\\n\\n:Cl_TheatreFestival a rdfs:Class .\\n:Cl_Date a rdfs:Class .\\n:Cl_Location a rdfs:Class .\\n:Cl_Play a rdfs:Class .\\n:Cl_Theatre a rdfs:Class .\\n:Cl_City a rdfs:Class .\\n:Cl_Country a rdfs:Class .\\n:Cl_Production a rdfs:Class .\\n:Cl_Author a rdfs:Class .\\n:Cl_TimePeriod a rdfs:Class .\\n:Cl_FestivalOccurrence a rdfs:Class .\\n\\n:Cl_FestivalOccurrence rdfs:subClassOf :Cl_TheatreFestival, :Cl_Date, :Cl_Location, :Cl_Play, :Cl_Theatre, :Cl_City, :Cl_Country, :Cl_Production, :Cl_Author, :Cl_TimePeriod .\\n\\n:Pr_takesPlaceOn a rdf:Property ;\\n    rdfs:domain :Cl_FestivalOccurrence ;\\n    rdfs:range :Cl_Date .\\n\\n:Pr_isFestival a rdf:Property ;\\n    rdfs:domain :Cl_FestivalOccurrence ;\\n    rdfs:range :Cl_TheatreFestival .\\n\\n:Pr_takesPlaceAt a rdf:Property ;\\n    rdfs:domain :Cl_FestivalOccurrence ;\\n    rdfs:range :Cl_Location .\\n\\n:Pr_includesPlay a rdf:Property ;\\n    rdfs:domain :Cl_FestivalOccurrence ;\\n    rdfs:range :Cl_Play .\\n\\n:Pr_includesTheatre a rdf:Property ;\\n    rdfs:domain :Cl_FestivalOccurrence ;\\n    rdfs:range :Cl_Theatre .\\n\\n:Pr_includesCity a rdf:Property ;\\n    rdfs:domain :Cl_FestivalOccurrence ;\\n    rdfs:range :Cl_City .\\n\\n:Pr_includesCountry a rdf:Property ;\\n    rdfs:domain :Cl_FestivalOccurrence ;\\n    rdfs:range :Cl_Country .\\n\\n:Pr_isBasedOn a rdf:Property ;\\n    rdfs:domain :Cl_FestivalOccurrence ;\\n    rdfs:range :Cl_Production .\\n\\n:Pr_writtenBy a rdf:Property ;\\n    rdfs:domain :Cl_FestivalOccurrence ;\\n    rdfs:range :Cl_Author .\\n\\n:Pr_writtenDuring a rdf:Property ;\\n    rdfs:domain :Cl_FestivalOccurrence ;\\n    rdfs:range :Cl_TimePeriod .\\nThe competency question \"How many acts does a particular play contain?\" is not answerable by the previous version of the RDF because there is no class or property that represents the number of acts in a play.\\n\\nTo answer this competency question, we need to create a class for Act and add it to the pivot class FestivalOccurrence. The FestivalOccurrence class will now connect the Theatre Festival, Date, Location, Play, Theatre, City, Country, Production, Author, TimePeriod, and Act classes.\\n\\nHere is the RDF code:\\n\\n@prefix : <http://www.example.org/test#> .\\n@prefix rdf: <http://www.w3.org/1999/02/22-rdf-syntax-ns#> .\\n@prefix rdfs: <http://www.w3.org/2000/01/rdf-schema#> .\\n@prefix xsd: <http://www.w3.org/2001/XMLSchema#> .\\n\\n:Cl_TheatreFestival a rdfs:Class .\\n:Cl_Date a rdfs:Class .\\n:Cl_Location a rdfs:Class .\\n:Cl_Play a rdfs:Class .\\n:Cl_Theatre a rdfs:Class .\\n:Cl_City a rdfs:Class .\\n:Cl_Country a rdfs:Class .\\n:Cl_Production a rdfs:Class .\\n:Cl_Author a rdfs:Class .\\n:Cl_TimePeriod a rdfs:Class .\\n:Cl_Act a rdfs:Class .\\n:Cl_FestivalOccurrence a rdfs:Class .\\n\\n:Cl_FestivalOccurrence rdfs:subClassOf :Cl_TheatreFestival, :Cl_Date, :Cl_Location, :Cl_Play, :Cl_Theatre, :Cl_City, :Cl_Country, :Cl_Production, :Cl_Author, :Cl_TimePeriod, :Cl_Act .\\n\\n:Pr_takesPlaceOn a rdf:Property ;\\n    rdfs:domain :Cl_FestivalOccurrence ;\\n    rdfs:range :Cl_Date .\\n\\n:Pr_isFestival a rdf:Property ;\\n    rdfs:domain :Cl_FestivalOccurrence ;\\n    rdfs:range :Cl_TheatreFestival .\\n\\n:Pr_takesPlaceAt a rdf:Property ;\\n    rdfs:domain :Cl_FestivalOccurrence ;\\n    rdfs:range :Cl_Location .\\n\\n:Pr_includesPlay a rdf:Property ;\\n    rdfs:domain :Cl_FestivalOccurrence ;\\n    rdfs:range :Cl_Play .\\n\\n:Pr_includesTheatre a rdf:Property ;\\n    rdfs:domain :Cl_FestivalOccurrence ;\\n    rdfs:range :Cl_Theatre .\\n\\n:Pr_includesCity a rdf:Property ;\\n    rdfs:domain :Cl_FestivalOccurrence ;\\n    rdfs:range :Cl_City .\\n\\n:Pr_includesCountry a rdf:Property ;\\n    rdfs:domain :Cl_FestivalOccurrence ;\\n    rdfs:range :Cl_Country .\\n\\n:Pr_isBasedOn a rdf:Property ;\\n    rdfs:domain :Cl_FestivalOccurrence ;\\n    rdfs:range :Cl_Production .\\n\\n:Pr_writtenBy a rdf:Property ;\\n    rdfs:domain :Cl_FestivalOccurrence ;\\n    rdfs:range :Cl_Author .\\n\\n:Pr_writtenDuring a rdf:Property ;\\n    rdfs:domain :Cl_FestivalOccurrence ;\\n    rdfs:range :Cl_TimePeriod .\\n\\n:Pr_containsAct a rdf:Property ;\\n    rdfs:domain :Cl_FestivalOccurrence ;\\n    rdfs:range :Cl_Act .\\n\\n:Pr_numberOfActs a rdf:Property ;\\n    rdfs:domain :Cl_Act ;\\n    rdfs:range xsd:integer .\\nThe competency question \"When was the premier of a certain production?\" is not answerable by the previous version of the RDF because there is no class or property that represents the premier date of a production.\\n\\nTo answer this competency question, we need to create a class for Premier and add it to the pivot class FestivalOccurrence. The FestivalOccurrence class will now connect the Theatre Festival, Date, Location, Play, Theatre, City, Country, Production, Author, TimePeriod, Act, and Premier classes.\\n\\nHere is the RDF code:\\n\\n@prefix : <http://www.example.org/test#> .\\n@prefix rdf: <http://www.w3.org/1999/02/22-rdf-syntax-ns#> .\\n@prefix rdfs: <http://www.w3.org/2000/01/rdf-schema#> .\\n@prefix xsd: <http://www.w3.org/2001/XMLSchema#> .\\n\\n:Cl_TheatreFestival a rdfs:Class .\\n:Cl_Date a rdfs:Class .\\n:Cl_Location a rdfs:Class .\\n:Cl_Play a rdfs:Class .\\n:Cl_Theatre a rdfs:Class .\\n:Cl_City a rdfs:Class .\\n:Cl_Country a rdfs:Class .\\n:Cl_Production a rdfs:Class .\\n:Cl_Author a rdfs:Class .\\n:Cl_TimePeriod a rdfs:Class .\\n:Cl_Act a rdfs:Class .\\n:Cl_Premier a rdfs:Class .\\n:Cl_FestivalOccurrence a rdfs:Class .\\n\\n:Cl_FestivalOccurrence rdfs:subClassOf :Cl_TheatreFestival, :Cl_Date, :Cl_Location, :Cl_Play, :Cl_Theatre, :Cl_City, :Cl_Country, :Cl_Production, :Cl_Author, :Cl_TimePeriod, :Cl_Act, :Cl_Premier .\\n\\n:Pr_takesPlaceOn a rdf:Property ;\\n    rdfs:domain :Cl_FestivalOccurrence ;\\n    rdfs:range :Cl_Date .\\n\\n:Pr_isFestival a rdf:Property ;\\n    rdfs:domain :Cl_FestivalOccurrence ;\\n    rdfs:range :Cl_TheatreFestival .\\n\\n:Pr_takesPlaceAt a rdf:Property ;\\n    rdfs:domain :Cl_FestivalOccurrence ;\\n    rdfs:range :Cl_Location .\\n\\n:Pr_includesPlay a rdf:Property ;\\n    rdfs:domain :Cl_FestivalOccurrence ;\\n    rdfs:range :Cl_Play .\\n\\n:Pr_includesTheatre a rdf:Property ;\\n    rdfs:domain :Cl_FestivalOccurrence ;\\n    rdfs:range :Cl_Theatre .\\n\\n:Pr_includesCity a rdf:Property ;\\n    rdfs:domain :Cl_FestivalOccurrence ;\\n    rdfs:range :Cl_City .\\n\\n:Pr_includesCountry a rdf:Property ;\\n    rdfs:domain :Cl_FestivalOccurrence ;\\n    rdfs:range :Cl_Country .\\n\\n:Pr_isBasedOn a rdf:Property ;\\n    rdfs:domain :Cl_FestivalOccurrence ;\\n    rdfs:range :Cl_Production .\\n\\n:Pr_writtenBy a rdf:Property ;\\n    rdfs:domain :Cl_FestivalOccurrence ;\\n    rdfs:range :Cl_Author .\\n\\n:Pr_writtenDuring a rdf:Property ;\\n    rdfs:domain :Cl_FestivalOccurrence ;\\n    rdfs:range :Cl_TimePeriod .\\n\\n:Pr_containsAct a rdf:Property ;\\n    rdfs:domain :Cl_FestivalOccurrence ;\\n    rdfs:range :Cl_Act .\\n\\n:Pr_numberOfActs a rdf:Property ;\\n    rdfs:domain :Cl_Act ;\\n    rdfs:range xsd:integer .\\n\\n:Pr_hasPremier a rdf:Property ;\\n    rdfs:domain :Cl_FestivalOccurrence ;\\n    rdfs:range :Cl_Premier .\\n\\n:Pr_premierDate a rdf:Property ;\\n    rdfs:domain :Cl_Premier ;\\n    rdfs:range :Cl_Date .\\nThe competency question \"What is the “star rating” given by a certain newspaper for a certain production?\" is not answerable by the previous version of the RDF because there is no class or property that represents the star rating given by a newspaper for a production.\\n\\nTo answer this competency question, we need to create classes for Newspaper and StarRating and add them to the pivot class FestivalOccurrence. The FestivalOccurrence class will now connect the Theatre Festival, Date, Location, Play, Theatre, City, Country, Production, Author, TimePeriod, Act, Premier, Newspaper, and StarRating classes.\\n\\nHere is the RDF code:\\n\\n@prefix : <http://www.example.org/test#> .\\n@prefix rdf: <http://www.w3.org/1999/02/22-rdf-syntax-ns#> .\\n@prefix rdfs: <http://www.w3.org/2000/01/rdf-schema#> .\\n@prefix xsd: <http://www.w3.org/2001/XMLSchema#> .\\n\\n:Cl_TheatreFestival a rdfs:Class .\\n:Cl_Date a rdfs:Class .\\n:Cl_Location a rdfs:Class .\\n:Cl_Play a rdfs:Class .\\n:Cl_Theatre a rdfs:Class .\\n:Cl_City a rdfs:Class .\\n:Cl_Country a rdfs:Class .\\n:Cl_Production a rdfs:Class .\\n:Cl_Author a rdfs:Class .\\n:Cl_TimePeriod a rdfs:Class .\\n:Cl_Act a rdfs:Class .\\n:Cl_Premier a rdfs:Class .\\n:Cl_Newspaper a rdfs:Class .\\n:Cl_StarRating a rdfs:Class .\\n:Cl_FestivalOccurrence a rdfs:Class .\\n\\n:Cl_FestivalOccurrence rdfs:subClassOf :Cl_TheatreFestival, :Cl_Date, :Cl_Location, :Cl_Play, :Cl_Theatre, :Cl_City, :Cl_Country, :Cl_Production, :Cl_Author, :Cl_TimePeriod, :Cl_Act, :Cl_Premier, :Cl_Newspaper, :Cl_StarRating .\\n\\n:Pr_takesPlaceOn a rdf:Property ;\\n    rdfs:domain :Cl_FestivalOccurrence ;\\n    rdfs:range :Cl_Date .\\n\\n:Pr_isFestival a rdf:Property ;\\n    rdfs:domain :Cl_FestivalOccurrence ;\\n    rdfs:range :Cl_TheatreFestival .\\n\\n:Pr_takesPlaceAt a rdf:Property ;\\n    rdfs:domain :Cl_FestivalOccurrence ;\\n    rdfs:range :Cl_Location .\\n\\n:Pr_includesPlay a rdf:Property ;\\n    rdfs:domain :Cl_FestivalOccurrence ;\\n    rdfs:range :Cl_Play .\\n\\n:Pr_includesTheatre a rdf:Property ;\\n    rdfs:domain :Cl_FestivalOccurrence ;\\n    rdfs:range :Cl_Theatre .\\n\\n:Pr_includesCity a rdf:Property ;\\n    rdfs:domain :Cl_FestivalOccurrence ;\\n    rdfs:range :Cl_City .\\n\\n:Pr_includesCountry a rdf:Property ;\\n    rdfs:domain :Cl_FestivalOccurrence ;\\n    rdfs:range :Cl_Country .\\n\\n:Pr_isBasedOn a rdf:Property ;\\n    rdfs:domain :Cl_FestivalOccurrence ;\\n    rdfs:range :Cl_Production .\\n\\n:Pr_writtenBy a rdf:Property ;\\n    rdfs:domain :Cl_FestivalOccurrence ;\\n    rdfs:range :Cl_Author .\\n\\n:Pr_writtenDuring a rdf:Property ;\\n    rdfs:domain :Cl_FestivalOccurrence ;\\n    rdfs:range :Cl_TimePeriod .\\n\\n:Pr_containsAct a rdf:Property ;\\n    rdfs:domain :Cl_FestivalOccurrence ;\\n    rdfs:range :Cl_Act .\\n\\n:Pr_numberOfActs a rdf:Property ;\\n    rdfs:domain :Cl_Act ;\\n    rdfs:range xsd:integer .\\n\\n:Pr_hasPremier a rdf:Property ;\\n    rdfs:domain :Cl_FestivalOccurrence ;\\n    rdfs:range :Cl_Premier .\\n\\n:Pr_premierDate a rdf:Property ;\\n    rdfs:domain :Cl_Premier ;\\n    rdfs:range :Cl_Date .\\n\\n:Pr_givenBy a rdf:Property ;\\n    rdfs:domain :Cl_FestivalOccurrence ;\\n    rdfs:range :Cl_Newspaper .\\n\\n:Pr_starRating a rdf:Property ;\\n    rdfs:domain :Cl_FestivalOccurrence ;\\n    rdfs:range :Cl_StarRating .\\n\\n:Pr_ratingValue a rdf:Property ;\\n    rdfs:domain :Cl_StarRating ;\\n    rdfs:range xsd:integer .\\nThe competency question \"At what time did a certain actor start working for a specific theatre?\" is not answerable by the previous version of the RDF because there is no class or property that represents the time an actor started working for a theatre.\\n\\nTo answer this competency question, we need to create classes for Actor and Employment and add them to the pivot class FestivalOccurrence. The FestivalOccurrence class will now connect the Theatre Festival, Date, Location, Play, Theatre, City, Country, Production, Author, TimePeriod, Act, Premier, Newspaper, StarRating, Actor, and Employment classes.\\n\\nHere is the RDF code:\\n\\n@prefix : <http://www.example.org/test#> .\\n@prefix rdf: <http://www.w3.org/1999/02/22-rdf-syntax-ns#> .\\n@prefix rdfs: <http://www.w3.org/2000/01/rdf-schema#> .\\n@prefix xsd: <http://www.w3.org/2001/XMLSchema#> .\\n\\n:Cl_TheatreFestival a rdfs:Class .\\n:Cl_Date a rdfs:Class .\\n:Cl_Location a rdfs:Class .\\n:Cl_Play a rdfs:Class .\\n:Cl_Theatre a rdfs:Class .\\n:Cl_City a rdfs:Class .\\n:Cl_Country a rdfs:Class .\\n:Cl_Production a rdfs:Class .\\n:Cl_Author a rdfs:Class .\\n:Cl_TimePeriod a rdfs:Class .\\n:Cl_Act a rdfs:Class .\\n:Cl_Premier a rdfs:Class .\\n:Cl_Newspaper a rdfs:Class .\\n:Cl_StarRating a rdfs:Class .\\n:Cl_Actor a rdfs:Class .\\n:Cl_Employment a rdfs:Class .\\n:Cl_FestivalOccurrence a rdfs:Class .\\n\\n:Cl_FestivalOccurrence rdfs:subClassOf :Cl_TheatreFestival, :Cl_Date, :Cl_Location, :Cl_Play, :Cl_Theatre, :Cl_City, :Cl_Country, :Cl_Production, :Cl_Author, :Cl_TimePeriod, :Cl_Act, :Cl_Premier, :Cl_Newspaper, :Cl_StarRating, :Cl_Actor, :Cl_Employment .\\n\\n:Pr_takesPlaceOn a rdf:Property ;\\n    rdfs:domain :Cl_FestivalOccurrence ;\\n    rdfs:range :Cl_Date .\\n\\n:Pr_isFestival a rdf:Property ;\\n    rdfs:domain :Cl_FestivalOccurrence ;\\n    rdfs:range :Cl_TheatreFestival .\\n\\n:Pr_takesPlaceAt a rdf:Property ;\\n    rdfs:domain :Cl_FestivalOccurrence ;\\n    rdfs:range :Cl_Location .\\n\\n:Pr_includesPlay a rdf:Property ;\\n    rdfs:domain :Cl_FestivalOccurrence ;\\n    rdfs:range :Cl_Play .\\n\\n:Pr_includesTheatre a rdf:Property ;\\n    rdfs:domain :Cl_FestivalOccurrence ;\\n    rdfs:range :Cl_Theatre .\\n\\n:Pr_includesCity a rdf:Property ;\\n    rdfs:domain :Cl_FestivalOccurrence ;\\n    rdfs:range :Cl_City .\\n\\n:Pr_includesCountry a rdf:Property ;\\n    rdfs:domain :Cl_FestivalOccurrence ;\\n    rdfs:range :Cl_Country .\\n\\n:Pr_isBasedOn a rdf:Property ;\\n    rdfs:domain :Cl_FestivalOccurrence ;\\n    rdfs:range :Cl_Production .\\n\\n:Pr_writtenBy a rdf:Property ;\\n    rdfs:domain :Cl_FestivalOccurrence ;\\n    rdfs:range :Cl_Author .\\n\\n:Pr_writtenDuring a rdf:Property ;\\n    rdfs:domain :Cl_FestivalOccurrence ;\\n    rdfs:range :Cl_TimePeriod .\\n\\n:Pr_containsAct a rdf:Property ;\\n    rdfs:domain :Cl_FestivalOccurrence ;\\n    rdfs:range :Cl_Act .\\n\\n:Pr_numberOfActs a rdf:Property ;\\n    rdfs:domain :Cl_Act ;\\n    rdfs:range xsd:integer .\\n\\n:Pr_hasPremier a rdf:Property ;\\n    rdfs:domain :Cl_FestivalOccurrence ;\\n    rdfs:range :Cl_Premier .\\n\\n:Pr_premierDate a rdf:Property ;\\n    rdfs:domain :Cl_Premier ;\\n    rdfs:range :Cl_Date .\\n\\n:Pr_givenBy a rdf:Property ;\\n    rdfs:domain :Cl_FestivalOccurrence ;\\n    rdfs:range :Cl_Newspaper .\\n\\n:Pr_starRating a rdf:Property ;\\n    rdfs:domain :Cl_FestivalOccurrence ;\\n    rdfs:range :Cl_StarRating .\\n\\n:Pr_ratingValue a rdf:Property ;\\n    rdfs:domain :Cl_StarRating ;\\n    rdfs:range xsd:integer .\\n\\n:Pr_includesActor a rdf:Property ;\\n    rdfs:domain :Cl_FestivalOccurrence ;\\n    rdfs:range :Cl_Actor .\\n\\n:Pr_employment a rdf:Property ;\\n    rdfs:domain :Cl_FestivalOccurrence ;\\n    rdfs:range :Cl_Employment .\\n\\n:Pr_startDate a rdf:Property ;\\n    rdfs:domain :Cl_Employment ;\\n    rdfs:range :Cl_Date .\\nThe competency question \"What roles does a certain person have within a certain production at a certain point in time?\" is not answerable by the previous version of the RDF because there is no class or property that represents the roles a person has within a production at a certain point in time.\\n\\nTo answer this competency question, we need to create classes for Person, Role, and TimePoint and add them to the pivot class FestivalOccurrence. The FestivalOccurrence class will now connect the Theatre Festival, Date, Location, Play, Theatre, City, Country, Production, Author, TimePeriod, Act, Premier, Newspaper, StarRating, Actor, Employment, Person, Role, and TimePoint classes.\\n\\nHere is the RDF code:\\n\\n@prefix : <http://www.example.org/test#> .\\n@prefix rdf: <http://www.w3.org/1999/02/22-rdf-syntax-ns#> .\\n@prefix rdfs: <http://www.w3.org/2000/01/rdf-schema#> .\\n@prefix xsd: <http://www.w3.org/2001/XMLSchema#> .\\n\\n:Cl_TheatreFestival a rdfs:Class .\\n:Cl_Date a rdfs:Class .\\n:Cl_Location a rdfs:Class .\\n:Cl_Play a rdfs:Class .\\n:Cl_Theatre a rdfs:Class .\\n:Cl_City a rdfs:Class .\\n:Cl_Country a rdfs:Class .\\n:Cl_Production a rdfs:Class .\\n:Cl_Author a rdfs:Class .\\n:Cl_TimePeriod a rdfs:Class .\\n:Cl_Act a rdfs:Class .\\n:Cl_Premier a rdfs:Class .\\n:Cl_Newspaper a rdfs:Class .\\n:Cl_StarRating a rdfs:Class .\\n:Cl_Actor a rdfs:Class .\\n:Cl_Employment a rdfs:Class .\\n:Cl_Person a rdfs:Class .\\n:Cl_Role a rdfs:Class .\\n:Cl_TimePoint a rdfs:Class .\\n:Cl_FestivalOccurrence a rdfs:Class .\\n\\n:Cl_FestivalOccurrence rdfs:subClassOf :Cl_TheatreFestival, :Cl_Date, :Cl_Location, :Cl_Play, :Cl_Theatre, :Cl_City, :Cl_Country, :Cl_Production, :Cl_Author, :Cl_TimePeriod, :Cl_Act, :Cl_Premier, :Cl_Newspaper, :Cl_StarRating, :Cl_Actor, :Cl_Employment, :Cl_Person, :Cl_Role, :Cl_TimePoint .\\n\\n:Pr_takesPlaceOn a rdf:Property ;\\n    rdfs:domain :Cl_FestivalOccurrence ;\\n    rdfs:range :Cl_Date .\\n\\n:Pr_isFestival a rdf:Property ;\\n    rdfs:domain :Cl_FestivalOccurrence ;\\n    rdfs:range :Cl_TheatreFestival .\\n\\n:Pr_takesPlaceAt a rdf:Property ;\\n    rdfs:domain :Cl_FestivalOccurrence ;\\n    rdfs:range :Cl_Location .\\n\\n:Pr_includesPlay a rdf:Property ;\\n    rdfs:domain :Cl_FestivalOccurrence ;\\n    rdfs:range :Cl_Play .\\n\\n:Pr_includesTheatre a rdf:Property ;\\n    rdfs:domain :Cl_FestivalOccurrence ;\\n    rdfs:range :Cl_Theatre .\\n\\n:Pr_includesCity a rdf:Property ;\\n    rdfs:domain :Cl_FestivalOccurrence ;\\n    rdfs:range :Cl_City .\\n\\n:Pr_includesCountry a rdf:Property ;\\n    rdfs:domain :Cl_FestivalOccurrence ;\\n    rdfs:range :Cl_Country .\\n\\n:Pr_isBasedOn a rdf:Property ;\\n    rdfs:domain :Cl_FestivalOccurrence ;\\n    rdfs:range :Cl_Production .\\n\\n:Pr_writtenBy a rdf:Property ;\\n    rdfs:domain :Cl_FestivalOccurrence ;\\n    rdfs:range :Cl_Author .\\n\\n:Pr_writtenDuring a rdf:Property ;\\n    rdfs:domain :Cl_FestivalOccurrence ;\\n    rdfs:range :Cl_TimePeriod .\\n\\n:Pr_containsAct a rdf:Property ;\\n    rdfs:domain :Cl_FestivalOccurrence ;\\n    rdfs:range :Cl_Act .\\n\\n:Pr_numberOfActs a rdf:Property ;\\n    rdfs:domain :Cl_Act ;\\n    rdfs:range xsd:integer .\\n\\n:Pr_hasPremier a rdf:Property ;\\n    rdfs:domain :Cl_FestivalOccurrence ;\\n    rdfs:range :Cl_Premier .\\n\\n:Pr_premierDate a rdf:Property ;\\n    rdfs:domain :Cl_Premier ;\\n    rdfs:range :Cl_Date .\\n\\n:Pr_givenBy a rdf:Property ;\\n    rdfs:domain :Cl_FestivalOccurrence ;\\n    rdfs:range :Cl_Newspaper .\\n\\n:Pr_starRating a rdf:Property ;\\n    rdfs:domain :Cl_FestivalOccurrence ;\\n    rdfs:range :Cl_StarRating .\\n\\n:Pr_ratingValue a rdf:Property ;\\n    rdfs:domain :Cl_StarRating ;\\n    rdfs:range xsd:integer .\\n\\n:Pr_includesActor a rdf:Property ;\\n    rdfs:domain :Cl_FestivalOccurrence ;\\n    rdfs:range :Cl_Actor .\\n\\n:Pr_employment a rdf:Property ;\\n    rdfs:domain :Cl_FestivalOccurrence ;\\n    rdfs:range :Cl_Employment .\\n\\n:Pr_startDate a rdf:Property ;\\n    rdfs:domain :Cl_Employment ;\\n    rdfs:range :Cl_Date .\\n\\n:Pr_includesPerson a rdf:Property ;\\n    rdfs:domain :Cl_FestivalOccurrence ;\\n    rdfs:range :Cl_Person .\\n\\n:Pr_hasRole a rdf:Property ;\\n    rdfs:domain :Cl_FestivalOccurrence ;\\n    rdfs:range :Cl_Role .\\n\\n:Pr_atTimePoint a rdf:Property ;\\n    rdfs:domain :Cl_FestivalOccurrence ;\\n    rdfs:range :Cl_TimePoint .\\nThe competency question \"A production has exactly one premier.\" is not answerable by the previous version of the RDF because there is no restriction that ensures a production has exactly one premier.\\n\\nTo answer this competency question, we need to add a restriction to the Production class to ensure that it has exactly one Premier.\\n\\nHere is the RDF code:\\n\\n@prefix : <http://www.example.org/test#> .\\n@prefix rdf: <http://www.w3.org/1999/02/22-rdf-syntax-ns#> .\\n@prefix rdfs: <http://www.w3.org/2000/01/rdf-schema#> .\\n@prefix xsd: <http://www.w3.org/2001/XMLSchema#> .\\n@prefix owl: <http://www.w3.org/2002/07/owl#> .\\n\\n:Cl_TheatreFestival a rdfs:Class .\\n:Cl_Date a rdfs:Class .\\n:Cl_Location a rdfs:Class .\\n:Cl_Play a rdfs:Class .\\n:Cl_Theatre a rdfs:Class .\\n:Cl_City a rdfs:Class .\\n:Cl_Country a rdfs:Class .\\n:Cl_Production a rdfs:Class .\\n:Cl_Author a rdfs:Class .\\n:Cl_TimePeriod a rdfs:Class .\\n:Cl_Act a rdfs:Class .\\n:Cl_Premier a rdfs:Class .\\n:Cl_Newspaper a rdfs:Class .\\n:Cl_StarRating a rdfs:Class .\\n:Cl_Actor a rdfs:Class .\\n:Cl_Employment a rdfs:Class .\\n:Cl_Person a rdfs:Class .\\n:Cl_Role a rdfs:Class .\\n:Cl_TimePoint a rdfs:Class .\\n:Cl_FestivalOccurrence a rdfs:Class .\\n\\n:Cl_FestivalOccurrence rdfs:subClassOf :Cl_TheatreFestival, :Cl_Date, :Cl_Location, :Cl_Play, :Cl_Theatre, :Cl_City, :Cl_Country, :Cl_Production, :Cl_Author, :Cl_TimePeriod, :Cl_Act, :Cl_Premier, :Cl_Newspaper, :Cl_StarRating, :Cl_Actor, :Cl_Employment, :Cl_Person, :Cl_Role, :Cl_TimePoint .\\n\\n:Pr_takesPlaceOn a rdf:Property ;\\n    rdfs:domain :Cl_FestivalOccurrence ;\\n    rdfs:range :Cl_Date .\\n\\n:Pr_isFestival a rdf:Property ;\\n    rdfs:domain :Cl_FestivalOccurrence ;\\n    rdfs:range :Cl_TheatreFestival .\\n\\n:Pr_takesPlaceAt a rdf:Property ;\\n    rdfs:domain :Cl_FestivalOccurrence ;\\n    rdfs:range :Cl_Location .\\n\\n:Pr_includesPlay a rdf:Property ;\\n    rdfs:domain :Cl_FestivalOccurrence ;\\n    rdfs:range :Cl_Play .\\n\\n:Pr_includesTheatre a rdf:Property ;\\n    rdfs:domain :Cl_FestivalOccurrence ;\\n    rdfs:range :Cl_Theatre .\\n\\n:Pr_includesCity a rdf:Property ;\\n    rdfs:domain :Cl_FestivalOccurrence ;\\n    rdfs:range :Cl_City .\\n\\n:Pr_includesCountry a rdf:Property ;\\n    rdfs:domain :Cl_FestivalOccurrence ;\\n    rdfs:range :Cl_Country .\\n\\n:Pr_isBasedOn a rdf:Property ;\\n    rdfs:domain :Cl_FestivalOccurrence ;\\n    rdfs:range :Cl_Production .\\n\\n:Pr_writtenBy a rdf:Property ;\\n    rdfs:domain :Cl_FestivalOccurrence ;\\n    rdfs:range :Cl_Author .\\n\\n:Pr_writtenDuring a rdf:Property ;\\n    rdfs:domain :Cl_FestivalOccurrence ;\\n    rdfs:range :Cl_TimePeriod .\\n\\n:Pr_containsAct a rdf:Property ;\\n    rdfs:domain :Cl_FestivalOccurrence ;\\n    rdfs:range :Cl_Act .\\n\\n:Pr_numberOfActs a rdf:Property ;\\n    rdfs:domain :Cl_Act ;\\n    rdfs:range xsd:integer .\\n\\n:Pr_hasPremier a rdf:Property ;\\n    rdfs:domain :Cl_FestivalOccurrence ;\\n    rdfs:range :Cl_Premier .\\n\\n:Pr_premierDate a rdf:Property ;\\n    rdfs:domain :Cl_Premier ;\\n    rdfs:range :Cl_Date .\\n\\n:Pr_givenBy a rdf:Property ;\\n    rdfs:domain :Cl_FestivalOccurrence ;\\n    rdfs:range :Cl_Newspaper .\\n\\n:Pr_starRating a rdf:Property ;\\n    rdfs:domain :Cl_FestivalOccurrence ;\\n    rdfs:range :Cl_StarRating .\\n\\n:Pr_ratingValue a rdf:Property ;\\n    rdfs:domain :Cl_StarRating ;\\n    rdfs:range xsd:integer .\\n\\n:Pr_includesActor a rdf:Property ;\\n    rdfs:domain :Cl_FestivalOccurrence ;\\n    rdfs:range :Cl_Actor .\\n\\n:Pr_employment a rdf:Property ;\\n    rdfs:domain :Cl_FestivalOccurrence ;\\n    rdfs:range :Cl_Employment .\\n\\n:Pr_startDate a rdf:Property ;\\n    rdfs:domain :Cl_Employment ;\\n    rdfs:range :Cl_Date .\\n\\n:Pr_includesPerson a rdf:Property ;\\n    rdfs:domain :Cl_FestivalOccurrence ;\\n    rdfs:range :Cl_Person .\\n\\n:Pr_hasRole a rdf:Property ;\\n    rdfs:domain :Cl_FestivalOccurrence ;\\n    rdfs:range :Cl_Role .\\n\\n:Pr_atTimePoint a rdf:Property ;\\n    rdfs:domain :Cl_FestivalOccurrence ;\\n    rdfs:range :Cl_TimePoint .\\n\\n:Cl_Production owl:equivalentClass [ rdf:type owl:Restriction ;  owl:onProperty :Pr_hasPremier ;  owl:cardinality 1 ] .'"
            ],
            "application/vnd.google.colaboratory.intrinsic+json": {
              "type": "string"
            }
          },
          "metadata": {},
          "execution_count": 17
        }
      ],
      "source": [
        "stories = Datasets()\n",
        "S,CQs = stories.story_theatre,stories.story_theatre_cqs\n",
        "delete_logfile()\n",
        "\n",
        "write_to_log('hospital_music')\n",
        "cqbycq(S,CQs,sleep = 5)"
      ]
    },
    {
      "cell_type": "code",
      "execution_count": null,
      "metadata": {
        "id": "wNP4AM4j1y2O",
        "colab": {
          "base_uri": "https://localhost:8080/"
        },
        "outputId": "ea64d361-2d1a-4967-c835-9d6b2d0fbfee"
      },
      "outputs": [
        {
          "output_type": "execute_result",
          "data": {
            "text/plain": [
              "True"
            ]
          },
          "metadata": {},
          "execution_count": 18
        }
      ],
      "source": [
        "1==1"
      ]
    },
    {
      "cell_type": "code",
      "execution_count": null,
      "metadata": {
        "id": "LTqx6ww81y44"
      },
      "outputs": [],
      "source": []
    },
    {
      "cell_type": "code",
      "execution_count": null,
      "metadata": {
        "id": "vPrtpfIV1y7i"
      },
      "outputs": [],
      "source": []
    },
    {
      "cell_type": "code",
      "execution_count": null,
      "metadata": {
        "id": "VTU39Bhv1zCo"
      },
      "outputs": [],
      "source": []
    },
    {
      "cell_type": "code",
      "execution_count": null,
      "metadata": {
        "id": "RzjVfQmpxCo3"
      },
      "outputs": [],
      "source": [
        "stories = Datasets()\n",
        "S,CQs = stories.story_hospital,stories.story_hospital_cqs\n"
      ]
    },
    {
      "cell_type": "code",
      "execution_count": null,
      "metadata": {
        "colab": {
          "base_uri": "https://localhost:8080/"
        },
        "id": "jA1HOprY_jgR",
        "outputId": "710d9d2f-e6c0-44bd-d58f-9cf3c353a97f"
      },
      "outputs": [
        {
          "name": "stdout",
          "output_type": "stream",
          "text": [
            "1 What medical degrees does a certain person have?\n",
            "2 During what time period did a certain person study for a specific degree?\n",
            "3 When was a certain person first employed at a certain hospital?\n",
            "4 In what city is a certain hospital located?\n",
            "5 In what country is a certain city located?\n",
            "6 Who are the members of a certain union at a certain point in time?\n",
            "7 What role does a certain person have within a certain union group at a certain point in time?\n",
            "8 What is the evaluation statement given by a certain doctor for a certain employee?\n",
            "9 What articles is a specific book or CD composed of?\n",
            "10 How many pages does a particular book contain?\n",
            "11 When was a certain book or CD published?\n",
            "12 When did a certain seminar take place?\n",
            "13 What articles were presented in a certain seminar?\n",
            "14 Where did a certain seminar take place?\n",
            "15 At least one article is always presented at each seminar.\n"
          ]
        }
      ],
      "source": [
        "for i in range(len(CQs)):\n",
        "  print(i+1,CQs[i])"
      ]
    },
    {
      "cell_type": "code",
      "execution_count": null,
      "metadata": {
        "id": "x5s5gIwEADlx"
      },
      "outputs": [],
      "source": []
    }
  ],
  "metadata": {
    "colab": {
      "provenance": []
    },
    "kernelspec": {
      "display_name": "Python 3",
      "name": "python3"
    },
    "language_info": {
      "name": "python"
    }
  },
  "nbformat": 4,
  "nbformat_minor": 0
}